{
  "nbformat": 4,
  "nbformat_minor": 0,
  "metadata": {
    "colab": {
      "name": "Untitled6.ipynb",
      "version": "0.3.2",
      "provenance": []
    },
    "kernelspec": {
      "name": "python2",
      "display_name": "Python 2"
    },
    "accelerator": "GPU"
  },
  "cells": [
    {
      "cell_type": "markdown",
      "metadata": {
        "id": "view-in-github",
        "colab_type": "text"
      },
      "source": [
        "[View in Colaboratory](https://colab.research.google.com/github/Shreyas3108/Multipath-selection-using-ML/blob/master/TreeClass.ipynb)"
      ]
    },
    {
      "metadata": {
        "id": "Qg41CU-0j_kB",
        "colab_type": "code",
        "colab": {
          "resources": {
            "http://localhost:8080/nbextensions/google.colab/files.js": {
              "data": "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",
              "ok": true,
              "headers": [
                [
                  "content-type",
                  "application/javascript"
                ]
              ],
              "status": 200,
              "status_text": ""
            }
          },
          "base_uri": "https://localhost:8080/",
          "height": 91
        },
        "outputId": "96c4e6f6-251d-49ef-8a87-71caee01b4b6"
      },
      "cell_type": "code",
      "source": [
        "from google.colab import files\n",
        "\n",
        "uploaded = files.upload()\n",
        "\n",
        "for fn in uploaded.keys():\n",
        "  print('User uploaded file \"{name}\" with length {length} bytes'.format(\n",
        "      name=fn, length=len(uploaded[fn])))"
      ],
      "execution_count": 1,
      "outputs": [
        {
          "output_type": "display_data",
          "data": {
            "text/plain": [
              "<IPython.core.display.HTML object>"
            ],
            "text/html": [
              "\n",
              "     <input type=\"file\" id=\"files-99b4b23f-f17e-4892-856e-5e64aa8c6e8d\" name=\"files[]\" multiple disabled />\n",
              "     <output id=\"result-99b4b23f-f17e-4892-856e-5e64aa8c6e8d\">\n",
              "      Upload widget is only available when the cell has been executed in the\n",
              "      current browser session. Please rerun this cell to enable.\n",
              "      </output>\n",
              "      <script src=\"/nbextensions/google.colab/files.js\"></script> "
            ]
          },
          "metadata": {
            "tags": []
          }
        },
        {
          "output_type": "stream",
          "text": [
            "Saving mpdata.csv to mpdata.csv\n",
            "User uploaded file \"mpdata.csv\" with length 23625421 bytes\n"
          ],
          "name": "stdout"
        }
      ]
    },
    {
      "metadata": {
        "id": "7YMi7VfokLZD",
        "colab_type": "code",
        "colab": {}
      },
      "cell_type": "code",
      "source": [
        "import pandas as pd \n",
        "import numpy as np "
      ],
      "execution_count": 0,
      "outputs": []
    },
    {
      "metadata": {
        "id": "on8Sz2-PlxzU",
        "colab_type": "code",
        "colab": {}
      },
      "cell_type": "code",
      "source": [
        "data = pd.read_csv('mpdata.csv')"
      ],
      "execution_count": 0,
      "outputs": []
    },
    {
      "metadata": {
        "id": "AyCxDCFml2uC",
        "colab_type": "code",
        "colab": {
          "base_uri": "https://localhost:8080/",
          "height": 314
        },
        "outputId": "44f2e1a2-367a-4a81-e589-ee4d9165ab3a"
      },
      "cell_type": "code",
      "source": [
        "data.head()"
      ],
      "execution_count": 3,
      "outputs": [
        {
          "output_type": "execute_result",
          "data": {
            "text/html": [
              "<div>\n",
              "<style scoped>\n",
              "    .dataframe tbody tr th:only-of-type {\n",
              "        vertical-align: middle;\n",
              "    }\n",
              "\n",
              "    .dataframe tbody tr th {\n",
              "        vertical-align: top;\n",
              "    }\n",
              "\n",
              "    .dataframe thead th {\n",
              "        text-align: right;\n",
              "    }\n",
              "</style>\n",
              "<table border=\"1\" class=\"dataframe\">\n",
              "  <thead>\n",
              "    <tr style=\"text-align: right;\">\n",
              "      <th></th>\n",
              "      <th>name</th>\n",
              "      <th>time</th>\n",
              "      <th>EncodingPath</th>\n",
              "      <th>Producer</th>\n",
              "      <th>bandwidth</th>\n",
              "      <th>input-data-rate</th>\n",
              "      <th>input-load</th>\n",
              "      <th>input-packet-rate</th>\n",
              "      <th>interface-name</th>\n",
              "      <th>load-interval</th>\n",
              "      <th>output-data-rate</th>\n",
              "      <th>output-load</th>\n",
              "      <th>output-packet-rate</th>\n",
              "      <th>reliability</th>\n",
              "      <th>peak-input-data-rate</th>\n",
              "      <th>peak-output-data-rate</th>\n",
              "      <th>peak-input-packet-rate</th>\n",
              "      <th>peak-output-packet-rate</th>\n",
              "      <th>delay</th>\n",
              "    </tr>\n",
              "  </thead>\n",
              "  <tbody>\n",
              "    <tr>\n",
              "      <th>0</th>\n",
              "      <td>Cisco-IOS-XR-infra-statsd-oper:infra-statistic...</td>\n",
              "      <td>1501867007733000000</td>\n",
              "      <td>Cisco-IOS-XR-infra-statsd-oper:infra-statistic...</td>\n",
              "      <td>leaf1</td>\n",
              "      <td>100000000.0</td>\n",
              "      <td>7214502.0</td>\n",
              "      <td>18.0</td>\n",
              "      <td>639356.0</td>\n",
              "      <td>Path-1</td>\n",
              "      <td>0.0</td>\n",
              "      <td>12225031.0</td>\n",
              "      <td>31.0</td>\n",
              "      <td>1080487.0</td>\n",
              "      <td>255.0</td>\n",
              "      <td>0.0</td>\n",
              "      <td>0.0</td>\n",
              "      <td>0.0</td>\n",
              "      <td>0.0</td>\n",
              "      <td>0</td>\n",
              "    </tr>\n",
              "    <tr>\n",
              "      <th>1</th>\n",
              "      <td>Cisco-IOS-XR-infra-statsd-oper:infra-statistic...</td>\n",
              "      <td>1501867007735000000</td>\n",
              "      <td>Cisco-IOS-XR-infra-statsd-oper:infra-statistic...</td>\n",
              "      <td>leaf1</td>\n",
              "      <td>100000000.0</td>\n",
              "      <td>6564805.0</td>\n",
              "      <td>16.0</td>\n",
              "      <td>598775.0</td>\n",
              "      <td>Path-1</td>\n",
              "      <td>0.0</td>\n",
              "      <td>11132639.0</td>\n",
              "      <td>28.0</td>\n",
              "      <td>980453.0</td>\n",
              "      <td>255.0</td>\n",
              "      <td>0.0</td>\n",
              "      <td>0.0</td>\n",
              "      <td>0.0</td>\n",
              "      <td>0.0</td>\n",
              "      <td>7</td>\n",
              "    </tr>\n",
              "    <tr>\n",
              "      <th>2</th>\n",
              "      <td>Cisco-IOS-XR-infra-statsd-oper:infra-statistic...</td>\n",
              "      <td>1501867007738000000</td>\n",
              "      <td>Cisco-IOS-XR-infra-statsd-oper:infra-statistic...</td>\n",
              "      <td>leaf1</td>\n",
              "      <td>100000000.0</td>\n",
              "      <td>13838151.0</td>\n",
              "      <td>35.0</td>\n",
              "      <td>1217949.0</td>\n",
              "      <td>Path-1</td>\n",
              "      <td>0.0</td>\n",
              "      <td>9664580.0</td>\n",
              "      <td>24.0</td>\n",
              "      <td>856189.0</td>\n",
              "      <td>255.0</td>\n",
              "      <td>0.0</td>\n",
              "      <td>0.0</td>\n",
              "      <td>0.0</td>\n",
              "      <td>0.0</td>\n",
              "      <td>3</td>\n",
              "    </tr>\n",
              "    <tr>\n",
              "      <th>3</th>\n",
              "      <td>Cisco-IOS-XR-infra-statsd-oper:infra-statistic...</td>\n",
              "      <td>1501867007740000000</td>\n",
              "      <td>Cisco-IOS-XR-infra-statsd-oper:infra-statistic...</td>\n",
              "      <td>leaf1</td>\n",
              "      <td>100000000.0</td>\n",
              "      <td>10752468.0</td>\n",
              "      <td>27.0</td>\n",
              "      <td>968818.0</td>\n",
              "      <td>Path-1</td>\n",
              "      <td>0.0</td>\n",
              "      <td>13502426.0</td>\n",
              "      <td>34.0</td>\n",
              "      <td>1146930.0</td>\n",
              "      <td>255.0</td>\n",
              "      <td>0.0</td>\n",
              "      <td>0.0</td>\n",
              "      <td>0.0</td>\n",
              "      <td>0.0</td>\n",
              "      <td>0</td>\n",
              "    </tr>\n",
              "    <tr>\n",
              "      <th>4</th>\n",
              "      <td>Cisco-IOS-XR-infra-statsd-oper:infra-statistic...</td>\n",
              "      <td>1501867007742000000</td>\n",
              "      <td>Cisco-IOS-XR-infra-statsd-oper:infra-statistic...</td>\n",
              "      <td>leaf1</td>\n",
              "      <td>100000000.0</td>\n",
              "      <td>6925863.0</td>\n",
              "      <td>17.0</td>\n",
              "      <td>605078.0</td>\n",
              "      <td>Path-2</td>\n",
              "      <td>0.0</td>\n",
              "      <td>12163551.0</td>\n",
              "      <td>31.0</td>\n",
              "      <td>1055221.0</td>\n",
              "      <td>255.0</td>\n",
              "      <td>0.0</td>\n",
              "      <td>0.0</td>\n",
              "      <td>0.0</td>\n",
              "      <td>0.0</td>\n",
              "      <td>8</td>\n",
              "    </tr>\n",
              "  </tbody>\n",
              "</table>\n",
              "</div>"
            ],
            "text/plain": [
              "                                                name                 time  \\\n",
              "0  Cisco-IOS-XR-infra-statsd-oper:infra-statistic...  1501867007733000000   \n",
              "1  Cisco-IOS-XR-infra-statsd-oper:infra-statistic...  1501867007735000000   \n",
              "2  Cisco-IOS-XR-infra-statsd-oper:infra-statistic...  1501867007738000000   \n",
              "3  Cisco-IOS-XR-infra-statsd-oper:infra-statistic...  1501867007740000000   \n",
              "4  Cisco-IOS-XR-infra-statsd-oper:infra-statistic...  1501867007742000000   \n",
              "\n",
              "                                        EncodingPath Producer    bandwidth  \\\n",
              "0  Cisco-IOS-XR-infra-statsd-oper:infra-statistic...    leaf1  100000000.0   \n",
              "1  Cisco-IOS-XR-infra-statsd-oper:infra-statistic...    leaf1  100000000.0   \n",
              "2  Cisco-IOS-XR-infra-statsd-oper:infra-statistic...    leaf1  100000000.0   \n",
              "3  Cisco-IOS-XR-infra-statsd-oper:infra-statistic...    leaf1  100000000.0   \n",
              "4  Cisco-IOS-XR-infra-statsd-oper:infra-statistic...    leaf1  100000000.0   \n",
              "\n",
              "   input-data-rate  input-load  input-packet-rate interface-name  \\\n",
              "0        7214502.0        18.0           639356.0         Path-1   \n",
              "1        6564805.0        16.0           598775.0         Path-1   \n",
              "2       13838151.0        35.0          1217949.0         Path-1   \n",
              "3       10752468.0        27.0           968818.0         Path-1   \n",
              "4        6925863.0        17.0           605078.0         Path-2   \n",
              "\n",
              "   load-interval  output-data-rate  output-load  output-packet-rate  \\\n",
              "0            0.0        12225031.0         31.0           1080487.0   \n",
              "1            0.0        11132639.0         28.0            980453.0   \n",
              "2            0.0         9664580.0         24.0            856189.0   \n",
              "3            0.0        13502426.0         34.0           1146930.0   \n",
              "4            0.0        12163551.0         31.0           1055221.0   \n",
              "\n",
              "   reliability  peak-input-data-rate  peak-output-data-rate  \\\n",
              "0        255.0                   0.0                    0.0   \n",
              "1        255.0                   0.0                    0.0   \n",
              "2        255.0                   0.0                    0.0   \n",
              "3        255.0                   0.0                    0.0   \n",
              "4        255.0                   0.0                    0.0   \n",
              "\n",
              "   peak-input-packet-rate  peak-output-packet-rate  delay  \n",
              "0                     0.0                      0.0      0  \n",
              "1                     0.0                      0.0      7  \n",
              "2                     0.0                      0.0      3  \n",
              "3                     0.0                      0.0      0  \n",
              "4                     0.0                      0.0      8  "
            ]
          },
          "metadata": {
            "tags": []
          },
          "execution_count": 3
        }
      ]
    },
    {
      "metadata": {
        "id": "Ownuw40Fl5jL",
        "colab_type": "code",
        "colab": {}
      },
      "cell_type": "code",
      "source": [
        "from sklearn.preprocessing import LabelEncoder"
      ],
      "execution_count": 0,
      "outputs": []
    },
    {
      "metadata": {
        "id": "NnZytRMSmJRk",
        "colab_type": "code",
        "colab": {}
      },
      "cell_type": "code",
      "source": [
        "le = LabelEncoder()\n",
        "data['path'] = le.fit_transform(data['interface-name'])"
      ],
      "execution_count": 0,
      "outputs": []
    },
    {
      "metadata": {
        "id": "D3TTI7VymNx0",
        "colab_type": "code",
        "colab": {}
      },
      "cell_type": "code",
      "source": [
        "data = pd.get_dummies(data , columns= ['Producer'])"
      ],
      "execution_count": 0,
      "outputs": []
    },
    {
      "metadata": {
        "id": "ETJu-BprmR8F",
        "colab_type": "code",
        "colab": {
          "base_uri": "https://localhost:8080/",
          "height": 697
        },
        "outputId": "b016d5b9-5f5f-45b3-979e-1d19c02fcd9e"
      },
      "cell_type": "code",
      "source": [
        "data.head()"
      ],
      "execution_count": 7,
      "outputs": [
        {
          "output_type": "execute_result",
          "data": {
            "text/html": [
              "<div>\n",
              "<style scoped>\n",
              "    .dataframe tbody tr th:only-of-type {\n",
              "        vertical-align: middle;\n",
              "    }\n",
              "\n",
              "    .dataframe tbody tr th {\n",
              "        vertical-align: top;\n",
              "    }\n",
              "\n",
              "    .dataframe thead th {\n",
              "        text-align: right;\n",
              "    }\n",
              "</style>\n",
              "<table border=\"1\" class=\"dataframe\">\n",
              "  <thead>\n",
              "    <tr style=\"text-align: right;\">\n",
              "      <th></th>\n",
              "      <th>name</th>\n",
              "      <th>time</th>\n",
              "      <th>EncodingPath</th>\n",
              "      <th>bandwidth</th>\n",
              "      <th>input-data-rate</th>\n",
              "      <th>input-load</th>\n",
              "      <th>input-packet-rate</th>\n",
              "      <th>interface-name</th>\n",
              "      <th>load-interval</th>\n",
              "      <th>output-data-rate</th>\n",
              "      <th>...</th>\n",
              "      <th>Producer_leaf3</th>\n",
              "      <th>Producer_leaf4</th>\n",
              "      <th>Producer_leaf5</th>\n",
              "      <th>Producer_leaf6</th>\n",
              "      <th>Producer_leaf7</th>\n",
              "      <th>Producer_leaf8</th>\n",
              "      <th>Producer_spine1</th>\n",
              "      <th>Producer_spine2</th>\n",
              "      <th>Producer_spine3</th>\n",
              "      <th>Producer_spine4</th>\n",
              "    </tr>\n",
              "  </thead>\n",
              "  <tbody>\n",
              "    <tr>\n",
              "      <th>0</th>\n",
              "      <td>Cisco-IOS-XR-infra-statsd-oper:infra-statistic...</td>\n",
              "      <td>1501867007733000000</td>\n",
              "      <td>Cisco-IOS-XR-infra-statsd-oper:infra-statistic...</td>\n",
              "      <td>100000000.0</td>\n",
              "      <td>7214502.0</td>\n",
              "      <td>18.0</td>\n",
              "      <td>639356.0</td>\n",
              "      <td>Path-1</td>\n",
              "      <td>0.0</td>\n",
              "      <td>12225031.0</td>\n",
              "      <td>...</td>\n",
              "      <td>0</td>\n",
              "      <td>0</td>\n",
              "      <td>0</td>\n",
              "      <td>0</td>\n",
              "      <td>0</td>\n",
              "      <td>0</td>\n",
              "      <td>0</td>\n",
              "      <td>0</td>\n",
              "      <td>0</td>\n",
              "      <td>0</td>\n",
              "    </tr>\n",
              "    <tr>\n",
              "      <th>1</th>\n",
              "      <td>Cisco-IOS-XR-infra-statsd-oper:infra-statistic...</td>\n",
              "      <td>1501867007735000000</td>\n",
              "      <td>Cisco-IOS-XR-infra-statsd-oper:infra-statistic...</td>\n",
              "      <td>100000000.0</td>\n",
              "      <td>6564805.0</td>\n",
              "      <td>16.0</td>\n",
              "      <td>598775.0</td>\n",
              "      <td>Path-1</td>\n",
              "      <td>0.0</td>\n",
              "      <td>11132639.0</td>\n",
              "      <td>...</td>\n",
              "      <td>0</td>\n",
              "      <td>0</td>\n",
              "      <td>0</td>\n",
              "      <td>0</td>\n",
              "      <td>0</td>\n",
              "      <td>0</td>\n",
              "      <td>0</td>\n",
              "      <td>0</td>\n",
              "      <td>0</td>\n",
              "      <td>0</td>\n",
              "    </tr>\n",
              "    <tr>\n",
              "      <th>2</th>\n",
              "      <td>Cisco-IOS-XR-infra-statsd-oper:infra-statistic...</td>\n",
              "      <td>1501867007738000000</td>\n",
              "      <td>Cisco-IOS-XR-infra-statsd-oper:infra-statistic...</td>\n",
              "      <td>100000000.0</td>\n",
              "      <td>13838151.0</td>\n",
              "      <td>35.0</td>\n",
              "      <td>1217949.0</td>\n",
              "      <td>Path-1</td>\n",
              "      <td>0.0</td>\n",
              "      <td>9664580.0</td>\n",
              "      <td>...</td>\n",
              "      <td>0</td>\n",
              "      <td>0</td>\n",
              "      <td>0</td>\n",
              "      <td>0</td>\n",
              "      <td>0</td>\n",
              "      <td>0</td>\n",
              "      <td>0</td>\n",
              "      <td>0</td>\n",
              "      <td>0</td>\n",
              "      <td>0</td>\n",
              "    </tr>\n",
              "    <tr>\n",
              "      <th>3</th>\n",
              "      <td>Cisco-IOS-XR-infra-statsd-oper:infra-statistic...</td>\n",
              "      <td>1501867007740000000</td>\n",
              "      <td>Cisco-IOS-XR-infra-statsd-oper:infra-statistic...</td>\n",
              "      <td>100000000.0</td>\n",
              "      <td>10752468.0</td>\n",
              "      <td>27.0</td>\n",
              "      <td>968818.0</td>\n",
              "      <td>Path-1</td>\n",
              "      <td>0.0</td>\n",
              "      <td>13502426.0</td>\n",
              "      <td>...</td>\n",
              "      <td>0</td>\n",
              "      <td>0</td>\n",
              "      <td>0</td>\n",
              "      <td>0</td>\n",
              "      <td>0</td>\n",
              "      <td>0</td>\n",
              "      <td>0</td>\n",
              "      <td>0</td>\n",
              "      <td>0</td>\n",
              "      <td>0</td>\n",
              "    </tr>\n",
              "    <tr>\n",
              "      <th>4</th>\n",
              "      <td>Cisco-IOS-XR-infra-statsd-oper:infra-statistic...</td>\n",
              "      <td>1501867007742000000</td>\n",
              "      <td>Cisco-IOS-XR-infra-statsd-oper:infra-statistic...</td>\n",
              "      <td>100000000.0</td>\n",
              "      <td>6925863.0</td>\n",
              "      <td>17.0</td>\n",
              "      <td>605078.0</td>\n",
              "      <td>Path-2</td>\n",
              "      <td>0.0</td>\n",
              "      <td>12163551.0</td>\n",
              "      <td>...</td>\n",
              "      <td>0</td>\n",
              "      <td>0</td>\n",
              "      <td>0</td>\n",
              "      <td>0</td>\n",
              "      <td>0</td>\n",
              "      <td>0</td>\n",
              "      <td>0</td>\n",
              "      <td>0</td>\n",
              "      <td>0</td>\n",
              "      <td>0</td>\n",
              "    </tr>\n",
              "  </tbody>\n",
              "</table>\n",
              "<p>5 rows × 31 columns</p>\n",
              "</div>"
            ],
            "text/plain": [
              "                                                name                 time  \\\n",
              "0  Cisco-IOS-XR-infra-statsd-oper:infra-statistic...  1501867007733000000   \n",
              "1  Cisco-IOS-XR-infra-statsd-oper:infra-statistic...  1501867007735000000   \n",
              "2  Cisco-IOS-XR-infra-statsd-oper:infra-statistic...  1501867007738000000   \n",
              "3  Cisco-IOS-XR-infra-statsd-oper:infra-statistic...  1501867007740000000   \n",
              "4  Cisco-IOS-XR-infra-statsd-oper:infra-statistic...  1501867007742000000   \n",
              "\n",
              "                                        EncodingPath    bandwidth  \\\n",
              "0  Cisco-IOS-XR-infra-statsd-oper:infra-statistic...  100000000.0   \n",
              "1  Cisco-IOS-XR-infra-statsd-oper:infra-statistic...  100000000.0   \n",
              "2  Cisco-IOS-XR-infra-statsd-oper:infra-statistic...  100000000.0   \n",
              "3  Cisco-IOS-XR-infra-statsd-oper:infra-statistic...  100000000.0   \n",
              "4  Cisco-IOS-XR-infra-statsd-oper:infra-statistic...  100000000.0   \n",
              "\n",
              "   input-data-rate  input-load  input-packet-rate interface-name  \\\n",
              "0        7214502.0        18.0           639356.0         Path-1   \n",
              "1        6564805.0        16.0           598775.0         Path-1   \n",
              "2       13838151.0        35.0          1217949.0         Path-1   \n",
              "3       10752468.0        27.0           968818.0         Path-1   \n",
              "4        6925863.0        17.0           605078.0         Path-2   \n",
              "\n",
              "   load-interval  output-data-rate       ...         Producer_leaf3  \\\n",
              "0            0.0        12225031.0       ...                      0   \n",
              "1            0.0        11132639.0       ...                      0   \n",
              "2            0.0         9664580.0       ...                      0   \n",
              "3            0.0        13502426.0       ...                      0   \n",
              "4            0.0        12163551.0       ...                      0   \n",
              "\n",
              "   Producer_leaf4  Producer_leaf5  Producer_leaf6  Producer_leaf7  \\\n",
              "0               0               0               0               0   \n",
              "1               0               0               0               0   \n",
              "2               0               0               0               0   \n",
              "3               0               0               0               0   \n",
              "4               0               0               0               0   \n",
              "\n",
              "   Producer_leaf8  Producer_spine1  Producer_spine2  Producer_spine3  \\\n",
              "0               0                0                0                0   \n",
              "1               0                0                0                0   \n",
              "2               0                0                0                0   \n",
              "3               0                0                0                0   \n",
              "4               0                0                0                0   \n",
              "\n",
              "   Producer_spine4  \n",
              "0                0  \n",
              "1                0  \n",
              "2                0  \n",
              "3                0  \n",
              "4                0  \n",
              "\n",
              "[5 rows x 31 columns]"
            ]
          },
          "metadata": {
            "tags": []
          },
          "execution_count": 7
        }
      ]
    },
    {
      "metadata": {
        "id": "zWqd3Jg5mdhO",
        "colab_type": "code",
        "colab": {}
      },
      "cell_type": "code",
      "source": [
        "inp = data[['bandwidth','input-data-rate','input-load','load-interval','output-data-rate','output-load',\n",
        "            'output-packet-rate','reliability','peak-input-data-rate','peak-output-data-rate'\n",
        "           ,'peak-input-packet-rate', 'peak-output-packet-rate', 'delay','Producer_leaf1', \n",
        "            'Producer_leaf2', 'Producer_leaf3', 'Producer_leaf4','Producer_leaf5',\n",
        "            'Producer_leaf6', 'Producer_leaf7', 'Producer_leaf8',\n",
        "           'Producer_spine1', 'Producer_spine2', 'Producer_spine3',\n",
        "           'Producer_spine4']] \n",
        "out = data['path']"
      ],
      "execution_count": 0,
      "outputs": []
    },
    {
      "metadata": {
        "id": "W34IzRy4nBdk",
        "colab_type": "code",
        "colab": {}
      },
      "cell_type": "code",
      "source": [
        "from sklearn.cross_validation import train_test_split\n",
        "x_train , y_train , x_test , y_test = train_test_split(inp , out ,\n",
        "                                                       test_size = 0.3,random)"
      ],
      "execution_count": 0,
      "outputs": []
    },
    {
      "metadata": {
        "id": "lMgkm96oncTt",
        "colab_type": "code",
        "colab": {
          "base_uri": "https://localhost:8080/",
          "height": 319
        },
        "outputId": "a11e3535-5a5e-47f4-e2c4-4b91a9405d8d"
      },
      "cell_type": "code",
      "source": [
        "!pip install pandas-ml"
      ],
      "execution_count": 13,
      "outputs": [
        {
          "output_type": "stream",
          "text": [
            "Collecting pandas-ml\n",
            "  Downloading https://files.pythonhosted.org/packages/c1/28/19289aabaecac9bd7ea34c43310fa16bbdda818e1f635747e81b376526ca/pandas_ml-0.5.0.tar.gz (76kB)\n",
            "\u001b[K    100% |████████████████████████████████| 81kB 2.2MB/s \n",
            "\u001b[?25hRequirement already satisfied: pandas>=0.17.0 in /usr/local/lib/python2.7/dist-packages (from pandas-ml)\n",
            "Requirement already satisfied: enum34 in /usr/local/lib/python2.7/dist-packages (from pandas-ml)\n",
            "Requirement already satisfied: pytz>=2011k in /usr/local/lib/python2.7/dist-packages (from pandas>=0.17.0->pandas-ml)\n",
            "Requirement already satisfied: python-dateutil in /usr/local/lib/python2.7/dist-packages (from pandas>=0.17.0->pandas-ml)\n",
            "Requirement already satisfied: numpy>=1.9.0 in /usr/local/lib/python2.7/dist-packages (from pandas>=0.17.0->pandas-ml)\n",
            "Requirement already satisfied: six>=1.5 in /usr/local/lib/python2.7/dist-packages (from python-dateutil->pandas>=0.17.0->pandas-ml)\n",
            "Building wheels for collected packages: pandas-ml\n",
            "  Running setup.py bdist_wheel for pandas-ml ... \u001b[?25l-\b \bdone\n",
            "\u001b[?25h  Stored in directory: /content/.cache/pip/wheels/4b/b0/88/51fb7203a0f81becae3e92d5bf9fee0460375e5408e67a7dc3\n",
            "Successfully built pandas-ml\n",
            "Installing collected packages: pandas-ml\n",
            "Successfully installed pandas-ml-0.5.0\n",
            "\u001b[33mYou are using pip version 9.0.3, however version 10.0.1 is available.\n",
            "You should consider upgrading via the 'pip install --upgrade pip' command.\u001b[0m\n"
          ],
          "name": "stdout"
        }
      ]
    },
    {
      "metadata": {
        "id": "h5wY0pRunJ35",
        "colab_type": "code",
        "colab": {
          "base_uri": "https://localhost:8080/",
          "height": 748
        },
        "outputId": "1a9bc0f9-b3bf-4b2e-cdf4-875876ae3dc7"
      },
      "cell_type": "code",
      "source": [
        "from sklearn.tree import DecisionTreeClassifier \n",
        "from sklearn.metrics import accuracy_score , confusion_matrix\n",
        "from pandas_ml import ConfusionMatrix\n",
        "\n",
        "mod = DecisionTreeClassifier() \n",
        "mod.fit(x_train , x_test) \n",
        "pred = mod.predict(y_train) \n",
        "y_pred = accuracy_score(y_test , pred)\n",
        "print(y_pred * 100)\n",
        "cm = ConfusionMatrix(y_test , pred)\n",
        "cm.plot()\n",
        "print('Accuracy Score : ' , y_pred*100) \n",
        "print(mod)\n",
        "print(cm)"
      ],
      "execution_count": 47,
      "outputs": [
        {
          "output_type": "stream",
          "text": [
            "84.47276940903824\n",
            "('Accuracy Score : ', 84.47276940903824)\n",
            "DecisionTreeClassifier(class_weight=None, criterion='gini', max_depth=None,\n",
            "            max_features=None, max_leaf_nodes=None,\n",
            "            min_impurity_decrease=0.0, min_impurity_split=None,\n",
            "            min_samples_leaf=1, min_samples_split=2,\n",
            "            min_weight_fraction_leaf=0.0, presort=False, random_state=None,\n",
            "            splitter='best')\n",
            "Predicted     0     1     2     3  __all__\n",
            "Actual                                    \n",
            "0           455   458   446   445     1804\n",
            "1           469   469   462   436     1836\n",
            "2           433   441   463   444     1781\n",
            "3           483   469   486   447     1885\n",
            "__all__    1840  1837  1857  1772     7306\n"
          ],
          "name": "stdout"
        },
        {
          "output_type": "display_data",
          "data": {
            "image/png": "[encoded data removed]",
            "text/plain": [
              "<matplotlib.figure.Figure at 0x7f2d716f3550>"
            ]
          },
          "metadata": {
            "tags": []
          }
        }
      ]
    },
    {
      "metadata": {
        "id": "7klsjw52nmSI",
        "colab_type": "code",
        "colab": {
          "base_uri": "https://localhost:8080/",
          "height": 730
        },
        "outputId": "a74d0b4e-5037-4edd-e882-f5f235d49177"
      },
      "cell_type": "code",
      "source": [
        ""
      ],
      "execution_count": 36,
      "outputs": [
        {
          "output_type": "stream",
          "text": [
            "('Accuracy Score : ', 84.51829167356398)\n",
            "DecisionTreeClassifier(class_weight=None, criterion='gini', max_depth=None,\n",
            "            max_features=None, max_leaf_nodes=None,\n",
            "            min_impurity_decrease=0.0, min_impurity_split=None,\n",
            "            min_samples_leaf=1, min_samples_split=2,\n",
            "            min_weight_fraction_leaf=0.0, presort=False, random_state=None,\n",
            "            splitter='best')\n",
            "Predicted     0     1     2     3  __all__\n",
            "Actual                                    \n",
            "0           452   458   443   451     1804\n",
            "1           481   472   448   435     1836\n",
            "2           439   442   452   448     1781\n",
            "3           479   467   486   453     1885\n",
            "__all__    1851  1839  1829  1787     7306\n"
          ],
          "name": "stdout"
        },
        {
          "output_type": "display_data",
          "data": {
            "image/png": "[encoded data removed]",
            "text/plain": [
              "<matplotlib.figure.Figure at 0x7f2d719ccfd0>"
            ]
          },
          "metadata": {
            "tags": []
          }
        }
      ]
    },
    {
      "metadata": {
        "id": "OH_ZLKDenmvU",
        "colab_type": "code",
        "colab": {
          "base_uri": "https://localhost:8080/",
          "height": 730
        },
        "outputId": "233d2245-e9b5-4814-82d4-1f8fc1d8308f"
      },
      "cell_type": "code",
      "source": [
        "mod = DecisionTreeClassifier(criterion = 'entropy' , max_depth = 400) \n",
        "\n",
        "mod.fit(x_train , x_test) \n",
        "pred = mod.predict(y_train) \n",
        "y_pred = accuracy_score(y_test , pred)\n",
        "cm = ConfusionMatrix(y_test , pred)\n",
        "cm.plot()\n",
        "print('Accuracy Score : ' , y_pred*100) \n",
        "print(mod)\n",
        "print(cm)"
      ],
      "execution_count": 37,
      "outputs": [
        {
          "output_type": "stream",
          "text": [
            "('Accuracy Score : ', 84.66727363019368)\n",
            "DecisionTreeClassifier(class_weight=None, criterion='entropy', max_depth=400,\n",
            "            max_features=None, max_leaf_nodes=None,\n",
            "            min_impurity_decrease=0.0, min_impurity_split=None,\n",
            "            min_samples_leaf=1, min_samples_split=2,\n",
            "            min_weight_fraction_leaf=0.0, presort=False, random_state=None,\n",
            "            splitter='best')\n",
            "Predicted     0     1     2     3  __all__\n",
            "Actual                                    \n",
            "0           460   469   448   427     1804\n",
            "1           480   451   464   441     1836\n",
            "2           443   449   450   439     1781\n",
            "3           488   474   483   440     1885\n",
            "__all__    1871  1843  1845  1747     7306\n"
          ],
          "name": "stdout"
        },
        {
          "output_type": "display_data",
          "data": {
            "image/png": "[encoded data removed]",
            "text/plain": [
              "<matplotlib.figure.Figure at 0x7f2d718c8b90>"
            ]
          },
          "metadata": {
            "tags": []
          }
        }
      ]
    },
    {
      "metadata": {
        "id": "YiczUkjvn4Nv",
        "colab_type": "code",
        "colab": {
          "base_uri": "https://localhost:8080/",
          "height": 694
        },
        "outputId": "91f09010-0bff-469b-bebd-da32c46e2b5d"
      },
      "cell_type": "code",
      "source": [
        "from sklearn.linear_model import LogisticRegression\n",
        "mod = LogisticRegression(multi_class = 'multinomial' , solver='lbfgs') \n",
        "mod.fit(x_train , x_test) \n",
        "pred = mod.predict(y_train) \n",
        "y_pred = accuracy_score(y_test , pred)\n",
        "cm = ConfusionMatrix(y_test , pred)\n",
        "cm.plot()\n",
        "print('Accuracy Score : ' , y_pred*100) \n",
        "print(mod)\n",
        "print(cm)"
      ],
      "execution_count": 38,
      "outputs": [
        {
          "output_type": "stream",
          "text": [
            "('Accuracy Score : ', 37.332395298791596)\n",
            "LogisticRegression(C=1.0, class_weight=None, dual=False, fit_intercept=True,\n",
            "          intercept_scaling=1, max_iter=100, multi_class='multinomial',\n",
            "          n_jobs=1, penalty='l2', random_state=None, solver='lbfgs',\n",
            "          tol=0.0001, verbose=0, warm_start=False)\n",
            "Predicted     0     1    2     3  __all__\n",
            "Actual                                   \n",
            "0           692   521  175   416     1804\n",
            "1           720   503  161   452     1836\n",
            "2           675   532  173   401     1781\n",
            "3           693   529  172   491     1885\n",
            "__all__    2780  2085  681  1760     7306\n"
          ],
          "name": "stdout"
        },
        {
          "output_type": "display_data",
          "data": {
            "image/png": "[encoded data removed]",
            "text/plain": [
              "<matplotlib.figure.Figure at 0x7f2d71867450>"
            ]
          },
          "metadata": {
            "tags": []
          }
        }
      ]
    },
    {
      "metadata": {
        "id": "VPGphAWioL0f",
        "colab_type": "code",
        "colab": {
          "base_uri": "https://localhost:8080/",
          "height": 765
        },
        "outputId": "cb78a07b-2447-4828-a7b1-43ab718b6433"
      },
      "cell_type": "code",
      "source": [
        "from sklearn.ensemble import GradientBoostingClassifier\n",
        "mod = GradientBoostingClassifier() \n",
        "mod.fit(x_train , x_test) \n",
        "pred = mod.predict(y_train) \n",
        "y_pred = accuracy_score(y_test , pred)\n",
        "cm = ConfusionMatrix(y_test , pred)\n",
        "cm.plot()\n",
        "print('Accuracy Score : ' , y_pred*100) \n",
        "print(mod)\n",
        "print(cm)"
      ],
      "execution_count": 39,
      "outputs": [
        {
          "output_type": "stream",
          "text": [
            "('Accuracy Score : ', 75.20691938420792)\n",
            "GradientBoostingClassifier(criterion='friedman_mse', init=None,\n",
            "              learning_rate=0.1, loss='deviance', max_depth=3,\n",
            "              max_features=None, max_leaf_nodes=None,\n",
            "              min_impurity_decrease=0.0, min_impurity_split=None,\n",
            "              min_samples_leaf=1, min_samples_split=2,\n",
            "              min_weight_fraction_leaf=0.0, n_estimators=100,\n",
            "              presort='auto', random_state=None, subsample=1.0, verbose=0,\n",
            "              warm_start=False)\n",
            "Predicted     0     1     2     3  __all__\n",
            "Actual                                    \n",
            "0           447   445   430   482     1804\n",
            "1           450   473   421   492     1836\n",
            "2           435   469   433   444     1781\n",
            "3           472   453   453   507     1885\n",
            "__all__    1804  1840  1737  1925     7306\n"
          ],
          "name": "stdout"
        },
        {
          "output_type": "display_data",
          "data": {
            "image/png": "[encoded data removed]",
            "text/plain": [
              "<matplotlib.figure.Figure at 0x7f2d7f061410>"
            ]
          },
          "metadata": {
            "tags": []
          }
        }
      ]
    },
    {
      "metadata": {
        "id": "His1JoJYof-x",
        "colab_type": "code",
        "colab": {}
      },
      "cell_type": "code",
      "source": [
        "from sklearn.ensemble import RandomForestClassifier"
      ],
      "execution_count": 0,
      "outputs": []
    },
    {
      "metadata": {
        "id": "_xsdtBSMprVM",
        "colab_type": "code",
        "colab": {
          "base_uri": "https://localhost:8080/",
          "height": 748
        },
        "outputId": "d03675eb-d4f1-455b-f766-c02b31f0b39e"
      },
      "cell_type": "code",
      "source": [
        "mod2 = RandomForestClassifier()\n",
        "mod2.fit(x_train , x_test)\n",
        "pred2 = mod2.predict(y_train)\n",
        "y_pred = accuracy_score(y_test , pred2)\n",
        "cm = ConfusionMatrix(y_test , pred2)\n",
        "cm.plot()\n",
        "print('Accuracy Score : ' , y_pred*100) \n",
        "print(mod2)\n",
        "print(cm)"
      ],
      "execution_count": 41,
      "outputs": [
        {
          "output_type": "stream",
          "text": [
            "('Accuracy Score : ', 85.97500413838769)\n",
            "RandomForestClassifier(bootstrap=True, class_weight=None, criterion='gini',\n",
            "            max_depth=None, max_features='auto', max_leaf_nodes=None,\n",
            "            min_impurity_decrease=0.0, min_impurity_split=None,\n",
            "            min_samples_leaf=1, min_samples_split=2,\n",
            "            min_weight_fraction_leaf=0.0, n_estimators=10, n_jobs=1,\n",
            "            oob_score=False, random_state=None, verbose=0,\n",
            "            warm_start=False)\n",
            "Predicted     0     1     2     3  __all__\n",
            "Actual                                    \n",
            "0           478   459   441   426     1804\n",
            "1           499   458   450   429     1836\n",
            "2           456   455   442   428     1781\n",
            "3           502   457   486   440     1885\n",
            "__all__    1935  1829  1819  1723     7306\n"
          ],
          "name": "stdout"
        },
        {
          "output_type": "display_data",
          "data": {
            "image/png": "[encoded data removed]",
            "text/plain": [
              "<matplotlib.figure.Figure at 0x7f2d71908e50>"
            ]
          },
          "metadata": {
            "tags": []
          }
        }
      ]
    },
    {
      "metadata": {
        "id": "Unp8FQBOputm",
        "colab_type": "code",
        "colab": {
          "base_uri": "https://localhost:8080/",
          "height": 748
        },
        "outputId": "45579426-3eae-4ed0-87be-fe03f32dd2bb"
      },
      "cell_type": "code",
      "source": [
        "mod2 = RandomForestClassifier(criterion = 'entropy' ,n_estimators = 20 , max_depth= 400 , max_features= 7)\n",
        "mod2.fit(x_train , x_test)\n",
        "pred2 = mod2.predict(y_train)\n",
        "y_pred = accuracy_score(y_test , pred2)\n",
        "cm = ConfusionMatrix(y_test , pred2)\n",
        "cm.plot()\n",
        "print('Accuracy Score : ' , y_pred*100) \n",
        "print(mod2)\n",
        "print(cm)"
      ],
      "execution_count": 42,
      "outputs": [
        {
          "output_type": "stream",
          "text": [
            "('Accuracy Score : ', 86.86475749048171)\n",
            "RandomForestClassifier(bootstrap=True, class_weight=None, criterion='entropy',\n",
            "            max_depth=400, max_features=7, max_leaf_nodes=None,\n",
            "            min_impurity_decrease=0.0, min_impurity_split=None,\n",
            "            min_samples_leaf=1, min_samples_split=2,\n",
            "            min_weight_fraction_leaf=0.0, n_estimators=20, n_jobs=1,\n",
            "            oob_score=False, random_state=None, verbose=0,\n",
            "            warm_start=False)\n",
            "Predicted     0     1     2     3  __all__\n",
            "Actual                                    \n",
            "0           470   460   439   435     1804\n",
            "1           480   472   449   435     1836\n",
            "2           448   456   440   437     1781\n",
            "3           493   467   478   447     1885\n",
            "__all__    1891  1855  1806  1754     7306\n"
          ],
          "name": "stdout"
        },
        {
          "output_type": "display_data",
          "data": {
            "image/png": "[encoded data removed]",
            "text/plain": [
              "<matplotlib.figure.Figure at 0x7f2d71908dd0>"
            ]
          },
          "metadata": {
            "tags": []
          }
        }
      ]
    },
    {
      "metadata": {
        "id": "SBYw-e3uq-_J",
        "colab_type": "code",
        "colab": {
          "base_uri": "https://localhost:8080/",
          "height": 748
        },
        "outputId": "340d89cd-cb0b-4bc2-d93c-0777774aa89c"
      },
      "cell_type": "code",
      "source": [
        "mod2 = RandomForestClassifier(n_estimators = 20 , max_depth = 400 , max_features = 8 )\n",
        "mod2.fit(x_train , x_test)\n",
        "pred2 = mod2.predict(y_train)\n",
        "y_pred = accuracy_score(y_test , pred2)\n",
        "cm = ConfusionMatrix(y_test , pred2)\n",
        "cm.plot()\n",
        "print('Accuracy Score : ' , y_pred*100) \n",
        "print(mod2)\n",
        "print(cm)"
      ],
      "execution_count": 43,
      "outputs": [
        {
          "output_type": "stream",
          "text": [
            "('Accuracy Score : ', 86.68266843237873)\n",
            "RandomForestClassifier(bootstrap=True, class_weight=None, criterion='gini',\n",
            "            max_depth=400, max_features=8, max_leaf_nodes=None,\n",
            "            min_impurity_decrease=0.0, min_impurity_split=None,\n",
            "            min_samples_leaf=1, min_samples_split=2,\n",
            "            min_weight_fraction_leaf=0.0, n_estimators=20, n_jobs=1,\n",
            "            oob_score=False, random_state=None, verbose=0,\n",
            "            warm_start=False)\n",
            "Predicted     0     1     2     3  __all__\n",
            "Actual                                    \n",
            "0           468   454   442   440     1804\n",
            "1           499   468   445   424     1836\n",
            "2           443   461   441   436     1781\n",
            "3           492   466   477   450     1885\n",
            "__all__    1902  1849  1805  1750     7306\n"
          ],
          "name": "stdout"
        },
        {
          "output_type": "display_data",
          "data": {
            "image/png": "[encoded data removed]",
            "text/plain": [
              "<matplotlib.figure.Figure at 0x7f2d71867c90>"
            ]
          },
          "metadata": {
            "tags": []
          }
        }
      ]
    },
    {
      "metadata": {
        "id": "7GVdEvi1rEV2",
        "colab_type": "code",
        "colab": {}
      },
      "cell_type": "code",
      "source": [
        "from sklearn.ensemble import ExtraTreesClassifier"
      ],
      "execution_count": 0,
      "outputs": []
    },
    {
      "metadata": {
        "id": "veEiklDNrVph",
        "colab_type": "code",
        "colab": {
          "base_uri": "https://localhost:8080/",
          "height": 730
        },
        "outputId": "be698451-4d39-4995-af50-0142461f1dbb"
      },
      "cell_type": "code",
      "source": [
        "mod3 = ExtraTreesClassifier(n_estimators= 25 , max_depth= 200 , max_features = 8 )\n",
        "mod3.fit(x_train, x_test)\n",
        "pred3 = mod3.predict(y_train)\n",
        "y_pred = accuracy_score(y_test , pred3)\n",
        "cm = ConfusionMatrix(y_test , pred3)\n",
        "cm.plot()\n",
        "print('Accuracy Score : ' , y_pred*100) \n",
        "print(mod3)\n",
        "print(cm)"
      ],
      "execution_count": 44,
      "outputs": [
        {
          "output_type": "stream",
          "text": [
            "('Accuracy Score : ', 86.69922198311538)\n",
            "ExtraTreesClassifier(bootstrap=False, class_weight=None, criterion='gini',\n",
            "           max_depth=200, max_features=8, max_leaf_nodes=None,\n",
            "           min_impurity_decrease=0.0, min_impurity_split=None,\n",
            "           min_samples_leaf=1, min_samples_split=2,\n",
            "           min_weight_fraction_leaf=0.0, n_estimators=25, n_jobs=1,\n",
            "           oob_score=False, random_state=None, verbose=0, warm_start=False)\n",
            "Predicted     0     1     2     3  __all__\n",
            "Actual                                    \n",
            "0           462   450   447   445     1804\n",
            "1           498   450   452   436     1836\n",
            "2           441   462   444   434     1781\n",
            "3           504   454   484   443     1885\n",
            "__all__    1905  1816  1827  1758     7306\n"
          ],
          "name": "stdout"
        },
        {
          "output_type": "display_data",
          "data": {
            "image/png": "[encoded data removed]",
            "text/plain": [
              "<matplotlib.figure.Figure at 0x7f2d71810390>"
            ]
          },
          "metadata": {
            "tags": []
          }
        }
      ]
    },
    {
      "metadata": {
        "id": "ItVy5FRbrYUs",
        "colab_type": "code",
        "colab": {
          "base_uri": "https://localhost:8080/",
          "height": 730
        },
        "outputId": "495c0b67-02c8-4d2f-8dec-0ffd89c5385d"
      },
      "cell_type": "code",
      "source": [
        "mod3 = ExtraTreesClassifier(n_estimators= 25 , max_depth= 400 , max_features = 16 )\n",
        "mod3.fit(x_train, x_test)\n",
        "pred3 = mod3.predict(y_train)\n",
        "y_pred = accuracy_score(y_test , pred3)\n",
        "cm = ConfusionMatrix(y_test , pred3)\n",
        "cm.plot()\n",
        "print('Accuracy Score : ' , y_pred*100) \n",
        "print(mod3)\n",
        "print(cm)"
      ],
      "execution_count": 45,
      "outputs": [
        {
          "output_type": "stream",
          "text": [
            "('Accuracy Score : ', 87.19996689289853)\n",
            "ExtraTreesClassifier(bootstrap=False, class_weight=None, criterion='gini',\n",
            "           max_depth=400, max_features=16, max_leaf_nodes=None,\n",
            "           min_impurity_decrease=0.0, min_impurity_split=None,\n",
            "           min_samples_leaf=1, min_samples_split=2,\n",
            "           min_weight_fraction_leaf=0.0, n_estimators=25, n_jobs=1,\n",
            "           oob_score=False, random_state=None, verbose=0, warm_start=False)\n",
            "Predicted     0     1     2     3  __all__\n",
            "Actual                                    \n",
            "0           461   448   447   448     1804\n",
            "1           487   458   454   437     1836\n",
            "2           447   449   448   437     1781\n",
            "3           499   465   481   440     1885\n",
            "__all__    1894  1820  1830  1762     7306\n"
          ],
          "name": "stdout"
        },
        {
          "output_type": "display_data",
          "data": {
            "image/png": "[encoded data removed]",
            "text/plain": [
              "<matplotlib.figure.Figure at 0x7f2d719a4d50>"
            ]
          },
          "metadata": {
            "tags": []
          }
        }
      ]
    },
    {
      "metadata": {
        "id": "mLhcSGYoresK",
        "colab_type": "code",
        "colab": {
          "base_uri": "https://localhost:8080/",
          "height": 730
        },
        "outputId": "f4fe8fa7-d56f-4757-9d37-0e6cf74888e5"
      },
      "cell_type": "code",
      "source": [
        "mod3 = ExtraTreesClassifier(criterion = 'entropy' , n_estimators = 25 , max_features = 16 , max_depth = 400)\n",
        "mod3.fit(x_train, x_test)\n",
        "pred3 = mod3.predict(y_train)\n",
        "y_pred = accuracy_score(y_test , pred3)\n",
        "cm = ConfusionMatrix(y_test , pred3)\n",
        "cm.plot()\n",
        "print('Accuracy Score : ' , y_pred*100) \n",
        "\n",
        "print(mod3)\n",
        "print(cm)"
      ],
      "execution_count": 46,
      "outputs": [
        {
          "output_type": "stream",
          "text": [
            "('Accuracy Score : ', 87.06340009932131)\n",
            "ExtraTreesClassifier(bootstrap=False, class_weight=None, criterion='entropy',\n",
            "           max_depth=400, max_features=16, max_leaf_nodes=None,\n",
            "           min_impurity_decrease=0.0, min_impurity_split=None,\n",
            "           min_samples_leaf=1, min_samples_split=2,\n",
            "           min_weight_fraction_leaf=0.0, n_estimators=25, n_jobs=1,\n",
            "           oob_score=False, random_state=None, verbose=0, warm_start=False)\n",
            "Predicted     0     1     2     3  __all__\n",
            "Actual                                    \n",
            "0           465   456   439   444     1804\n",
            "1           486   458   448   444     1836\n",
            "2           444   457   448   432     1781\n",
            "3           505   459   477   444     1885\n",
            "__all__    1900  1830  1812  1764     7306\n"
          ],
          "name": "stdout"
        },
        {
          "output_type": "display_data",
          "data": {
            "image/png": "[encoded data removed]",
            "text/plain": [
              "<matplotlib.figure.Figure at 0x7f2d7186b490>"
            ]
          },
          "metadata": {
            "tags": []
          }
        }
      ]
    },
    {
      "metadata": {
        "id": "j4vRxWm4rkJN",
        "colab_type": "code",
        "colab": {
          "base_uri": "https://localhost:8080/",
          "height": 141
        },
        "outputId": "8ea5b300-fd9e-41a1-c315-563349e187b6"
      },
      "cell_type": "code",
      "source": [
        "cm"
      ],
      "execution_count": 31,
      "outputs": [
        {
          "output_type": "execute_result",
          "data": {
            "text/plain": [
              "Predicted     0     1     2     3  __all__\n",
              "Actual                                    \n",
              "0           452   457   452   443     1804\n",
              "1           479   463   453   441     1836\n",
              "2           451   453   448   429     1781\n",
              "3           512   460   477   436     1885\n",
              "__all__    1894  1833  1830  1749     7306"
            ]
          },
          "metadata": {
            "tags": []
          },
          "execution_count": 31
        }
      ]
    },
    {
      "metadata": {
        "id": "KStFozGYt-9z",
        "colab_type": "code",
        "colab": {}
      },
      "cell_type": "code",
      "source": [
        ""
      ],
      "execution_count": 0,
      "outputs": []
    }
  ]
}