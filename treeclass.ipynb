{
  "nbformat": 4,
  "nbformat_minor": 0,
  "metadata": {
    "colab": {
      "name": "treeclass.ipynb",
      "version": "0.3.2",
      "provenance": []
    },
    "kernelspec": {
      "name": "python2",
      "display_name": "Python 2"
    },
    "accelerator": "GPU"
  },
  "cells": [
    {
      "cell_type": "markdown",
      "metadata": {
        "id": "view-in-github",
        "colab_type": "text"
      },
      "source": [
        "[View in Colaboratory](https://colab.research.google.com/github/Shreyas3108/Multipath-selection-using-ML/blob/master/treeclass.ipynb)"
      ]
    },
    {
      "metadata": {
        "id": "Qg41CU-0j_kB",
        "colab_type": "code",
        "colab": {
          "resources": {
            "http://localhost:8080/nbextensions/google.colab/files.js": {
              "data": "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",
              "ok": true,
              "headers": [
                [
                  "content-type",
                  "application/javascript"
                ]
              ],
              "status": 200,
              "status_text": ""
            }
          },
          "base_uri": "https://localhost:8080/",
          "height": 91
        },
        "outputId": "820e0161-72e6-4105-df4a-805639be08f5"
      },
      "cell_type": "code",
      "source": [
        "from google.colab import files\n",
        "\n",
        "uploaded = files.upload()\n",
        "\n",
        "for fn in uploaded.keys():\n",
        "  print('User uploaded file \"{name}\" with length {length} bytes'.format(\n",
        "      name=fn, length=len(uploaded[fn]))) \n",
        "  \n",
        "  ## Upload file to Gdrive already done. "
      ],
      "execution_count": 4,
      "outputs": [
        {
          "output_type": "display_data",
          "data": {
            "text/plain": [
              "<IPython.core.display.HTML object>"
            ],
            "text/html": [
              "\n",
              "     <input type=\"file\" id=\"files-93ed35c4-00f3-4e30-aa2d-94ee8ccb0aa2\" name=\"files[]\" multiple disabled />\n",
              "     <output id=\"result-93ed35c4-00f3-4e30-aa2d-94ee8ccb0aa2\">\n",
              "      Upload widget is only available when the cell has been executed in the\n",
              "      current browser session. Please rerun this cell to enable.\n",
              "      </output>\n",
              "      <script src=\"/nbextensions/google.colab/files.js\"></script> "
            ]
          },
          "metadata": {
            "tags": []
          }
        },
        {
          "output_type": "stream",
          "text": [
            "Saving mpdata.csv to mpdata.csv\n",
            "User uploaded file \"mpdata.csv\" with length 23625421 bytes\n"
          ],
          "name": "stdout"
        }
      ]
    },
    {
      "metadata": {
        "id": "7YMi7VfokLZD",
        "colab_type": "code",
        "colab": {}
      },
      "cell_type": "code",
      "source": [
        "import pandas as pd \n",
        "import numpy as np "
      ],
      "execution_count": 0,
      "outputs": []
    },
    {
      "metadata": {
        "id": "on8Sz2-PlxzU",
        "colab_type": "code",
        "colab": {}
      },
      "cell_type": "code",
      "source": [
        "data = pd.read_csv('mpdata.csv')"
      ],
      "execution_count": 0,
      "outputs": []
    },
    {
      "metadata": {
        "id": "AyCxDCFml2uC",
        "colab_type": "code",
        "colab": {
          "base_uri": "https://localhost:8080/",
          "height": 314
        },
        "outputId": "2751eec0-70c6-4a87-ddc5-28f3995393ed"
      },
      "cell_type": "code",
      "source": [
        "data.head() ## First 5 rows of the dataset"
      ],
      "execution_count": 82,
      "outputs": [
        {
          "output_type": "execute_result",
          "data": {
            "text/html": [
              "<div>\n",
              "<style scoped>\n",
              "    .dataframe tbody tr th:only-of-type {\n",
              "        vertical-align: middle;\n",
              "    }\n",
              "\n",
              "    .dataframe tbody tr th {\n",
              "        vertical-align: top;\n",
              "    }\n",
              "\n",
              "    .dataframe thead th {\n",
              "        text-align: right;\n",
              "    }\n",
              "</style>\n",
              "<table border=\"1\" class=\"dataframe\">\n",
              "  <thead>\n",
              "    <tr style=\"text-align: right;\">\n",
              "      <th></th>\n",
              "      <th>name</th>\n",
              "      <th>time</th>\n",
              "      <th>EncodingPath</th>\n",
              "      <th>Producer</th>\n",
              "      <th>bandwidth</th>\n",
              "      <th>input-data-rate</th>\n",
              "      <th>input-load</th>\n",
              "      <th>input-packet-rate</th>\n",
              "      <th>interface-name</th>\n",
              "      <th>load-interval</th>\n",
              "      <th>output-data-rate</th>\n",
              "      <th>output-load</th>\n",
              "      <th>output-packet-rate</th>\n",
              "      <th>reliability</th>\n",
              "      <th>peak-input-data-rate</th>\n",
              "      <th>peak-output-data-rate</th>\n",
              "      <th>peak-input-packet-rate</th>\n",
              "      <th>peak-output-packet-rate</th>\n",
              "      <th>delay</th>\n",
              "    </tr>\n",
              "  </thead>\n",
              "  <tbody>\n",
              "    <tr>\n",
              "      <th>0</th>\n",
              "      <td>Cisco-IOS-XR-infra-statsd-oper:infra-statistic...</td>\n",
              "      <td>1501867007733000000</td>\n",
              "      <td>Cisco-IOS-XR-infra-statsd-oper:infra-statistic...</td>\n",
              "      <td>leaf1</td>\n",
              "      <td>100000000.0</td>\n",
              "      <td>7214502.0</td>\n",
              "      <td>18.0</td>\n",
              "      <td>639356.0</td>\n",
              "      <td>Path-1</td>\n",
              "      <td>0.0</td>\n",
              "      <td>12225031.0</td>\n",
              "      <td>31.0</td>\n",
              "      <td>1080487.0</td>\n",
              "      <td>255.0</td>\n",
              "      <td>0.0</td>\n",
              "      <td>0.0</td>\n",
              "      <td>0.0</td>\n",
              "      <td>0.0</td>\n",
              "      <td>0</td>\n",
              "    </tr>\n",
              "    <tr>\n",
              "      <th>1</th>\n",
              "      <td>Cisco-IOS-XR-infra-statsd-oper:infra-statistic...</td>\n",
              "      <td>1501867007735000000</td>\n",
              "      <td>Cisco-IOS-XR-infra-statsd-oper:infra-statistic...</td>\n",
              "      <td>leaf1</td>\n",
              "      <td>100000000.0</td>\n",
              "      <td>6564805.0</td>\n",
              "      <td>16.0</td>\n",
              "      <td>598775.0</td>\n",
              "      <td>Path-1</td>\n",
              "      <td>0.0</td>\n",
              "      <td>11132639.0</td>\n",
              "      <td>28.0</td>\n",
              "      <td>980453.0</td>\n",
              "      <td>255.0</td>\n",
              "      <td>0.0</td>\n",
              "      <td>0.0</td>\n",
              "      <td>0.0</td>\n",
              "      <td>0.0</td>\n",
              "      <td>7</td>\n",
              "    </tr>\n",
              "    <tr>\n",
              "      <th>2</th>\n",
              "      <td>Cisco-IOS-XR-infra-statsd-oper:infra-statistic...</td>\n",
              "      <td>1501867007738000000</td>\n",
              "      <td>Cisco-IOS-XR-infra-statsd-oper:infra-statistic...</td>\n",
              "      <td>leaf1</td>\n",
              "      <td>100000000.0</td>\n",
              "      <td>13838151.0</td>\n",
              "      <td>35.0</td>\n",
              "      <td>1217949.0</td>\n",
              "      <td>Path-1</td>\n",
              "      <td>0.0</td>\n",
              "      <td>9664580.0</td>\n",
              "      <td>24.0</td>\n",
              "      <td>856189.0</td>\n",
              "      <td>255.0</td>\n",
              "      <td>0.0</td>\n",
              "      <td>0.0</td>\n",
              "      <td>0.0</td>\n",
              "      <td>0.0</td>\n",
              "      <td>3</td>\n",
              "    </tr>\n",
              "    <tr>\n",
              "      <th>3</th>\n",
              "      <td>Cisco-IOS-XR-infra-statsd-oper:infra-statistic...</td>\n",
              "      <td>1501867007740000000</td>\n",
              "      <td>Cisco-IOS-XR-infra-statsd-oper:infra-statistic...</td>\n",
              "      <td>leaf1</td>\n",
              "      <td>100000000.0</td>\n",
              "      <td>10752468.0</td>\n",
              "      <td>27.0</td>\n",
              "      <td>968818.0</td>\n",
              "      <td>Path-1</td>\n",
              "      <td>0.0</td>\n",
              "      <td>13502426.0</td>\n",
              "      <td>34.0</td>\n",
              "      <td>1146930.0</td>\n",
              "      <td>255.0</td>\n",
              "      <td>0.0</td>\n",
              "      <td>0.0</td>\n",
              "      <td>0.0</td>\n",
              "      <td>0.0</td>\n",
              "      <td>0</td>\n",
              "    </tr>\n",
              "    <tr>\n",
              "      <th>4</th>\n",
              "      <td>Cisco-IOS-XR-infra-statsd-oper:infra-statistic...</td>\n",
              "      <td>1501867007742000000</td>\n",
              "      <td>Cisco-IOS-XR-infra-statsd-oper:infra-statistic...</td>\n",
              "      <td>leaf1</td>\n",
              "      <td>100000000.0</td>\n",
              "      <td>6925863.0</td>\n",
              "      <td>17.0</td>\n",
              "      <td>605078.0</td>\n",
              "      <td>Path-2</td>\n",
              "      <td>0.0</td>\n",
              "      <td>12163551.0</td>\n",
              "      <td>31.0</td>\n",
              "      <td>1055221.0</td>\n",
              "      <td>255.0</td>\n",
              "      <td>0.0</td>\n",
              "      <td>0.0</td>\n",
              "      <td>0.0</td>\n",
              "      <td>0.0</td>\n",
              "      <td>8</td>\n",
              "    </tr>\n",
              "  </tbody>\n",
              "</table>\n",
              "</div>"
            ],
            "text/plain": [
              "                                                name                 time  \\\n",
              "0  Cisco-IOS-XR-infra-statsd-oper:infra-statistic...  1501867007733000000   \n",
              "1  Cisco-IOS-XR-infra-statsd-oper:infra-statistic...  1501867007735000000   \n",
              "2  Cisco-IOS-XR-infra-statsd-oper:infra-statistic...  1501867007738000000   \n",
              "3  Cisco-IOS-XR-infra-statsd-oper:infra-statistic...  1501867007740000000   \n",
              "4  Cisco-IOS-XR-infra-statsd-oper:infra-statistic...  1501867007742000000   \n",
              "\n",
              "                                        EncodingPath Producer    bandwidth  \\\n",
              "0  Cisco-IOS-XR-infra-statsd-oper:infra-statistic...    leaf1  100000000.0   \n",
              "1  Cisco-IOS-XR-infra-statsd-oper:infra-statistic...    leaf1  100000000.0   \n",
              "2  Cisco-IOS-XR-infra-statsd-oper:infra-statistic...    leaf1  100000000.0   \n",
              "3  Cisco-IOS-XR-infra-statsd-oper:infra-statistic...    leaf1  100000000.0   \n",
              "4  Cisco-IOS-XR-infra-statsd-oper:infra-statistic...    leaf1  100000000.0   \n",
              "\n",
              "   input-data-rate  input-load  input-packet-rate interface-name  \\\n",
              "0        7214502.0        18.0           639356.0         Path-1   \n",
              "1        6564805.0        16.0           598775.0         Path-1   \n",
              "2       13838151.0        35.0          1217949.0         Path-1   \n",
              "3       10752468.0        27.0           968818.0         Path-1   \n",
              "4        6925863.0        17.0           605078.0         Path-2   \n",
              "\n",
              "   load-interval  output-data-rate  output-load  output-packet-rate  \\\n",
              "0            0.0        12225031.0         31.0           1080487.0   \n",
              "1            0.0        11132639.0         28.0            980453.0   \n",
              "2            0.0         9664580.0         24.0            856189.0   \n",
              "3            0.0        13502426.0         34.0           1146930.0   \n",
              "4            0.0        12163551.0         31.0           1055221.0   \n",
              "\n",
              "   reliability  peak-input-data-rate  peak-output-data-rate  \\\n",
              "0        255.0                   0.0                    0.0   \n",
              "1        255.0                   0.0                    0.0   \n",
              "2        255.0                   0.0                    0.0   \n",
              "3        255.0                   0.0                    0.0   \n",
              "4        255.0                   0.0                    0.0   \n",
              "\n",
              "   peak-input-packet-rate  peak-output-packet-rate  delay  \n",
              "0                     0.0                      0.0      0  \n",
              "1                     0.0                      0.0      7  \n",
              "2                     0.0                      0.0      3  \n",
              "3                     0.0                      0.0      0  \n",
              "4                     0.0                      0.0      8  "
            ]
          },
          "metadata": {
            "tags": []
          },
          "execution_count": 82
        }
      ]
    },
    {
      "metadata": {
        "id": "yXHjFYizblVV",
        "colab_type": "code",
        "colab": {
          "base_uri": "https://localhost:8080/",
          "height": 34
        },
        "outputId": "4acda785-7cc4-4c34-d308-9f9e46bfc7d6"
      },
      "cell_type": "code",
      "source": [
        "data.shape ## Shape of the data"
      ],
      "execution_count": 83,
      "outputs": [
        {
          "output_type": "execute_result",
          "data": {
            "text/plain": [
              "(80544, 19)"
            ]
          },
          "metadata": {
            "tags": []
          },
          "execution_count": 83
        }
      ]
    },
    {
      "metadata": {
        "id": "Ownuw40Fl5jL",
        "colab_type": "code",
        "colab": {}
      },
      "cell_type": "code",
      "source": [
        "from sklearn.preprocessing import LabelEncoder"
      ],
      "execution_count": 0,
      "outputs": []
    },
    {
      "metadata": {
        "id": "NnZytRMSmJRk",
        "colab_type": "code",
        "colab": {}
      },
      "cell_type": "code",
      "source": [
        "le = LabelEncoder()\n",
        "data['path'] = le.fit_transform(data['interface-name']) ## Encoding path as numeric for prediction "
      ],
      "execution_count": 0,
      "outputs": []
    },
    {
      "metadata": {
        "id": "D3TTI7VymNx0",
        "colab_type": "code",
        "colab": {}
      },
      "cell_type": "code",
      "source": [
        "data = pd.get_dummies(data , columns= ['Producer']) ## Using one-hot encoder for producer for better accuracy of the model"
      ],
      "execution_count": 0,
      "outputs": []
    },
    {
      "metadata": {
        "id": "ETJu-BprmR8F",
        "colab_type": "code",
        "colab": {
          "base_uri": "https://localhost:8080/",
          "height": 696
        },
        "outputId": "9e884e1c-18ae-41ad-b832-1ea10d841cec"
      },
      "cell_type": "code",
      "source": [
        "data.head()"
      ],
      "execution_count": 87,
      "outputs": [
        {
          "output_type": "execute_result",
          "data": {
            "text/html": [
              "<div>\n",
              "<style scoped>\n",
              "    .dataframe tbody tr th:only-of-type {\n",
              "        vertical-align: middle;\n",
              "    }\n",
              "\n",
              "    .dataframe tbody tr th {\n",
              "        vertical-align: top;\n",
              "    }\n",
              "\n",
              "    .dataframe thead th {\n",
              "        text-align: right;\n",
              "    }\n",
              "</style>\n",
              "<table border=\"1\" class=\"dataframe\">\n",
              "  <thead>\n",
              "    <tr style=\"text-align: right;\">\n",
              "      <th></th>\n",
              "      <th>name</th>\n",
              "      <th>time</th>\n",
              "      <th>EncodingPath</th>\n",
              "      <th>bandwidth</th>\n",
              "      <th>input-data-rate</th>\n",
              "      <th>input-load</th>\n",
              "      <th>input-packet-rate</th>\n",
              "      <th>interface-name</th>\n",
              "      <th>load-interval</th>\n",
              "      <th>output-data-rate</th>\n",
              "      <th>...</th>\n",
              "      <th>Producer_leaf3</th>\n",
              "      <th>Producer_leaf4</th>\n",
              "      <th>Producer_leaf5</th>\n",
              "      <th>Producer_leaf6</th>\n",
              "      <th>Producer_leaf7</th>\n",
              "      <th>Producer_leaf8</th>\n",
              "      <th>Producer_spine1</th>\n",
              "      <th>Producer_spine2</th>\n",
              "      <th>Producer_spine3</th>\n",
              "      <th>Producer_spine4</th>\n",
              "    </tr>\n",
              "  </thead>\n",
              "  <tbody>\n",
              "    <tr>\n",
              "      <th>0</th>\n",
              "      <td>Cisco-IOS-XR-infra-statsd-oper:infra-statistic...</td>\n",
              "      <td>1501867007733000000</td>\n",
              "      <td>Cisco-IOS-XR-infra-statsd-oper:infra-statistic...</td>\n",
              "      <td>100000000.0</td>\n",
              "      <td>7214502.0</td>\n",
              "      <td>18.0</td>\n",
              "      <td>639356.0</td>\n",
              "      <td>Path-1</td>\n",
              "      <td>0.0</td>\n",
              "      <td>12225031.0</td>\n",
              "      <td>...</td>\n",
              "      <td>0</td>\n",
              "      <td>0</td>\n",
              "      <td>0</td>\n",
              "      <td>0</td>\n",
              "      <td>0</td>\n",
              "      <td>0</td>\n",
              "      <td>0</td>\n",
              "      <td>0</td>\n",
              "      <td>0</td>\n",
              "      <td>0</td>\n",
              "    </tr>\n",
              "    <tr>\n",
              "      <th>1</th>\n",
              "      <td>Cisco-IOS-XR-infra-statsd-oper:infra-statistic...</td>\n",
              "      <td>1501867007735000000</td>\n",
              "      <td>Cisco-IOS-XR-infra-statsd-oper:infra-statistic...</td>\n",
              "      <td>100000000.0</td>\n",
              "      <td>6564805.0</td>\n",
              "      <td>16.0</td>\n",
              "      <td>598775.0</td>\n",
              "      <td>Path-1</td>\n",
              "      <td>0.0</td>\n",
              "      <td>11132639.0</td>\n",
              "      <td>...</td>\n",
              "      <td>0</td>\n",
              "      <td>0</td>\n",
              "      <td>0</td>\n",
              "      <td>0</td>\n",
              "      <td>0</td>\n",
              "      <td>0</td>\n",
              "      <td>0</td>\n",
              "      <td>0</td>\n",
              "      <td>0</td>\n",
              "      <td>0</td>\n",
              "    </tr>\n",
              "    <tr>\n",
              "      <th>2</th>\n",
              "      <td>Cisco-IOS-XR-infra-statsd-oper:infra-statistic...</td>\n",
              "      <td>1501867007738000000</td>\n",
              "      <td>Cisco-IOS-XR-infra-statsd-oper:infra-statistic...</td>\n",
              "      <td>100000000.0</td>\n",
              "      <td>13838151.0</td>\n",
              "      <td>35.0</td>\n",
              "      <td>1217949.0</td>\n",
              "      <td>Path-1</td>\n",
              "      <td>0.0</td>\n",
              "      <td>9664580.0</td>\n",
              "      <td>...</td>\n",
              "      <td>0</td>\n",
              "      <td>0</td>\n",
              "      <td>0</td>\n",
              "      <td>0</td>\n",
              "      <td>0</td>\n",
              "      <td>0</td>\n",
              "      <td>0</td>\n",
              "      <td>0</td>\n",
              "      <td>0</td>\n",
              "      <td>0</td>\n",
              "    </tr>\n",
              "    <tr>\n",
              "      <th>3</th>\n",
              "      <td>Cisco-IOS-XR-infra-statsd-oper:infra-statistic...</td>\n",
              "      <td>1501867007740000000</td>\n",
              "      <td>Cisco-IOS-XR-infra-statsd-oper:infra-statistic...</td>\n",
              "      <td>100000000.0</td>\n",
              "      <td>10752468.0</td>\n",
              "      <td>27.0</td>\n",
              "      <td>968818.0</td>\n",
              "      <td>Path-1</td>\n",
              "      <td>0.0</td>\n",
              "      <td>13502426.0</td>\n",
              "      <td>...</td>\n",
              "      <td>0</td>\n",
              "      <td>0</td>\n",
              "      <td>0</td>\n",
              "      <td>0</td>\n",
              "      <td>0</td>\n",
              "      <td>0</td>\n",
              "      <td>0</td>\n",
              "      <td>0</td>\n",
              "      <td>0</td>\n",
              "      <td>0</td>\n",
              "    </tr>\n",
              "    <tr>\n",
              "      <th>4</th>\n",
              "      <td>Cisco-IOS-XR-infra-statsd-oper:infra-statistic...</td>\n",
              "      <td>1501867007742000000</td>\n",
              "      <td>Cisco-IOS-XR-infra-statsd-oper:infra-statistic...</td>\n",
              "      <td>100000000.0</td>\n",
              "      <td>6925863.0</td>\n",
              "      <td>17.0</td>\n",
              "      <td>605078.0</td>\n",
              "      <td>Path-2</td>\n",
              "      <td>0.0</td>\n",
              "      <td>12163551.0</td>\n",
              "      <td>...</td>\n",
              "      <td>0</td>\n",
              "      <td>0</td>\n",
              "      <td>0</td>\n",
              "      <td>0</td>\n",
              "      <td>0</td>\n",
              "      <td>0</td>\n",
              "      <td>0</td>\n",
              "      <td>0</td>\n",
              "      <td>0</td>\n",
              "      <td>0</td>\n",
              "    </tr>\n",
              "  </tbody>\n",
              "</table>\n",
              "<p>5 rows × 31 columns</p>\n",
              "</div>"
            ],
            "text/plain": [
              "                                                name                 time  \\\n",
              "0  Cisco-IOS-XR-infra-statsd-oper:infra-statistic...  1501867007733000000   \n",
              "1  Cisco-IOS-XR-infra-statsd-oper:infra-statistic...  1501867007735000000   \n",
              "2  Cisco-IOS-XR-infra-statsd-oper:infra-statistic...  1501867007738000000   \n",
              "3  Cisco-IOS-XR-infra-statsd-oper:infra-statistic...  1501867007740000000   \n",
              "4  Cisco-IOS-XR-infra-statsd-oper:infra-statistic...  1501867007742000000   \n",
              "\n",
              "                                        EncodingPath    bandwidth  \\\n",
              "0  Cisco-IOS-XR-infra-statsd-oper:infra-statistic...  100000000.0   \n",
              "1  Cisco-IOS-XR-infra-statsd-oper:infra-statistic...  100000000.0   \n",
              "2  Cisco-IOS-XR-infra-statsd-oper:infra-statistic...  100000000.0   \n",
              "3  Cisco-IOS-XR-infra-statsd-oper:infra-statistic...  100000000.0   \n",
              "4  Cisco-IOS-XR-infra-statsd-oper:infra-statistic...  100000000.0   \n",
              "\n",
              "   input-data-rate  input-load  input-packet-rate interface-name  \\\n",
              "0        7214502.0        18.0           639356.0         Path-1   \n",
              "1        6564805.0        16.0           598775.0         Path-1   \n",
              "2       13838151.0        35.0          1217949.0         Path-1   \n",
              "3       10752468.0        27.0           968818.0         Path-1   \n",
              "4        6925863.0        17.0           605078.0         Path-2   \n",
              "\n",
              "   load-interval  output-data-rate       ...         Producer_leaf3  \\\n",
              "0            0.0        12225031.0       ...                      0   \n",
              "1            0.0        11132639.0       ...                      0   \n",
              "2            0.0         9664580.0       ...                      0   \n",
              "3            0.0        13502426.0       ...                      0   \n",
              "4            0.0        12163551.0       ...                      0   \n",
              "\n",
              "   Producer_leaf4  Producer_leaf5  Producer_leaf6  Producer_leaf7  \\\n",
              "0               0               0               0               0   \n",
              "1               0               0               0               0   \n",
              "2               0               0               0               0   \n",
              "3               0               0               0               0   \n",
              "4               0               0               0               0   \n",
              "\n",
              "   Producer_leaf8  Producer_spine1  Producer_spine2  Producer_spine3  \\\n",
              "0               0                0                0                0   \n",
              "1               0                0                0                0   \n",
              "2               0                0                0                0   \n",
              "3               0                0                0                0   \n",
              "4               0                0                0                0   \n",
              "\n",
              "   Producer_spine4  \n",
              "0                0  \n",
              "1                0  \n",
              "2                0  \n",
              "3                0  \n",
              "4                0  \n",
              "\n",
              "[5 rows x 31 columns]"
            ]
          },
          "metadata": {
            "tags": []
          },
          "execution_count": 87
        }
      ]
    },
    {
      "metadata": {
        "id": "zWqd3Jg5mdhO",
        "colab_type": "code",
        "colab": {}
      },
      "cell_type": "code",
      "source": [
        "inp = data[['bandwidth','input-data-rate','input-load','load-interval','output-data-rate','output-load',\n",
        "            'output-packet-rate','reliability','peak-input-data-rate','peak-output-data-rate'\n",
        "           ,'peak-input-packet-rate', 'peak-output-packet-rate', 'delay','Producer_leaf1', \n",
        "            'Producer_leaf2', 'Producer_leaf3', 'Producer_leaf4','Producer_leaf5',\n",
        "            'Producer_leaf6', 'Producer_leaf7', 'Producer_leaf8',\n",
        "           'Producer_spine1', 'Producer_spine2', 'Producer_spine3',\n",
        "           'Producer_spine4']] \n",
        "out = data['path'] \n",
        "\n",
        "## Setting Features and labels "
      ],
      "execution_count": 0,
      "outputs": []
    },
    {
      "metadata": {
        "id": "W34IzRy4nBdk",
        "colab_type": "code",
        "colab": {}
      },
      "cell_type": "code",
      "source": [
        "from sklearn.cross_validation import train_test_split\n",
        "x_train , y_train , x_test , y_test = train_test_split(inp , out ,\n",
        "                                                       test_size = 0.3,random_state = 23)"
      ],
      "execution_count": 0,
      "outputs": []
    },
    {
      "metadata": {
        "id": "lMgkm96oncTt",
        "colab_type": "code",
        "colab": {
          "base_uri": "https://localhost:8080/",
          "height": 34
        },
        "outputId": "a78a6a05-c26b-4c74-c6a3-bfc08de7cfa7"
      },
      "cell_type": "code",
      "source": [
        "#!pip install pandas-ml\n",
        "y_train.shape"
      ],
      "execution_count": 90,
      "outputs": [
        {
          "output_type": "execute_result",
          "data": {
            "text/plain": [
              "(24164, 25)"
            ]
          },
          "metadata": {
            "tags": []
          },
          "execution_count": 90
        }
      ]
    },
    {
      "metadata": {
        "id": "h5wY0pRunJ35",
        "colab_type": "code",
        "colab": {
          "base_uri": "https://localhost:8080/",
          "height": 1727
        },
        "outputId": "a349fd28-253f-433b-c2ad-d4d224788ee4"
      },
      "cell_type": "code",
      "source": [
        "from sklearn.tree import DecisionTreeClassifier \n",
        "from sklearn.metrics import accuracy_score , confusion_matrix\n",
        "from pandas_ml import ConfusionMatrix\n",
        "\n",
        "mod = DecisionTreeClassifier() \n",
        "mod.fit(x_train , x_test) \n",
        "pred = mod.predict(y_train) \n",
        "y_pred = accuracy_score(y_test , pred)\n",
        "print(y_pred * 100)\n",
        "cm = ConfusionMatrix(y_test , pred)\n",
        "cm.plot()\n",
        "print('Accuracy Score : ' , y_pred*100) \n",
        "print(mod)\n",
        "print(cm.stats())"
      ],
      "execution_count": 91,
      "outputs": [
        {
          "output_type": "stream",
          "text": [
            "84.56795232577387\n",
            "('Accuracy Score : ', 84.56795232577387)\n",
            "DecisionTreeClassifier(class_weight=None, criterion='gini', max_depth=None,\n",
            "            max_features=None, max_leaf_nodes=None,\n",
            "            min_impurity_decrease=0.0, min_impurity_split=None,\n",
            "            min_samples_leaf=1, min_samples_split=2,\n",
            "            min_weight_fraction_leaf=0.0, presort=False, random_state=None,\n",
            "            splitter='best')\n",
            "OrderedDict([('cm', Predicted     0     1     2     3  __all__\n",
            "Actual                                    \n",
            "0           453   504   432   428     1817\n",
            "1           449   446   451   455     1801\n",
            "2           428   454   467   465     1814\n",
            "3           448   460   470   455     1833\n",
            "__all__    1778  1864  1820  1803     7265), ('overall', OrderedDict([('Accuracy', 0.2506538196834136), ('95% CI', (0.24072089353755, 0.26078719451653254)), ('No Information Rate', 'ToDo'), ('P-Value [Acc > NIR]', 0.8788715751678092), ('Kappa', 0.000896677111058684), (\"Mcnemar's Test P-Value\", 'ToDo')])), ('class', Classes                                         0          1           2  \\\n",
            "Population                                   7265       7265        7265   \n",
            "P: Condition positive                        1817       1801        1814   \n",
            "N: Condition negative                        5448       5464        5451   \n",
            "Test outcome positive                        1778       1864        1820   \n",
            "Test outcome negative                        5487       5401        5445   \n",
            "TP: True Positive                             453        446         467   \n",
            "TN: True Negative                            4123       4046        4098   \n",
            "FP: False Positive                           1325       1418        1353   \n",
            "FN: False Negative                           1364       1355        1347   \n",
            "TPR: (Sensitivity, hit rate, recall)     0.249312    0.24764    0.257442   \n",
            "TNR=SPC: (Specificity)                   0.756791   0.740483    0.751789   \n",
            "PPV: Pos Pred Value (Precision)          0.254781    0.23927    0.256593   \n",
            "NPV: Neg Pred Value                      0.751412   0.749121    0.752617   \n",
            "FPR: False-out                           0.243209   0.259517    0.248211   \n",
            "FDR: False Discovery Rate                0.745219    0.76073    0.743407   \n",
            "FNR: Miss Rate                           0.750688    0.75236    0.742558   \n",
            "ACC: Accuracy                            0.629869   0.618307    0.628355   \n",
            "F1 score                                 0.252017   0.243383    0.257017   \n",
            "MCC: Matthews correlation coefficient  0.00614815 -0.0117421  0.00922063   \n",
            "Informedness                           0.00610354 -0.0118766  0.00923078   \n",
            "Markedness                             0.00619308 -0.0116091  0.00921049   \n",
            "Prevalence                               0.250103   0.247901     0.24969   \n",
            "LR+: Positive likelihood ratio             1.0251   0.954236     1.03719   \n",
            "LR-: Negative likelihood ratio           0.991935    1.01604    0.987722   \n",
            "DOR: Diagnostic odds ratio                1.03343   0.939172     1.05008   \n",
            "FOR: False omission rate                 0.248588   0.250879    0.247383   \n",
            "\n",
            "Classes                                          3  \n",
            "Population                                    7265  \n",
            "P: Condition positive                         1833  \n",
            "N: Condition negative                         5432  \n",
            "Test outcome positive                         1803  \n",
            "Test outcome negative                         5462  \n",
            "TP: True Positive                              455  \n",
            "TN: True Negative                             4084  \n",
            "FP: False Positive                            1348  \n",
            "FN: False Negative                            1378  \n",
            "TPR: (Sensitivity, hit rate, recall)      0.248227  \n",
            "TNR=SPC: (Specificity)                    0.751841  \n",
            "PPV: Pos Pred Value (Precision)           0.252357  \n",
            "NPV: Neg Pred Value                       0.747711  \n",
            "FPR: False-out                            0.248159  \n",
            "FDR: False Discovery Rate                 0.747643  \n",
            "FNR: Miss Rate                            0.751773  \n",
            "ACC: Accuracy                             0.624776  \n",
            "F1 score                                  0.250275  \n",
            "MCC: Matthews correlation coefficient  6.82672e-05  \n",
            "Informedness                           6.78929e-05  \n",
            "Markedness                             6.86435e-05  \n",
            "Prevalence                                0.252306  \n",
            "LR+: Positive likelihood ratio             1.00027  \n",
            "LR-: Negative likelihood ratio             0.99991  \n",
            "DOR: Diagnostic odds ratio                 1.00036  \n",
            "FOR: False omission rate                  0.252289  )])\n"
          ],
          "name": "stdout"
        },
        {
          "output_type": "display_data",
          "data": {
            "image/png": "[encoded data removed]",
            "text/plain": [
              "<matplotlib.figure.Figure at 0x7fbe63e0cc90>"
            ]
          },
          "metadata": {
            "tags": []
          }
        }
      ]
    },
    {
      "metadata": {
        "id": "7klsjw52nmSI",
        "colab_type": "code",
        "colab": {
          "base_uri": "https://localhost:8080/",
          "height": 158
        },
        "outputId": "15f22cc5-8027-492f-e224-2fc7fb17475a"
      },
      "cell_type": "code",
      "source": [
        "modp = mod.predict_proba(y_train)\n",
        "print(modp)\n",
        "modp.shape"
      ],
      "execution_count": 92,
      "outputs": [
        {
          "output_type": "stream",
          "text": [
            "[[1. 0. 0. 0.]\n",
            " [0. 1. 0. 0.]\n",
            " [0. 1. 0. 0.]\n",
            " ...\n",
            " [0. 0. 1. 0.]\n",
            " [1. 0. 0. 0.]\n",
            " [0. 1. 0. 0.]]\n"
          ],
          "name": "stdout"
        },
        {
          "output_type": "execute_result",
          "data": {
            "text/plain": [
              "(24164, 4)"
            ]
          },
          "metadata": {
            "tags": []
          },
          "execution_count": 92
        }
      ]
    },
    {
      "metadata": {
        "id": "OH_ZLKDenmvU",
        "colab_type": "code",
        "colab": {
          "base_uri": "https://localhost:8080/",
          "height": 1713
        },
        "outputId": "5dda83bb-7595-41fb-dee3-0384fe79b711"
      },
      "cell_type": "code",
      "source": [
        "mod = DecisionTreeClassifier(criterion = 'entropy' , max_depth = 400) \n",
        "\n",
        "mod.fit(x_train , x_test) \n",
        "pred = mod.predict(y_train) \n",
        "y_pred = accuracy_score(y_test , pred)\n",
        "cm = ConfusionMatrix(y_test , pred)\n",
        "cm.plot()\n",
        "print('Accuracy Score : ' , y_pred*100) \n",
        "print(mod)\n",
        "print(cm.stats())"
      ],
      "execution_count": 93,
      "outputs": [
        {
          "output_type": "stream",
          "text": [
            "('Accuracy Score : ', 84.66727363019368)\n",
            "DecisionTreeClassifier(class_weight=None, criterion='entropy', max_depth=400,\n",
            "            max_features=None, max_leaf_nodes=None,\n",
            "            min_impurity_decrease=0.0, min_impurity_split=None,\n",
            "            min_samples_leaf=1, min_samples_split=2,\n",
            "            min_weight_fraction_leaf=0.0, presort=False, random_state=None,\n",
            "            splitter='best')\n",
            "OrderedDict([('cm', Predicted     0     1     2     3  __all__\n",
            "Actual                                    \n",
            "0           450   500   428   439     1817\n",
            "1           455   446   450   450     1801\n",
            "2           432   463   451   468     1814\n",
            "3           450   439   473   471     1833\n",
            "__all__    1787  1848  1802  1828     7265), ('overall', OrderedDict([('Accuracy', 0.2502408809359945), ('95% CI', (0.24031358835499675, 0.26036895515797287)), ('No Information Rate', 'ToDo'), ('P-Value [Acc > NIR]', 0.7941579719491065), ('Kappa', 0.00032817616858481344), (\"Mcnemar's Test P-Value\", 'ToDo')])), ('class', Classes                                         0           1            2  \\\n",
            "Population                                   7265        7265         7265   \n",
            "P: Condition positive                        1817        1801         1814   \n",
            "N: Condition negative                        5448        5464         5451   \n",
            "Test outcome positive                        1787        1848         1802   \n",
            "Test outcome negative                        5478        5417         5463   \n",
            "TP: True Positive                             450         446          451   \n",
            "TN: True Negative                            4111        4062         4100   \n",
            "FP: False Positive                           1337        1402         1351   \n",
            "FN: False Negative                           1367        1355         1363   \n",
            "TPR: (Sensitivity, hit rate, recall)     0.247661     0.24764     0.248622   \n",
            "TNR=SPC: (Specificity)                   0.754589    0.743411     0.752156   \n",
            "PPV: Pos Pred Value (Precision)          0.251819    0.241342     0.250277   \n",
            "NPV: Neg Pred Value                      0.750456    0.749862     0.750503   \n",
            "FPR: False-out                           0.245411    0.256589     0.247844   \n",
            "FDR: False Discovery Rate                0.748181    0.758658     0.749723   \n",
            "FNR: Miss Rate                           0.752339     0.75236     0.751378   \n",
            "ACC: Accuracy                            0.627805    0.620509     0.626428   \n",
            "F1 score                                 0.249723    0.244451     0.249447   \n",
            "MCC: Matthews correlation coefficient  0.00226241  -0.0088721  0.000779125   \n",
            "Informedness                           0.00224982 -0.00894838  0.000777398   \n",
            "Markedness                             0.00227506 -0.00879646  0.000780856   \n",
            "Prevalence                               0.250103    0.247901      0.24969   \n",
            "LR+: Positive likelihood ratio            1.00917    0.965126      1.00314   \n",
            "LR-: Negative likelihood ratio           0.997018     1.01204     0.998966   \n",
            "DOR: Diagnostic odds ratio                1.01219    0.953647      1.00417   \n",
            "FOR: False omission rate                 0.249544    0.250138     0.249497   \n",
            "\n",
            "Classes                                         3  \n",
            "Population                                   7265  \n",
            "P: Condition positive                        1833  \n",
            "N: Condition negative                        5432  \n",
            "Test outcome positive                        1828  \n",
            "Test outcome negative                        5437  \n",
            "TP: True Positive                             471  \n",
            "TN: True Negative                            4075  \n",
            "FP: False Positive                           1357  \n",
            "FN: False Negative                           1362  \n",
            "TPR: (Sensitivity, hit rate, recall)     0.256956  \n",
            "TNR=SPC: (Specificity)                   0.750184  \n",
            "PPV: Pos Pred Value (Precision)          0.257659  \n",
            "NPV: Neg Pred Value                      0.749494  \n",
            "FPR: False-out                           0.249816  \n",
            "FDR: False Discovery Rate                0.742341  \n",
            "FNR: Miss Rate                           0.743044  \n",
            "ACC: Accuracy                             0.62574  \n",
            "F1 score                                 0.257307  \n",
            "MCC: Matthews correlation coefficient  0.00714637  \n",
            "Informedness                            0.0071399  \n",
            "Markedness                             0.00715285  \n",
            "Prevalence                               0.252306  \n",
            "LR+: Positive likelihood ratio            1.02858  \n",
            "LR-: Negative likelihood ratio           0.990482  \n",
            "DOR: Diagnostic odds ratio                1.03846  \n",
            "FOR: False omission rate                 0.250506  )])\n"
          ],
          "name": "stdout"
        },
        {
          "output_type": "display_data",
          "data": {
            "image/png": "[encoded data removed]",
            "text/plain": [
              "<matplotlib.figure.Figure at 0x7fbe6362eb90>"
            ]
          },
          "metadata": {
            "tags": []
          }
        }
      ]
    },
    {
      "metadata": {
        "id": "mVfqqWkEcr5D",
        "colab_type": "code",
        "colab": {
          "base_uri": "https://localhost:8080/",
          "height": 141
        },
        "outputId": "15781964-a402-4663-c880-8c692186138b"
      },
      "cell_type": "code",
      "source": [
        "mpdp = mod.predict_proba(y_train)\n",
        "print(modp)"
      ],
      "execution_count": 94,
      "outputs": [
        {
          "output_type": "stream",
          "text": [
            "[[1. 0. 0. 0.]\n",
            " [0. 1. 0. 0.]\n",
            " [0. 1. 0. 0.]\n",
            " ...\n",
            " [0. 0. 1. 0.]\n",
            " [1. 0. 0. 0.]\n",
            " [0. 1. 0. 0.]]\n"
          ],
          "name": "stdout"
        }
      ]
    },
    {
      "metadata": {
        "id": "YiczUkjvn4Nv",
        "colab_type": "code",
        "colab": {
          "base_uri": "https://localhost:8080/",
          "height": 1674
        },
        "outputId": "1518f31a-2725-4c1e-9dc8-94f062a1cd83"
      },
      "cell_type": "code",
      "source": [
        "from sklearn.linear_model import LogisticRegression\n",
        "mod = LogisticRegression(multi_class = 'multinomial' , solver='lbfgs') \n",
        "mod.fit(x_train , x_test) \n",
        "pred = mod.predict(y_train) \n",
        "y_pred = accuracy_score(y_test , pred)\n",
        "cm = ConfusionMatrix(y_test , pred)\n",
        "cm.plot()\n",
        "print('Accuracy Score : ' , y_pred*100) \n",
        "print(mod)\n",
        "print(cm.stats())"
      ],
      "execution_count": 95,
      "outputs": [
        {
          "output_type": "stream",
          "text": [
            "('Accuracy Score : ', 32.776030458533356)\n",
            "LogisticRegression(C=1.0, class_weight=None, dual=False, fit_intercept=True,\n",
            "          intercept_scaling=1, max_iter=100, multi_class='multinomial',\n",
            "          n_jobs=1, penalty='l2', random_state=None, solver='lbfgs',\n",
            "          tol=0.0001, verbose=0, warm_start=False)\n",
            "OrderedDict([('cm', Predicted     0    1     2     3  __all__\n",
            "Actual                                   \n",
            "0           680   87   490   560     1817\n",
            "1           672   65   504   560     1801\n",
            "2           678   66   462   608     1814\n",
            "3           712   78   483   560     1833\n",
            "__all__    2742  296  1939  2288     7265), ('overall', OrderedDict([('Accuracy', 0.24322092222986924), ('95% CI', (0.233391261991206, 0.25325702535232986)), ('No Information Rate', 'ToDo'), ('P-Value [Acc > NIR]', 0.9999999999999999), ('Kappa', -0.009842450756459594), (\"Mcnemar's Test P-Value\", 'ToDo')])), ('class', Classes                                         0           1          2  \\\n",
            "Population                                   7265        7265       7265   \n",
            "P: Condition positive                        1817        1801       1814   \n",
            "N: Condition negative                        5448        5464       5451   \n",
            "Test outcome positive                        2742         296       1939   \n",
            "Test outcome negative                        4523        6969       5326   \n",
            "TP: True Positive                             680          65        462   \n",
            "TN: True Negative                            3386        5233       3974   \n",
            "FP: False Positive                           2062         231       1477   \n",
            "FN: False Negative                           1137        1736       1352   \n",
            "TPR: (Sensitivity, hit rate, recall)     0.374243   0.0360911   0.254686   \n",
            "TNR=SPC: (Specificity)                   0.621512    0.957723   0.729041   \n",
            "PPV: Pos Pred Value (Precision)          0.247994    0.219595   0.238267   \n",
            "NPV: Neg Pred Value                      0.748618    0.750897   0.746151   \n",
            "FPR: False-out                           0.378488   0.0422767   0.270959   \n",
            "FDR: False Discovery Rate                0.752006    0.780405   0.761733   \n",
            "FNR: Miss Rate                           0.625757    0.963909   0.745314   \n",
            "ACC: Accuracy                             0.55967     0.72925   0.610599   \n",
            "F1 score                                 0.298311   0.0619933   0.246203   \n",
            "MCC: Matthews correlation coefficient -0.00379185  -0.0135104  -0.015924   \n",
            "Informedness                          -0.00424426 -0.00618566 -0.0162737   \n",
            "Markedness                            -0.00338766  -0.0295086 -0.0155819   \n",
            "Prevalence                               0.250103    0.247901    0.24969   \n",
            "LR+: Positive likelihood ratio           0.988786    0.853686   0.939941   \n",
            "LR-: Negative likelihood ratio            1.00683     1.00646    1.02232   \n",
            "DOR: Diagnostic odds ratio                0.98208    0.848208   0.919417   \n",
            "FOR: False omission rate                 0.251382    0.249103   0.253849   \n",
            "\n",
            "Classes                                        3  \n",
            "Population                                  7265  \n",
            "P: Condition positive                       1833  \n",
            "N: Condition negative                       5432  \n",
            "Test outcome positive                       2288  \n",
            "Test outcome negative                       4977  \n",
            "TP: True Positive                            560  \n",
            "TN: True Negative                           3704  \n",
            "FP: False Positive                          1728  \n",
            "FN: False Negative                          1273  \n",
            "TPR: (Sensitivity, hit rate, recall)     0.30551  \n",
            "TNR=SPC: (Specificity)                  0.681885  \n",
            "PPV: Pos Pred Value (Precision)         0.244755  \n",
            "NPV: Neg Pred Value                     0.744223  \n",
            "FPR: False-out                          0.318115  \n",
            "FDR: False Discovery Rate               0.755245  \n",
            "FNR: Miss Rate                           0.69449  \n",
            "ACC: Accuracy                           0.586924  \n",
            "F1 score                                0.271779  \n",
            "MCC: Matthews correlation coefficient -0.0117865  \n",
            "Informedness                          -0.0126048  \n",
            "Markedness                            -0.0110213  \n",
            "Prevalence                              0.252306  \n",
            "LR+: Positive likelihood ratio          0.960377  \n",
            "LR-: Negative likelihood ratio           1.01849  \n",
            "DOR: Diagnostic odds ratio              0.942946  \n",
            "FOR: False omission rate                0.255777  )])\n"
          ],
          "name": "stdout"
        },
        {
          "output_type": "display_data",
          "data": {
            "image/png": "[encoded data removed]",
            "text/plain": [
              "<matplotlib.figure.Figure at 0x7fbe63c737d0>"
            ]
          },
          "metadata": {
            "tags": []
          }
        }
      ]
    },
    {
      "metadata": {
        "id": "3awFD91ucvrW",
        "colab_type": "code",
        "colab": {
          "base_uri": "https://localhost:8080/",
          "height": 141
        },
        "outputId": "823fde50-008c-436f-e21b-0b504b1dfe7c"
      },
      "cell_type": "code",
      "source": [
        "mpdp = mod.predict_proba(y_train)\n",
        "print(modp)"
      ],
      "execution_count": 96,
      "outputs": [
        {
          "output_type": "stream",
          "text": [
            "[[1. 0. 0. 0.]\n",
            " [0. 1. 0. 0.]\n",
            " [0. 1. 0. 0.]\n",
            " ...\n",
            " [0. 0. 1. 0.]\n",
            " [1. 0. 0. 0.]\n",
            " [0. 1. 0. 0.]]\n"
          ],
          "name": "stdout"
        }
      ]
    },
    {
      "metadata": {
        "id": "VPGphAWioL0f",
        "colab_type": "code",
        "colab": {
          "base_uri": "https://localhost:8080/",
          "height": 1745
        },
        "outputId": "a0a1feee-7fed-400b-fa3e-6810f3c965e5"
      },
      "cell_type": "code",
      "source": [
        "from sklearn.ensemble import GradientBoostingClassifier\n",
        "mod = GradientBoostingClassifier() \n",
        "mod.fit(x_train , x_test) \n",
        "pred = mod.predict(y_train) \n",
        "y_pred = accuracy_score(y_test , pred)\n",
        "cm = ConfusionMatrix(y_test , pred)\n",
        "cm.plot()\n",
        "print('Accuracy Score : ' , y_pred*100) \n",
        "print(mod)\n",
        "print(cm.stats())"
      ],
      "execution_count": 97,
      "outputs": [
        {
          "output_type": "stream",
          "text": [
            "('Accuracy Score : ', 75.44694586988909)\n",
            "GradientBoostingClassifier(criterion='friedman_mse', init=None,\n",
            "              learning_rate=0.1, loss='deviance', max_depth=3,\n",
            "              max_features=None, max_leaf_nodes=None,\n",
            "              min_impurity_decrease=0.0, min_impurity_split=None,\n",
            "              min_samples_leaf=1, min_samples_split=2,\n",
            "              min_weight_fraction_leaf=0.0, n_estimators=100,\n",
            "              presort='auto', random_state=None, subsample=1.0, verbose=0,\n",
            "              warm_start=False)\n",
            "OrderedDict([('cm', Predicted     0     1     2     3  __all__\n",
            "Actual                                    \n",
            "0           415   511   401   490     1817\n",
            "1           420   455   433   493     1801\n",
            "2           410   451   458   495     1814\n",
            "3           447   449   441   496     1833\n",
            "__all__    1692  1866  1733  1974     7265), ('overall', OrderedDict([('Accuracy', 0.25106675843083276), ('95% CI', (0.24112821076036872, 0.2612054218413693)), ('No Information Rate', 'ToDo'), ('P-Value [Acc > NIR]', 0.9999683598560869), ('Kappa', 0.0013724512508352692), (\"Mcnemar's Test P-Value\", 'ToDo')])), ('class', Classes                                         0           1          2  \\\n",
            "Population                                   7265        7265       7265   \n",
            "P: Condition positive                        1817        1801       1814   \n",
            "N: Condition negative                        5448        5464       5451   \n",
            "Test outcome positive                        1692        1866       1733   \n",
            "Test outcome negative                        5573        5399       5532   \n",
            "TP: True Positive                             415         455        458   \n",
            "TN: True Negative                            4171        4053       4176   \n",
            "FP: False Positive                           1277        1411       1275   \n",
            "FN: False Negative                           1402        1346       1356   \n",
            "TPR: (Sensitivity, hit rate, recall)     0.228398    0.252637   0.252481   \n",
            "TNR=SPC: (Specificity)                   0.765602    0.741764   0.766098   \n",
            "PPV: Pos Pred Value (Precision)          0.245272    0.243837   0.264282   \n",
            "NPV: Neg Pred Value                       0.74843    0.750695   0.754881   \n",
            "FPR: False-out                           0.234398    0.258236   0.233902   \n",
            "FDR: False Discovery Rate                0.754728    0.756163   0.735718   \n",
            "FNR: Miss Rate                           0.771602    0.747363   0.747519   \n",
            "ACC: Accuracy                            0.631246    0.620509   0.637853   \n",
            "F1 score                                 0.236535    0.248159   0.258246   \n",
            "MCC: Matthews correlation coefficient -0.00614703 -0.00553294  0.0188682   \n",
            "Informedness                          -0.00599949  -0.0055983  0.0185787   \n",
            "Markedness                             -0.0062982 -0.00546834  0.0191623   \n",
            "Prevalence                               0.250103    0.247901    0.24969   \n",
            "LR+: Positive likelihood ratio           0.974405    0.978321    1.07943   \n",
            "LR-: Negative likelihood ratio            1.00784     1.00755   0.975749   \n",
            "DOR: Diagnostic odds ratio               0.966828    0.970993    1.10626   \n",
            "FOR: False omission rate                  0.25157    0.249305   0.245119   \n",
            "\n",
            "Classes                                         3  \n",
            "Population                                   7265  \n",
            "P: Condition positive                        1833  \n",
            "N: Condition negative                        5432  \n",
            "Test outcome positive                        1974  \n",
            "Test outcome negative                        5291  \n",
            "TP: True Positive                             496  \n",
            "TN: True Negative                            3954  \n",
            "FP: False Positive                           1478  \n",
            "FN: False Negative                           1337  \n",
            "TPR: (Sensitivity, hit rate, recall)     0.270595  \n",
            "TNR=SPC: (Specificity)                   0.727909  \n",
            "PPV: Pos Pred Value (Precision)          0.251266  \n",
            "NPV: Neg Pred Value                      0.747307  \n",
            "FPR: False-out                           0.272091  \n",
            "FDR: False Discovery Rate                0.748734  \n",
            "FNR: Miss Rate                           0.729405  \n",
            "ACC: Accuracy                            0.612526  \n",
            "F1 score                                 0.260573  \n",
            "MCC: Matthews correlation coefficient -0.00146131  \n",
            "Informedness                          -0.00149666  \n",
            "Markedness                            -0.00142679  \n",
            "Prevalence                               0.252306  \n",
            "LR+: Positive likelihood ratio           0.994499  \n",
            "LR-: Negative likelihood ratio            1.00206  \n",
            "DOR: Diagnostic odds ratio               0.992459  \n",
            "FOR: False omission rate                 0.252693  )])\n"
          ],
          "name": "stdout"
        },
        {
          "output_type": "display_data",
          "data": {
            "image/png": "[encoded data removed]",
            "text/plain": [
              "<matplotlib.figure.Figure at 0x7fbe6353edd0>"
            ]
          },
          "metadata": {
            "tags": []
          }
        }
      ]
    },
    {
      "metadata": {
        "id": "AeVx2Jb7dCIJ",
        "colab_type": "code",
        "colab": {
          "base_uri": "https://localhost:8080/",
          "height": 141
        },
        "outputId": "c420b922-119a-4155-9dd2-334c6f0b4f04"
      },
      "cell_type": "code",
      "source": [
        "mpdp = mod.predict_proba(y_train)\n",
        "print(modp)"
      ],
      "execution_count": 98,
      "outputs": [
        {
          "output_type": "stream",
          "text": [
            "[[1. 0. 0. 0.]\n",
            " [0. 1. 0. 0.]\n",
            " [0. 1. 0. 0.]\n",
            " ...\n",
            " [0. 0. 1. 0.]\n",
            " [1. 0. 0. 0.]\n",
            " [0. 1. 0. 0.]]\n"
          ],
          "name": "stdout"
        }
      ]
    },
    {
      "metadata": {
        "id": "His1JoJYof-x",
        "colab_type": "code",
        "colab": {}
      },
      "cell_type": "code",
      "source": [
        "from sklearn.ensemble import RandomForestClassifier"
      ],
      "execution_count": 0,
      "outputs": []
    },
    {
      "metadata": {
        "id": "_xsdtBSMprVM",
        "colab_type": "code",
        "colab": {
          "base_uri": "https://localhost:8080/",
          "height": 1727
        },
        "outputId": "0f57a4bd-202d-4753-a596-6939197b1cce"
      },
      "cell_type": "code",
      "source": [
        "mod2 = RandomForestClassifier()\n",
        "mod2.fit(x_train , x_test)\n",
        "pred2 = mod2.predict(y_train)\n",
        "y_pred = accuracy_score(y_test , pred2)\n",
        "cm = ConfusionMatrix(y_test , pred2)\n",
        "cm.plot()\n",
        "print('Accuracy Score : ' , y_pred*100) \n",
        "print(mod2)\n",
        "print(cm.stats())"
      ],
      "execution_count": 100,
      "outputs": [
        {
          "output_type": "stream",
          "text": [
            "('Accuracy Score : ', 85.72256248965402)\n",
            "RandomForestClassifier(bootstrap=True, class_weight=None, criterion='gini',\n",
            "            max_depth=None, max_features='auto', max_leaf_nodes=None,\n",
            "            min_impurity_decrease=0.0, min_impurity_split=None,\n",
            "            min_samples_leaf=1, min_samples_split=2,\n",
            "            min_weight_fraction_leaf=0.0, n_estimators=10, n_jobs=1,\n",
            "            oob_score=False, random_state=None, verbose=0,\n",
            "            warm_start=False)\n",
            "OrderedDict([('cm', Predicted     0     1     2     3  __all__\n",
            "Actual                                    \n",
            "0           458   505   417   437     1817\n",
            "1           451   452   441   457     1801\n",
            "2           440   464   450   460     1814\n",
            "3           469   462   448   454     1833\n",
            "__all__    1818  1883  1756  1808     7265), ('overall', OrderedDict([('Accuracy', 0.24969029593943565), ('95% CI', (0.23977053354184608, 0.25981128392647923)), ('No Information Rate', 'ToDo'), ('P-Value [Acc > NIR]', 0.9689960195845702), ('Kappa', -0.00038718049841022064), (\"Mcnemar's Test P-Value\", 'ToDo')])), ('class', Classes                                         0          1           2  \\\n",
            "Population                                   7265       7265        7265   \n",
            "P: Condition positive                        1817       1801        1814   \n",
            "N: Condition negative                        5448       5464        5451   \n",
            "Test outcome positive                        1818       1883        1756   \n",
            "Test outcome negative                        5447       5382        5509   \n",
            "TP: True Positive                             458        452         450   \n",
            "TN: True Negative                            4088       4033        4145   \n",
            "FP: False Positive                           1360       1431        1306   \n",
            "FN: False Negative                           1359       1349        1364   \n",
            "TPR: (Sensitivity, hit rate, recall)     0.252064   0.250972    0.248071   \n",
            "TNR=SPC: (Specificity)                   0.750367   0.738104    0.760411   \n",
            "PPV: Pos Pred Value (Precision)          0.251925   0.240042    0.256264   \n",
            "NPV: Neg Pred Value                      0.750505    0.74935    0.752405   \n",
            "FPR: False-out                           0.249633   0.261896    0.239589   \n",
            "FDR: False Discovery Rate                0.748075   0.759958    0.743736   \n",
            "FNR: Miss Rate                           0.747936   0.749028    0.751929   \n",
            "ACC: Accuracy                             0.62574   0.617343    0.632485   \n",
            "F1 score                                 0.251994   0.245385    0.252101   \n",
            "MCC: Matthews correlation coefficient   0.0024305 -0.0107649  0.00857493   \n",
            "Informedness                           0.00243095 -0.0109244   0.0084815   \n",
            "Markedness                             0.00243006 -0.0106078  0.00866939   \n",
            "Prevalence                               0.250103   0.247901     0.24969   \n",
            "LR+: Positive likelihood ratio            1.00974   0.958287      1.0354   \n",
            "LR-: Negative likelihood ratio            0.99676     1.0148    0.988846   \n",
            "DOR: Diagnostic odds ratio                1.01302   0.944311     1.04708   \n",
            "FOR: False omission rate                 0.249495    0.25065    0.247595   \n",
            "\n",
            "Classes                                         3  \n",
            "Population                                   7265  \n",
            "P: Condition positive                        1833  \n",
            "N: Condition negative                        5432  \n",
            "Test outcome positive                        1808  \n",
            "Test outcome negative                        5457  \n",
            "TP: True Positive                             454  \n",
            "TN: True Negative                            4078  \n",
            "FP: False Positive                           1354  \n",
            "FN: False Negative                           1379  \n",
            "TPR: (Sensitivity, hit rate, recall)     0.247681  \n",
            "TNR=SPC: (Specificity)                   0.750736  \n",
            "PPV: Pos Pred Value (Precision)          0.251106  \n",
            "NPV: Neg Pred Value                      0.747297  \n",
            "FPR: False-out                           0.249264  \n",
            "FDR: False Discovery Rate                0.748894  \n",
            "FNR: Miss Rate                           0.752319  \n",
            "ACC: Accuracy                            0.623813  \n",
            "F1 score                                 0.249382  \n",
            "MCC: Matthews correlation coefficient -0.00158947  \n",
            "Informedness                          -0.00158223  \n",
            "Markedness                            -0.00159676  \n",
            "Prevalence                               0.252306  \n",
            "LR+: Positive likelihood ratio           0.993652  \n",
            "LR-: Negative likelihood ratio            1.00211  \n",
            "DOR: Diagnostic odds ratio               0.991563  \n",
            "FOR: False omission rate                 0.252703  )])\n"
          ],
          "name": "stdout"
        },
        {
          "output_type": "display_data",
          "data": {
            "image/png": "[encoded data removed]",
            "text/plain": [
              "<matplotlib.figure.Figure at 0x7fbe65f24110>"
            ]
          },
          "metadata": {
            "tags": []
          }
        }
      ]
    },
    {
      "metadata": {
        "id": "6hk1sDZudRNL",
        "colab_type": "code",
        "colab": {
          "base_uri": "https://localhost:8080/",
          "height": 141
        },
        "outputId": "cb17b164-d18c-4dd8-acc7-3f8f6941252d"
      },
      "cell_type": "code",
      "source": [
        "mpdp = mod2.predict_proba(y_train)\n",
        "print(modp)"
      ],
      "execution_count": 101,
      "outputs": [
        {
          "output_type": "stream",
          "text": [
            "[[1. 0. 0. 0.]\n",
            " [0. 1. 0. 0.]\n",
            " [0. 1. 0. 0.]\n",
            " ...\n",
            " [0. 0. 1. 0.]\n",
            " [1. 0. 0. 0.]\n",
            " [0. 1. 0. 0.]]\n"
          ],
          "name": "stdout"
        }
      ]
    },
    {
      "metadata": {
        "id": "Unp8FQBOputm",
        "colab_type": "code",
        "colab": {
          "base_uri": "https://localhost:8080/",
          "height": 1727
        },
        "outputId": "6707ef12-3c8a-44ee-fbd5-c24f9d7b88ed"
      },
      "cell_type": "code",
      "source": [
        "mod2 = RandomForestClassifier(criterion = 'entropy' ,n_estimators = 20 , max_depth= 400 , max_features= 7)\n",
        "mod2.fit(x_train , x_test)\n",
        "pred2 = mod2.predict(y_train)\n",
        "y_pred = accuracy_score(y_test , pred2)\n",
        "cm = ConfusionMatrix(y_test , pred2)\n",
        "cm.plot()\n",
        "print('Accuracy Score : ' , y_pred*100) \n",
        "print(mod2)\n",
        "print(cm.stats())"
      ],
      "execution_count": 102,
      "outputs": [
        {
          "output_type": "stream",
          "text": [
            "('Accuracy Score : ', 86.3888429068035)\n",
            "RandomForestClassifier(bootstrap=True, class_weight=None, criterion='entropy',\n",
            "            max_depth=400, max_features=7, max_leaf_nodes=None,\n",
            "            min_impurity_decrease=0.0, min_impurity_split=None,\n",
            "            min_samples_leaf=1, min_samples_split=2,\n",
            "            min_weight_fraction_leaf=0.0, n_estimators=20, n_jobs=1,\n",
            "            oob_score=False, random_state=None, verbose=0,\n",
            "            warm_start=False)\n",
            "OrderedDict([('cm', Predicted     0     1     2     3  __all__\n",
            "Actual                                    \n",
            "0           460   496   423   438     1817\n",
            "1           459   446   426   470     1801\n",
            "2           430   468   458   458     1814\n",
            "3           463   460   454   456     1833\n",
            "__all__    1812  1870  1761  1822     7265), ('overall', OrderedDict([('Accuracy', 0.2505161734342739), ('95% CI', (0.2405851238045703, 0.2606477827350481)), ('No Information Rate', 'ToDo'), ('P-Value [Acc > NIR]', 0.9126122663082435), ('Kappa', 0.0007034345750143177), (\"Mcnemar's Test P-Value\", 'ToDo')])), ('class', Classes                                         0          1          2  \\\n",
            "Population                                   7265       7265       7265   \n",
            "P: Condition positive                        1817       1801       1814   \n",
            "N: Condition negative                        5448       5464       5451   \n",
            "Test outcome positive                        1812       1870       1761   \n",
            "Test outcome negative                        5453       5395       5504   \n",
            "TP: True Positive                             460        446        458   \n",
            "TN: True Negative                            4096       4040       4148   \n",
            "FP: False Positive                           1352       1424       1303   \n",
            "FN: False Negative                           1357       1355       1356   \n",
            "TPR: (Sensitivity, hit rate, recall)     0.253165    0.24764   0.252481   \n",
            "TNR=SPC: (Specificity)                   0.751836   0.739385   0.760961   \n",
            "PPV: Pos Pred Value (Precision)          0.253863   0.238503    0.26008   \n",
            "NPV: Neg Pred Value                      0.751146   0.748842   0.753634   \n",
            "FPR: False-out                           0.248164   0.260615   0.239039   \n",
            "FDR: False Discovery Rate                0.746137   0.761497    0.73992   \n",
            "FNR: Miss Rate                           0.746835    0.75236   0.747519   \n",
            "ACC: Accuracy                            0.627116   0.617481   0.633999   \n",
            "F1 score                                 0.253513   0.242986   0.256224   \n",
            "MCC: Matthews correlation coefficient  0.00500469 -0.0128143  0.0135769   \n",
            "Informedness                           0.00500009 -0.0129747   0.013442   \n",
            "Markedness                             0.00500929 -0.0126558  0.0137132   \n",
            "Prevalence                               0.250103   0.247901    0.24969   \n",
            "LR+: Positive likelihood ratio            1.02015   0.950215    1.05623   \n",
            "LR-: Negative likelihood ratio           0.993349    1.01755   0.982336   \n",
            "DOR: Diagnostic odds ratio                1.02698   0.933828    1.07523   \n",
            "FOR: False omission rate                 0.248854   0.251158   0.246366   \n",
            "\n",
            "Classes                                         3  \n",
            "Population                                   7265  \n",
            "P: Condition positive                        1833  \n",
            "N: Condition negative                        5432  \n",
            "Test outcome positive                        1822  \n",
            "Test outcome negative                        5443  \n",
            "TP: True Positive                             456  \n",
            "TN: True Negative                            4066  \n",
            "FP: False Positive                           1366  \n",
            "FN: False Negative                           1377  \n",
            "TPR: (Sensitivity, hit rate, recall)     0.248773  \n",
            "TNR=SPC: (Specificity)                   0.748527  \n",
            "PPV: Pos Pred Value (Precision)          0.250274  \n",
            "NPV: Neg Pred Value                      0.747015  \n",
            "FPR: False-out                           0.251473  \n",
            "FDR: False Discovery Rate                0.749726  \n",
            "FNR: Miss Rate                           0.751227  \n",
            "ACC: Accuracy                            0.622436  \n",
            "F1 score                                 0.249521  \n",
            "MCC: Matthews correlation coefficient -0.00270565  \n",
            "Informedness                          -0.00270025  \n",
            "Markedness                            -0.00271106  \n",
            "Prevalence                               0.252306  \n",
            "LR+: Positive likelihood ratio           0.989262  \n",
            "LR-: Negative likelihood ratio            1.00361  \n",
            "DOR: Diagnostic odds ratio               0.985706  \n",
            "FOR: False omission rate                 0.252985  )])\n"
          ],
          "name": "stdout"
        },
        {
          "output_type": "display_data",
          "data": {
            "image/png": "[encoded data removed]",
            "text/plain": [
              "<matplotlib.figure.Figure at 0x7fbe63669050>"
            ]
          },
          "metadata": {
            "tags": []
          }
        }
      ]
    },
    {
      "metadata": {
        "id": "pst9naEDdWBl",
        "colab_type": "code",
        "colab": {
          "base_uri": "https://localhost:8080/",
          "height": 141
        },
        "outputId": "6cdb9a2c-1e47-4d85-a1c7-d7b5aa636199"
      },
      "cell_type": "code",
      "source": [
        "mpdp = mod2.predict_proba(y_train)\n",
        "print(modp)"
      ],
      "execution_count": 103,
      "outputs": [
        {
          "output_type": "stream",
          "text": [
            "[[1. 0. 0. 0.]\n",
            " [0. 1. 0. 0.]\n",
            " [0. 1. 0. 0.]\n",
            " ...\n",
            " [0. 0. 1. 0.]\n",
            " [1. 0. 0. 0.]\n",
            " [0. 1. 0. 0.]]\n"
          ],
          "name": "stdout"
        }
      ]
    },
    {
      "metadata": {
        "id": "SBYw-e3uq-_J",
        "colab_type": "code",
        "colab": {
          "base_uri": "https://localhost:8080/",
          "height": 1727
        },
        "outputId": "6e3d44ca-2a6d-4bbf-c90b-13ae92e3f5c1"
      },
      "cell_type": "code",
      "source": [
        "mod2 = RandomForestClassifier(n_estimators = 20 , max_depth = 400 , max_features = 8 )\n",
        "mod2.fit(x_train , x_test)\n",
        "pred2 = mod2.predict(y_train)\n",
        "y_pred = accuracy_score(y_test , pred2)\n",
        "cm = ConfusionMatrix(y_test , pred2)\n",
        "cm.plot()\n",
        "print('Accuracy Score : ' , y_pred*100) \n",
        "print(mod2)\n",
        "print(cm.stats())"
      ],
      "execution_count": 104,
      "outputs": [
        {
          "output_type": "stream",
          "text": [
            "('Accuracy Score : ', 86.53368647574905)\n",
            "RandomForestClassifier(bootstrap=True, class_weight=None, criterion='gini',\n",
            "            max_depth=400, max_features=8, max_leaf_nodes=None,\n",
            "            min_impurity_decrease=0.0, min_impurity_split=None,\n",
            "            min_samples_leaf=1, min_samples_split=2,\n",
            "            min_weight_fraction_leaf=0.0, n_estimators=20, n_jobs=1,\n",
            "            oob_score=False, random_state=None, verbose=0,\n",
            "            warm_start=False)\n",
            "OrderedDict([('cm', Predicted     0     1     2     3  __all__\n",
            "Actual                                    \n",
            "0           442   497   428   450     1817\n",
            "1           455   463   431   452     1801\n",
            "2           430   465   461   458     1814\n",
            "3           462   466   458   447     1833\n",
            "__all__    1789  1891  1778  1807     7265), ('overall', OrderedDict([('Accuracy', 0.24955264969029595), ('95% CI', (0.2396347731941253, 0.2596718627648926)), ('No Information Rate', 'ToDo'), ('P-Value [Acc > NIR]', 0.982413573289463), ('Kappa', -0.000565396225238782), (\"Mcnemar's Test P-Value\", 'ToDo')])), ('class', Classes                                         0           1          2  \\\n",
            "Population                                   7265        7265       7265   \n",
            "P: Condition positive                        1817        1801       1814   \n",
            "N: Condition negative                        5448        5464       5451   \n",
            "Test outcome positive                        1789        1891       1778   \n",
            "Test outcome negative                        5476        5374       5487   \n",
            "TP: True Positive                             442         463        461   \n",
            "TN: True Negative                            4101        4036       4134   \n",
            "FP: False Positive                           1347        1428       1317   \n",
            "FN: False Negative                           1375        1338       1353   \n",
            "TPR: (Sensitivity, hit rate, recall)     0.243258    0.257079   0.254135   \n",
            "TNR=SPC: (Specificity)                   0.752753    0.738653   0.758393   \n",
            "PPV: Pos Pred Value (Precision)          0.247065    0.244844    0.25928   \n",
            "NPV: Neg Pred Value                      0.748904    0.751023   0.753417   \n",
            "FPR: False-out                           0.247247    0.261347   0.241607   \n",
            "FDR: False Discovery Rate                0.752935    0.755156    0.74072   \n",
            "FNR: Miss Rate                           0.756742    0.742921   0.745865   \n",
            "ACC: Accuracy                            0.625327     0.61927   0.632485   \n",
            "F1 score                                 0.245147    0.250813   0.256682   \n",
            "MCC: Matthews correlation coefficient -0.00400938 -0.00419953  0.0126121   \n",
            "Informedness                          -0.00398858  -0.0042676  0.0125275   \n",
            "Markedness                            -0.00403029 -0.00413256  0.0126973   \n",
            "Prevalence                               0.250103    0.247901    0.24969   \n",
            "LR+: Positive likelihood ratio           0.983868    0.983671    1.05185   \n",
            "LR-: Negative likelihood ratio             1.0053     1.00578   0.983482   \n",
            "DOR: Diagnostic odds ratio               0.978682     0.97802    1.06952   \n",
            "FOR: False omission rate                 0.251096    0.248977   0.246583   \n",
            "\n",
            "Classes                                         3  \n",
            "Population                                   7265  \n",
            "P: Condition positive                        1833  \n",
            "N: Condition negative                        5432  \n",
            "Test outcome positive                        1807  \n",
            "Test outcome negative                        5458  \n",
            "TP: True Positive                             447  \n",
            "TN: True Negative                            4072  \n",
            "FP: False Positive                           1360  \n",
            "FN: False Negative                           1386  \n",
            "TPR: (Sensitivity, hit rate, recall)     0.243863  \n",
            "TNR=SPC: (Specificity)                   0.749632  \n",
            "PPV: Pos Pred Value (Precision)          0.247371  \n",
            "NPV: Neg Pred Value                      0.746061  \n",
            "FPR: False-out                           0.250368  \n",
            "FDR: False Discovery Rate                0.752629  \n",
            "FNR: Miss Rate                           0.756137  \n",
            "ACC: Accuracy                            0.622023  \n",
            "F1 score                                 0.245604  \n",
            "MCC: Matthews correlation coefficient -0.00653668  \n",
            "Informedness                          -0.00650567  \n",
            "Markedness                            -0.00656784  \n",
            "Prevalence                               0.252306  \n",
            "LR+: Positive likelihood ratio           0.974016  \n",
            "LR-: Negative likelihood ratio            1.00868  \n",
            "DOR: Diagnostic odds ratio               0.965635  \n",
            "FOR: False omission rate                 0.253939  )])\n"
          ],
          "name": "stdout"
        },
        {
          "output_type": "display_data",
          "data": {
            "image/png": "[encoded data removed]",
            "text/plain": [
              "<matplotlib.figure.Figure at 0x7fbe634c8cd0>"
            ]
          },
          "metadata": {
            "tags": []
          }
        }
      ]
    },
    {
      "metadata": {
        "id": "KsG9LAu2dacu",
        "colab_type": "code",
        "colab": {
          "base_uri": "https://localhost:8080/",
          "height": 141
        },
        "outputId": "23ad47ea-27d7-4498-a489-6e90a59d4b5e"
      },
      "cell_type": "code",
      "source": [
        "mpdp = mod2.predict_proba(y_train)\n",
        "print(modp)"
      ],
      "execution_count": 105,
      "outputs": [
        {
          "output_type": "stream",
          "text": [
            "[[1. 0. 0. 0.]\n",
            " [0. 1. 0. 0.]\n",
            " [0. 1. 0. 0.]\n",
            " ...\n",
            " [0. 0. 1. 0.]\n",
            " [1. 0. 0. 0.]\n",
            " [0. 1. 0. 0.]]\n"
          ],
          "name": "stdout"
        }
      ]
    },
    {
      "metadata": {
        "id": "7GVdEvi1rEV2",
        "colab_type": "code",
        "colab": {}
      },
      "cell_type": "code",
      "source": [
        "from sklearn.ensemble import ExtraTreesClassifier"
      ],
      "execution_count": 0,
      "outputs": []
    },
    {
      "metadata": {
        "id": "veEiklDNrVph",
        "colab_type": "code",
        "colab": {
          "base_uri": "https://localhost:8080/",
          "height": 1710
        },
        "outputId": "3b95be9e-535d-4934-9035-262951c63bb5"
      },
      "cell_type": "code",
      "source": [
        "mod3 = ExtraTreesClassifier(n_estimators= 25 , max_depth= 200 , max_features = 8 )\n",
        "mod3.fit(x_train, x_test)\n",
        "pred3 = mod3.predict(y_train)\n",
        "y_pred = accuracy_score(y_test , pred3)\n",
        "cm = ConfusionMatrix(y_test , pred3)\n",
        "cm.plot()\n",
        "print('Accuracy Score : ' , y_pred*100) \n",
        "print(mod3)\n",
        "print(cm.stats())"
      ],
      "execution_count": 107,
      "outputs": [
        {
          "output_type": "stream",
          "text": [
            "('Accuracy Score : ', 86.70336037079953)\n",
            "ExtraTreesClassifier(bootstrap=False, class_weight=None, criterion='gini',\n",
            "           max_depth=200, max_features=8, max_leaf_nodes=None,\n",
            "           min_impurity_decrease=0.0, min_impurity_split=None,\n",
            "           min_samples_leaf=1, min_samples_split=2,\n",
            "           min_weight_fraction_leaf=0.0, n_estimators=25, n_jobs=1,\n",
            "           oob_score=False, random_state=None, verbose=0, warm_start=False)\n",
            "OrderedDict([('cm', Predicted     0     1     2     3  __all__\n",
            "Actual                                    \n",
            "0           458   499   415   445     1817\n",
            "1           455   443   435   468     1801\n",
            "2           436   458   463   457     1814\n",
            "3           460   462   460   451     1833\n",
            "__all__    1809  1862  1773  1821     7265), ('overall', OrderedDict([('Accuracy', 0.24982794218857537), ('95% CI', (0.23990629523254306, 0.25995070374586293)), ('No Information Rate', 'ToDo'), ('P-Value [Acc > NIR]', 0.8993493426464827), ('Kappa', -0.0002161134217802504), (\"Mcnemar's Test P-Value\", 'ToDo')])), ('class', Classes                                         0          1          2  \\\n",
            "Population                                   7265       7265       7265   \n",
            "P: Condition positive                        1817       1801       1814   \n",
            "N: Condition negative                        5448       5464       5451   \n",
            "Test outcome positive                        1809       1862       1773   \n",
            "Test outcome negative                        5456       5403       5492   \n",
            "TP: True Positive                             458        443        463   \n",
            "TN: True Negative                            4097       4045       4141   \n",
            "FP: False Positive                           1351       1419       1310   \n",
            "FN: False Negative                           1359       1358       1351   \n",
            "TPR: (Sensitivity, hit rate, recall)     0.252064   0.245974   0.255237   \n",
            "TNR=SPC: (Specificity)                   0.752019     0.7403   0.759677   \n",
            "PPV: Pos Pred Value (Precision)          0.253179   0.237916   0.261139   \n",
            "NPV: Neg Pred Value                      0.750916   0.748658   0.754006   \n",
            "FPR: False-out                           0.247981     0.2597   0.240323   \n",
            "FDR: False Discovery Rate                0.746821   0.762084   0.738861   \n",
            "FNR: Miss Rate                           0.747936   0.754026   0.744763   \n",
            "ACC: Accuracy                            0.626979   0.617756   0.633723   \n",
            "F1 score                                  0.25262   0.241878   0.258154   \n",
            "MCC: Matthews correlation coefficient  0.00408895 -0.0135747  0.0150292   \n",
            "Informedness                           0.00408293 -0.0137254  0.0149142   \n",
            "Markedness                             0.00409497 -0.0134256  0.0151451   \n",
            "Prevalence                               0.250103   0.247901    0.24969   \n",
            "LR+: Positive likelihood ratio            1.01646   0.947149    1.06206   \n",
            "LR-: Negative likelihood ratio           0.994571    1.01854   0.980368   \n",
            "DOR: Diagnostic odds ratio                1.02201   0.929908    1.08333   \n",
            "FOR: False omission rate                 0.249084   0.251342   0.245994   \n",
            "\n",
            "Classes                                         3  \n",
            "Population                                   7265  \n",
            "P: Condition positive                        1833  \n",
            "N: Condition negative                        5432  \n",
            "Test outcome positive                        1821  \n",
            "Test outcome negative                        5444  \n",
            "TP: True Positive                             451  \n",
            "TN: True Negative                            4062  \n",
            "FP: False Positive                           1370  \n",
            "FN: False Negative                           1382  \n",
            "TPR: (Sensitivity, hit rate, recall)     0.246045  \n",
            "TNR=SPC: (Specificity)                   0.747791  \n",
            "PPV: Pos Pred Value (Precision)          0.247666  \n",
            "NPV: Neg Pred Value                      0.746143  \n",
            "FPR: False-out                           0.252209  \n",
            "FDR: False Discovery Rate                0.752334  \n",
            "FNR: Miss Rate                           0.753955  \n",
            "ACC: Accuracy                            0.621198  \n",
            "F1 score                                 0.246853  \n",
            "MCC: Matthews correlation coefficient -0.00617785  \n",
            "Informedness                           -0.0061644  \n",
            "Markedness                            -0.00619134  \n",
            "Prevalence                               0.252306  \n",
            "LR+: Positive likelihood ratio           0.975558  \n",
            "LR-: Negative likelihood ratio            1.00824  \n",
            "DOR: Diagnostic odds ratio               0.967582  \n",
            "FOR: False omission rate                 0.253857  )])\n"
          ],
          "name": "stdout"
        },
        {
          "output_type": "display_data",
          "data": {
            "image/png": "[encoded data removed]",
            "text/plain": [
              "<matplotlib.figure.Figure at 0x7fbe6351c790>"
            ]
          },
          "metadata": {
            "tags": []
          }
        }
      ]
    },
    {
      "metadata": {
        "id": "9ad_v1oodsHY",
        "colab_type": "code",
        "colab": {
          "base_uri": "https://localhost:8080/",
          "height": 141
        },
        "outputId": "c50ab082-4f95-4c0e-910b-32dd7b449088"
      },
      "cell_type": "code",
      "source": [
        "mpdp = mod3.predict_proba(y_train)\n",
        "print(modp)"
      ],
      "execution_count": 108,
      "outputs": [
        {
          "output_type": "stream",
          "text": [
            "[[1. 0. 0. 0.]\n",
            " [0. 1. 0. 0.]\n",
            " [0. 1. 0. 0.]\n",
            " ...\n",
            " [0. 0. 1. 0.]\n",
            " [1. 0. 0. 0.]\n",
            " [0. 1. 0. 0.]]\n"
          ],
          "name": "stdout"
        }
      ]
    },
    {
      "metadata": {
        "id": "ItVy5FRbrYUs",
        "colab_type": "code",
        "colab": {
          "base_uri": "https://localhost:8080/",
          "height": 1710
        },
        "outputId": "b0f69be5-5ed2-4b9a-ce7e-19997d357628"
      },
      "cell_type": "code",
      "source": [
        "mod3 = ExtraTreesClassifier(n_estimators= 25 , max_depth= 400 , max_features = 16 )\n",
        "mod3.fit(x_train, x_test)\n",
        "pred3 = mod3.predict(y_train)\n",
        "y_pred = accuracy_score(y_test , pred3)\n",
        "cm = ConfusionMatrix(y_test , pred3)\n",
        "cm.plot()\n",
        "print('Accuracy Score : ' , y_pred*100) \n",
        "print(mod3)\n",
        "print(cm.stats())"
      ],
      "execution_count": 109,
      "outputs": [
        {
          "output_type": "stream",
          "text": [
            "('Accuracy Score : ', 86.91027975500745)\n",
            "ExtraTreesClassifier(bootstrap=False, class_weight=None, criterion='gini',\n",
            "           max_depth=400, max_features=16, max_leaf_nodes=None,\n",
            "           min_impurity_decrease=0.0, min_impurity_split=None,\n",
            "           min_samples_leaf=1, min_samples_split=2,\n",
            "           min_weight_fraction_leaf=0.0, n_estimators=25, n_jobs=1,\n",
            "           oob_score=False, random_state=None, verbose=0, warm_start=False)\n",
            "OrderedDict([('cm', Predicted     0     1     2     3  __all__\n",
            "Actual                                    \n",
            "0           456   499   416   446     1817\n",
            "1           452   447   445   457     1801\n",
            "2           424   457   474   459     1814\n",
            "3           461   459   464   449     1833\n",
            "__all__    1793  1862  1799  1811     7265), ('overall', OrderedDict([('Accuracy', 0.25134205092911216), ('95% CI', (0.24139976225486232, 0.2614842333822679)), ('No Information Rate', 'ToDo'), ('P-Value [Acc > NIR]', 0.8366481411862158), ('Kappa', 0.0018086727929337463), (\"Mcnemar's Test P-Value\", 'ToDo')])), ('class', Classes                                         0          1          2  \\\n",
            "Population                                   7265       7265       7265   \n",
            "P: Condition positive                        1817       1801       1814   \n",
            "N: Condition negative                        5448       5464       5451   \n",
            "Test outcome positive                        1793       1862       1799   \n",
            "Test outcome negative                        5472       5403       5466   \n",
            "TP: True Positive                             456        447        474   \n",
            "TN: True Negative                            4111       4049       4126   \n",
            "FP: False Positive                           1337       1415       1325   \n",
            "FN: False Negative                           1361       1354       1340   \n",
            "TPR: (Sensitivity, hit rate, recall)     0.250963   0.248195   0.261301   \n",
            "TNR=SPC: (Specificity)                   0.754589   0.741032   0.756925   \n",
            "PPV: Pos Pred Value (Precision)          0.254322   0.240064    0.26348   \n",
            "NPV: Neg Pred Value                      0.751279   0.749398   0.754848   \n",
            "FPR: False-out                           0.245411   0.258968   0.243075   \n",
            "FDR: False Discovery Rate                0.745678   0.759936    0.73652   \n",
            "FNR: Miss Rate                           0.749037   0.751805   0.738699   \n",
            "ACC: Accuracy                             0.62863   0.618858   0.633173   \n",
            "F1 score                                 0.252632   0.244062   0.262386   \n",
            "MCC: Matthews correlation coefficient  0.00557673 -0.0106541   0.018277   \n",
            "Informedness                           0.00555197 -0.0107723  0.0182263   \n",
            "Markedness                              0.0056016 -0.0105371  0.0183279   \n",
            "Prevalence                               0.250103   0.247901    0.24969   \n",
            "LR+: Positive likelihood ratio            1.02262   0.958403    1.07498   \n",
            "LR-: Negative likelihood ratio           0.992642    1.01454   0.975921   \n",
            "DOR: Diagnostic odds ratio                 1.0302    0.94467    1.10151   \n",
            "FOR: False omission rate                 0.248721   0.250602   0.245152   \n",
            "\n",
            "Classes                                         3  \n",
            "Population                                   7265  \n",
            "P: Condition positive                        1833  \n",
            "N: Condition negative                        5432  \n",
            "Test outcome positive                        1811  \n",
            "Test outcome negative                        5454  \n",
            "TP: True Positive                             449  \n",
            "TN: True Negative                            4070  \n",
            "FP: False Positive                           1362  \n",
            "FN: False Negative                           1384  \n",
            "TPR: (Sensitivity, hit rate, recall)     0.244954  \n",
            "TNR=SPC: (Specificity)                   0.749264  \n",
            "PPV: Pos Pred Value (Precision)          0.247929  \n",
            "NPV: Neg Pred Value                      0.746241  \n",
            "FPR: False-out                           0.250736  \n",
            "FDR: False Discovery Rate                0.752071  \n",
            "FNR: Miss Rate                           0.755046  \n",
            "ACC: Accuracy                            0.622023  \n",
            "F1 score                                 0.246432  \n",
            "MCC: Matthews correlation coefficient -0.00580602  \n",
            "Informedness                          -0.00578275  \n",
            "Markedness                            -0.00582939  \n",
            "Prevalence                               0.252306  \n",
            "LR+: Positive likelihood ratio           0.976937  \n",
            "LR-: Negative likelihood ratio            1.00772  \n",
            "DOR: Diagnostic odds ratio               0.969455  \n",
            "FOR: False omission rate                 0.253759  )])\n"
          ],
          "name": "stdout"
        },
        {
          "output_type": "display_data",
          "data": {
            "image/png": "[encoded data removed]",
            "text/plain": [
              "<matplotlib.figure.Figure at 0x7fbe6345a790>"
            ]
          },
          "metadata": {
            "tags": []
          }
        }
      ]
    },
    {
      "metadata": {
        "id": "VHnZ2sC9dvCP",
        "colab_type": "code",
        "colab": {
          "base_uri": "https://localhost:8080/",
          "height": 141
        },
        "outputId": "7206c82c-5fa9-41b5-c133-d7688cf0b581"
      },
      "cell_type": "code",
      "source": [
        "mpdp = mod3.predict_proba(y_train)\n",
        "print(modp)"
      ],
      "execution_count": 110,
      "outputs": [
        {
          "output_type": "stream",
          "text": [
            "[[1. 0. 0. 0.]\n",
            " [0. 1. 0. 0.]\n",
            " [0. 1. 0. 0.]\n",
            " ...\n",
            " [0. 0. 1. 0.]\n",
            " [1. 0. 0. 0.]\n",
            " [0. 1. 0. 0.]]\n"
          ],
          "name": "stdout"
        }
      ]
    },
    {
      "metadata": {
        "id": "mLhcSGYoresK",
        "colab_type": "code",
        "colab": {
          "base_uri": "https://localhost:8080/",
          "height": 1710
        },
        "outputId": "46a3ec3d-a2d3-49f9-d1e3-1512630b0976"
      },
      "cell_type": "code",
      "source": [
        "mod3 = ExtraTreesClassifier(criterion = 'entropy' , n_estimators = 25 , max_features = 16 , max_depth = 400)\n",
        "mod3.fit(x_train, x_test)\n",
        "pred3 = mod3.predict(y_train)\n",
        "y_pred = accuracy_score(y_test , pred3)\n",
        "cm = ConfusionMatrix(y_test , pred3)\n",
        "cm.plot()\n",
        "print('Accuracy Score : ' , y_pred*100) \n",
        "\n",
        "print(mod3)\n",
        "print(cm.stats())"
      ],
      "execution_count": 111,
      "outputs": [
        {
          "output_type": "stream",
          "text": [
            "('Accuracy Score : ', 86.98890912100646)\n",
            "ExtraTreesClassifier(bootstrap=False, class_weight=None, criterion='entropy',\n",
            "           max_depth=400, max_features=16, max_leaf_nodes=None,\n",
            "           min_impurity_decrease=0.0, min_impurity_split=None,\n",
            "           min_samples_leaf=1, min_samples_split=2,\n",
            "           min_weight_fraction_leaf=0.0, n_estimators=25, n_jobs=1,\n",
            "           oob_score=False, random_state=None, verbose=0, warm_start=False)\n",
            "OrderedDict([('cm', Predicted     0     1     2     3  __all__\n",
            "Actual                                    \n",
            "0           453   501   424   439     1817\n",
            "1           452   446   440   463     1801\n",
            "2           425   463   466   460     1814\n",
            "3           457   462   463   451     1833\n",
            "__all__    1787  1872  1793  1813     7265), ('overall', OrderedDict([('Accuracy', 0.24996558843771507), ('95% CI', (0.24004205826543754, 0.2600901222237503)), ('No Information Rate', 'ToDo'), ('P-Value [Acc > NIR]', 0.9355577112410469), ('Kappa', -2.3796265769745716e-05), (\"Mcnemar's Test P-Value\", 'ToDo')])), ('class', Classes                                         0          1          2  \\\n",
            "Population                                   7265       7265       7265   \n",
            "P: Condition positive                        1817       1801       1814   \n",
            "N: Condition negative                        5448       5464       5451   \n",
            "Test outcome positive                        1787       1872       1793   \n",
            "Test outcome negative                        5478       5393       5472   \n",
            "TP: True Positive                             453        446        466   \n",
            "TN: True Negative                            4114       4038       4124   \n",
            "FP: False Positive                           1334       1426       1327   \n",
            "FN: False Negative                           1364       1355       1348   \n",
            "TPR: (Sensitivity, hit rate, recall)     0.249312    0.24764   0.256891   \n",
            "TNR=SPC: (Specificity)                    0.75514   0.739019   0.756558   \n",
            "PPV: Pos Pred Value (Precision)          0.253497   0.238248     0.2599   \n",
            "NPV: Neg Pred Value                      0.751004   0.748748   0.753655   \n",
            "FPR: False-out                            0.24486   0.260981   0.243442   \n",
            "FDR: False Discovery Rate                0.746503   0.761752     0.7401   \n",
            "FNR: Miss Rate                           0.750688    0.75236   0.743109   \n",
            "ACC: Accuracy                             0.62863   0.617206   0.631796   \n",
            "F1 score                                 0.251387   0.242853   0.258386   \n",
            "MCC: Matthews correlation coefficient  0.00447646 -0.0131712  0.0135018   \n",
            "Informedness                           0.00445155 -0.0133408  0.0134493   \n",
            "Markedness                              0.0045015 -0.0130038  0.0135546   \n",
            "Prevalence                               0.250103   0.247901    0.24969   \n",
            "LR+: Positive likelihood ratio            1.01818   0.948882    1.05525   \n",
            "LR-: Negative likelihood ratio           0.994105    1.01805   0.982223   \n",
            "DOR: Diagnostic odds ratio                1.02422   0.932057    1.07434   \n",
            "FOR: False omission rate                 0.248996   0.251252   0.246345   \n",
            "\n",
            "Classes                                         3  \n",
            "Population                                   7265  \n",
            "P: Condition positive                        1833  \n",
            "N: Condition negative                        5432  \n",
            "Test outcome positive                        1813  \n",
            "Test outcome negative                        5452  \n",
            "TP: True Positive                             451  \n",
            "TN: True Negative                            4070  \n",
            "FP: False Positive                           1362  \n",
            "FN: False Negative                           1382  \n",
            "TPR: (Sensitivity, hit rate, recall)     0.246045  \n",
            "TNR=SPC: (Specificity)                   0.749264  \n",
            "PPV: Pos Pred Value (Precision)          0.248759  \n",
            "NPV: Neg Pred Value                      0.746515  \n",
            "FPR: False-out                           0.250736  \n",
            "FDR: False Discovery Rate                0.751241  \n",
            "FNR: Miss Rate                           0.753955  \n",
            "ACC: Accuracy                            0.622299  \n",
            "F1 score                                 0.247394  \n",
            "MCC: Matthews correlation coefficient -0.00470879  \n",
            "Informedness                          -0.00469164  \n",
            "Markedness                              -0.004726  \n",
            "Prevalence                               0.252306  \n",
            "LR+: Positive likelihood ratio           0.981289  \n",
            "LR-: Negative likelihood ratio            1.00626  \n",
            "DOR: Diagnostic odds ratio               0.975182  \n",
            "FOR: False omission rate                 0.253485  )])\n"
          ],
          "name": "stdout"
        },
        {
          "output_type": "display_data",
          "data": {
            "image/png": "[encoded data removed]",
            "text/plain": [
              "<matplotlib.figure.Figure at 0x7fbe63728150>"
            ]
          },
          "metadata": {
            "tags": []
          }
        }
      ]
    },
    {
      "metadata": {
        "id": "j4vRxWm4rkJN",
        "colab_type": "code",
        "colab": {
          "base_uri": "https://localhost:8080/",
          "height": 141
        },
        "outputId": "14a2e2ca-6af7-4403-f962-f2f5247b29a1"
      },
      "cell_type": "code",
      "source": [
        "mpdp = mod3.predict_proba(y_train)\n",
        "print(modp)"
      ],
      "execution_count": 112,
      "outputs": [
        {
          "output_type": "stream",
          "text": [
            "[[1. 0. 0. 0.]\n",
            " [0. 1. 0. 0.]\n",
            " [0. 1. 0. 0.]\n",
            " ...\n",
            " [0. 0. 1. 0.]\n",
            " [1. 0. 0. 0.]\n",
            " [0. 1. 0. 0.]]\n"
          ],
          "name": "stdout"
        }
      ]
    },
    {
      "metadata": {
        "id": "KStFozGYt-9z",
        "colab_type": "code",
        "colab": {}
      },
      "cell_type": "code",
      "source": [
        "### Done! "
      ],
      "execution_count": 0,
      "outputs": []
    },
    {
      "metadata": {
        "id": "hnHU-CpGq_55",
        "colab_type": "code",
        "colab": {}
      },
      "cell_type": "code",
      "source": [
        ""
      ],
      "execution_count": 0,
      "outputs": []
    }
  ]
}