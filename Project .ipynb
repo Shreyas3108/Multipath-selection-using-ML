{
 "cells": [
  {
   "cell_type": "code",
   "execution_count": 1,
   "metadata": {
    "collapsed": true
   },
   "outputs": [],
   "source": [
    "import pandas as pd\n",
    "import numpy as np"
   ]
  },
  {
   "cell_type": "code",
   "execution_count": 2,
   "metadata": {
    "collapsed": true
   },
   "outputs": [],
   "source": [
    "df = pd.read_csv('uj.csv')"
   ]
  },
  {
   "cell_type": "code",
   "execution_count": 4,
   "metadata": {
    "collapsed": true
   },
   "outputs": [],
   "source": [
    "leaf = df.loc[df.Producer != 'spine1']"
   ]
  },
  {
   "cell_type": "code",
   "execution_count": 5,
   "metadata": {
    "collapsed": true
   },
   "outputs": [],
   "source": [
    "leaf = leaf.loc[leaf.Producer != 'spine2']\n",
    "leaf = leaf.loc[leaf.Producer != 'spine3']\n",
    "leaf = leaf.loc[leaf.Producer != 'spine4']"
   ]
  },
  {
   "cell_type": "code",
   "execution_count": 17,
   "metadata": {},
   "outputs": [
    {
     "data": {
      "text/plain": [
       "HundredGigE0/0/0/27    4264\n",
       "HundredGigE0/0/0/18    4264\n",
       "HundredGigE0/0/0/28    4264\n",
       "HundredGigE0/0/0/23    4264\n",
       "HundredGigE0/0/0/1     4264\n",
       "HundredGigE0/0/0/16    4264\n",
       "HundredGigE0/0/0/0     4264\n",
       "HundredGigE0/0/0/3     4264\n",
       "HundredGigE0/0/0/4     4264\n",
       "HundredGigE0/0/0/29    4264\n",
       "HundredGigE0/0/0/7     4264\n",
       "HundredGigE0/0/0/11    4264\n",
       "MgmtEth0/RP0/CPU0/0    4264\n",
       "HundredGigE0/0/0/17    4264\n",
       "HundredGigE0/0/0/8     4264\n",
       "HundredGigE0/0/0/15    4264\n",
       "HundredGigE0/0/0/5     4264\n",
       "Null0                  4264\n",
       "HundredGigE0/0/0/19    4264\n",
       "HundredGigE0/0/0/9     4264\n",
       "HundredGigE0/0/0/2     4264\n",
       "HundredGigE0/0/0/10    4264\n",
       "HundredGigE0/0/0/24    4264\n",
       "HundredGigE0/0/0/13    4264\n",
       "HundredGigE0/0/0/6     4264\n",
       "HundredGigE0/0/0/26    4264\n",
       "HundredGigE0/0/0/25    4264\n",
       "HundredGigE0/0/0/22    4264\n",
       "HundredGigE0/0/0/21    3971\n",
       "HundredGigE0/0/0/30    3971\n",
       "                       ... \n",
       "HundredGigE0/1/0/12     899\n",
       "HundredGigE0/1/0/25     899\n",
       "HundredGigE0/1/0/16     899\n",
       "Bundle-Ether2           718\n",
       "HundredGigE0/1/0/21     606\n",
       "HundredGigE0/1/0/20     606\n",
       "HundredGigE0/0/0/35     601\n",
       "HundredGigE0/1/0/30     601\n",
       "HundredGigE0/1/0/31     601\n",
       "HundredGigE0/0/0/34     601\n",
       "HundredGigE0/1/0/1      591\n",
       "HundredGigE0/1/0/2      591\n",
       "HundredGigE0/1/0/0      591\n",
       "MgmtEth0/RP1/CPU0/0     591\n",
       "FortyGigE0/1/0/1        308\n",
       "FortyGigE0/1/0/2        308\n",
       "FortyGigE0/0/0/14       308\n",
       "FortyGigE0/1/0/0        308\n",
       "FortyGigE0/0/0/12       308\n",
       "FortyGigE0/1/0/31       298\n",
       "Bundle-Ether1           298\n",
       "FortyGigE0/0/0/35       298\n",
       "FortyGigE0/0/0/31       298\n",
       "FortyGigE0/0/0/34       298\n",
       "FortyGigE0/1/0/30       298\n",
       "FortyGigE0/0/0/20       293\n",
       "FortyGigE0/0/0/21       293\n",
       "FortyGigE0/0/0/30       293\n",
       "FortyGigE0/1/0/20       293\n",
       "FortyGigE0/1/0/21       293\n",
       "Name: interface-name, Length: 92, dtype: int64"
      ]
     },
     "execution_count": 17,
     "metadata": {},
     "output_type": "execute_result"
    }
   ],
   "source": [
    "leaf['interface-name'].value_counts()"
   ]
  },
  {
   "cell_type": "code",
   "execution_count": 18,
   "metadata": {
    "collapsed": true
   },
   "outputs": [],
   "source": [
    "k = ['HundredGigE0/0/0/4','HundredGigE0/0/0/5','HundredGigE0/0/0/5','HundredGigE0/0/0/6','HundredGigE0/0/0/7','HundredGigE0/0/0/8','HundredGigE0/0/0/9'\n",
    "    ,'HundredGigE0/0/0/10','HundredGigE0/0/0/11','HundredGigE0/0/0/12','HundredGigE0/0/0/13','HundredGigE0/0/0/14','HundredGigE0/0/0/15','HundredGigE0/0/0/16','HundredGigE0/0/0/17'\n",
    "    ,'HundredGigE0/0/0/18','HundredGigE0/0/0/19']"
   ]
  },
  {
   "cell_type": "code",
   "execution_count": 19,
   "metadata": {
    "collapsed": true
   },
   "outputs": [],
   "source": [
    "leaf['infname'] = leaf['interface-name'].isin(k)"
   ]
  },
  {
   "cell_type": "code",
   "execution_count": 20,
   "metadata": {},
   "outputs": [
    {
     "data": {
      "text/plain": [
       "False    114935\n",
       "True      67608\n",
       "Name: infname, dtype: int64"
      ]
     },
     "execution_count": 20,
     "metadata": {},
     "output_type": "execute_result"
    }
   ],
   "source": [
    "leaf['infname'].value_counts()"
   ]
  },
  {
   "cell_type": "code",
   "execution_count": 21,
   "metadata": {
    "collapsed": true
   },
   "outputs": [],
   "source": [
    "dleaf = leaf.loc[leaf['infname'] != False]"
   ]
  },
  {
   "cell_type": "code",
   "execution_count": 22,
   "metadata": {},
   "outputs": [
    {
     "data": {
      "text/plain": [
       "Index(['Unnamed: 0', 'name', 'time', 'EncodingPath', 'Producer', 'bandwidth',\n",
       "       'input-data-rate', 'input-load', 'input-packet-rate', 'interface-name',\n",
       "       'load-interval', 'output-data-rate', 'output-load',\n",
       "       'output-packet-rate', 'reliability', 'peak-input-data-rate',\n",
       "       'peak-output-data-rate', 'peak-input-packet-rate',\n",
       "       'peak-output-packet-rate', 'infname'],\n",
       "      dtype='object')"
      ]
     },
     "execution_count": 22,
     "metadata": {},
     "output_type": "execute_result"
    }
   ],
   "source": [
    "dleaf.columns"
   ]
  },
  {
   "cell_type": "code",
   "execution_count": 23,
   "metadata": {},
   "outputs": [
    {
     "name": "stderr",
     "output_type": "stream",
     "text": [
      "C:\\ProgramData\\Anaconda3\\lib\\site-packages\\IPython\\core\\interactiveshell.py:2717: DtypeWarning: Columns (38,46) have mixed types. Specify dtype option on import or set low_memory=False.\n",
      "  interactivity=interactivity, compiler=compiler, result=result)\n"
     ]
    }
   ],
   "source": [
    "data = pd.read_csv(\"bgpclear_apptraffic_2hourRun.csv\")"
   ]
  },
  {
   "cell_type": "code",
   "execution_count": 16,
   "metadata": {},
   "outputs": [
    {
     "data": {
      "text/plain": [
       "Index(['name', 'time', 'EncodingPath', 'Producer', 'acl-in-rpf-packets',\n",
       "       'active-routes-count', 'af-name', 'as', 'backup-routes-count',\n",
       "       'bandwidth', 'bytes-received', 'bytes-sent', 'carrier-transitions',\n",
       "       'checksum-error-packets', 'crc-errors', 'deleted-routes-count',\n",
       "       'df-unreachable-packets', 'discard-packets',\n",
       "       'encapsulation-failure-packets', 'fragmenation-consumed-packets',\n",
       "       'fragmenation-failure-packets', 'free-application-memory',\n",
       "       'free-physical-memory', 'global__established-neighbors-count-total',\n",
       "       'global__neighbors-count-total', 'global__nexthop-count',\n",
       "       'global__restart-count', 'gre-error-drop', 'gre-lookup-failed-drop',\n",
       "       'incomplete-adjacency-packets', 'input-data-rate', 'input-drops',\n",
       "       'input-errors', 'input-ignored-packets', 'input-load',\n",
       "       'input-packet-rate', 'input-queue-drops', 'instance-name',\n",
       "       'interface-name', 'lisp-decap-error-drops', 'lisp-encap-error-drops',\n",
       "       'lisp-punt-drops', 'load-interval', 'mpls-disabled-interface',\n",
       "       'multi-label-drops', 'no-route-packets', 'node-name', 'null-packets',\n",
       "       'output-buffer-failures', 'output-data-rate', 'output-drops',\n",
       "       'output-errors', 'output-load', 'output-packet-rate',\n",
       "       'output-queue-drops', 'packets-received', 'packets-sent', 'paths-count',\n",
       "       'peak-input-data-rate', 'peak-input-packet-rate',\n",
       "       'peak-output-data-rate', 'peak-output-packet-rate',\n",
       "       'performance-statistics__global__configuration-items-processed',\n",
       "       'performance-statistics__global__ipv4rib-server__is-rib-connection-up',\n",
       "       'performance-statistics__global__ipv4rib-server__rib-connection-up-count',\n",
       "       'performance-statistics__vrf__inbound-update-messages',\n",
       "       'protocol-route-memory', 'punt-unreachable-packets', 'ram-memory',\n",
       "       'reliability', 'route-table-name', 'routes-counts',\n",
       "       'rp-destination-drop-packets', 'rpf-check-failure-packets', 'saf-name',\n",
       "       'system-ram-memory', 'total-cpu-fifteen-minute',\n",
       "       'total-cpu-five-minute', 'total-cpu-one-minute',\n",
       "       'total-number-of-drop-packets', 'unresolved-prefix-packets',\n",
       "       'unsupported-feature-packets', 'vrf-name', 'vrf__neighbors-count',\n",
       "       'vrf__network-count', 'vrf__path-count',\n",
       "       'vrf__update-messages-received'],\n",
       "      dtype='object')"
      ]
     },
     "execution_count": 16,
     "metadata": {},
     "output_type": "execute_result"
    }
   ],
   "source": [
    "data.columns"
   ]
  },
  {
   "cell_type": "code",
   "execution_count": null,
   "metadata": {
    "collapsed": true
   },
   "outputs": [],
   "source": [
    "[['packet']] = 'checksum_error_packets','crc-errors','df-unreachable-packets','gre-error-drop','encapsulation-failure-packets','fragmentation-failure-packets',''"
   ]
  },
  {
   "cell_type": "code",
   "execution_count": null,
   "metadata": {
    "collapsed": true
   },
   "outputs": [],
   "source": []
  },
  {
   "cell_type": "code",
   "execution_count": 24,
   "metadata": {},
   "outputs": [
    {
     "name": "stderr",
     "output_type": "stream",
     "text": [
      "C:\\ProgramData\\Anaconda3\\lib\\site-packages\\ipykernel_launcher.py:1: SettingWithCopyWarning: \n",
      "A value is trying to be set on a copy of a slice from a DataFrame.\n",
      "Try using .loc[row_indexer,col_indexer] = value instead\n",
      "\n",
      "See the caveats in the documentation: http://pandas.pydata.org/pandas-docs/stable/indexing.html#indexing-view-versus-copy\n",
      "  \"\"\"Entry point for launching an IPython kernel.\n"
     ]
    }
   ],
   "source": [
    "dleaf['delay'] = np.random.randint(1, 100, dleaf.shape[0])"
   ]
  },
  {
   "cell_type": "code",
   "execution_count": 25,
   "metadata": {},
   "outputs": [
    {
     "name": "stderr",
     "output_type": "stream",
     "text": [
      "C:\\ProgramData\\Anaconda3\\lib\\site-packages\\ipykernel_launcher.py:1: SettingWithCopyWarning: \n",
      "A value is trying to be set on a copy of a slice from a DataFrame.\n",
      "Try using .loc[row_indexer,col_indexer] = value instead\n",
      "\n",
      "See the caveats in the documentation: http://pandas.pydata.org/pandas-docs/stable/indexing.html#indexing-view-versus-copy\n",
      "  \"\"\"Entry point for launching an IPython kernel.\n"
     ]
    }
   ],
   "source": [
    "dleaf['inst-code'] = dleaf['interface-name'].str[-2:]"
   ]
  },
  {
   "cell_type": "code",
   "execution_count": 26,
   "metadata": {},
   "outputs": [
    {
     "name": "stderr",
     "output_type": "stream",
     "text": [
      "C:\\ProgramData\\Anaconda3\\lib\\site-packages\\ipykernel_launcher.py:1: SettingWithCopyWarning: \n",
      "A value is trying to be set on a copy of a slice from a DataFrame.\n",
      "Try using .loc[row_indexer,col_indexer] = value instead\n",
      "\n",
      "See the caveats in the documentation: http://pandas.pydata.org/pandas-docs/stable/indexing.html#indexing-view-versus-copy\n",
      "  \"\"\"Entry point for launching an IPython kernel.\n"
     ]
    }
   ],
   "source": [
    "dleaf['inst-code'] = dleaf['inst-code'].replace(['/5','/6','/7','/8','/9','/4'],['5','6','7','8','9','4'])"
   ]
  },
  {
   "cell_type": "code",
   "execution_count": 27,
   "metadata": {},
   "outputs": [
    {
     "name": "stderr",
     "output_type": "stream",
     "text": [
      "C:\\ProgramData\\Anaconda3\\lib\\site-packages\\ipykernel_launcher.py:1: SettingWithCopyWarning: \n",
      "A value is trying to be set on a copy of a slice from a DataFrame.\n",
      "Try using .loc[row_indexer,col_indexer] = value instead\n",
      "\n",
      "See the caveats in the documentation: http://pandas.pydata.org/pandas-docs/stable/indexing.html#indexing-view-versus-copy\n",
      "  \"\"\"Entry point for launching an IPython kernel.\n"
     ]
    }
   ],
   "source": [
    "dleaf['inst-code'] = dleaf['inst-code'].astype(int)"
   ]
  },
  {
   "cell_type": "code",
   "execution_count": 28,
   "metadata": {},
   "outputs": [
    {
     "data": {
      "text/plain": [
       "19    4264\n",
       "18    4264\n",
       "17    4264\n",
       "16    4264\n",
       "15    4264\n",
       "13    4264\n",
       "11    4264\n",
       "10    4264\n",
       "9     4264\n",
       "8     4264\n",
       "7     4264\n",
       "6     4264\n",
       "5     4264\n",
       "4     4264\n",
       "14    3956\n",
       "12    3956\n",
       "Name: inst-code, dtype: int64"
      ]
     },
     "execution_count": 28,
     "metadata": {},
     "output_type": "execute_result"
    }
   ],
   "source": [
    "dleaf['inst-code'].value_counts()"
   ]
  },
  {
   "cell_type": "code",
   "execution_count": 29,
   "metadata": {
    "collapsed": true
   },
   "outputs": [],
   "source": [
    "dleaf = dleaf.loc[dleaf.Producer != 'spine2']\n",
    "dleaf = dleaf.loc[dleaf.Producer != 'spine3']\n",
    "dleaf = dleaf.loc[dleaf.Producer != 'spine4']"
   ]
  },
  {
   "cell_type": "code",
   "execution_count": 30,
   "metadata": {
    "collapsed": true
   },
   "outputs": [],
   "source": [
    "dleaf = dleaf.loc[dleaf.Producer != 'spine1']\n",
    "dleaf = dleaf.loc[dleaf.Producer != 'dr03']\n",
    "dleaf = dleaf.loc[dleaf.Producer != 'dr02']\n",
    "dleaf = dleaf.loc[dleaf.Producer != 'dr01']"
   ]
  },
  {
   "cell_type": "code",
   "execution_count": 31,
   "metadata": {},
   "outputs": [
    {
     "data": {
      "text/plain": [
       "leaf7    6768\n",
       "leaf8    6752\n",
       "leaf4    6752\n",
       "leaf3    6720\n",
       "leaf2    6720\n",
       "leaf5    6720\n",
       "leaf6    6704\n",
       "leaf1    6704\n",
       "Name: Producer, dtype: int64"
      ]
     },
     "execution_count": 31,
     "metadata": {},
     "output_type": "execute_result"
    }
   ],
   "source": [
    "dleaf.Producer.value_counts()"
   ]
  },
  {
   "cell_type": "code",
   "execution_count": 32,
   "metadata": {},
   "outputs": [
    {
     "data": {
      "text/html": [
       "<div>\n",
       "<style>\n",
       "    .dataframe thead tr:only-child th {\n",
       "        text-align: right;\n",
       "    }\n",
       "\n",
       "    .dataframe thead th {\n",
       "        text-align: left;\n",
       "    }\n",
       "\n",
       "    .dataframe tbody tr th {\n",
       "        vertical-align: top;\n",
       "    }\n",
       "</style>\n",
       "<table border=\"1\" class=\"dataframe\">\n",
       "  <thead>\n",
       "    <tr style=\"text-align: right;\">\n",
       "      <th></th>\n",
       "      <th>Unnamed: 0</th>\n",
       "      <th>time</th>\n",
       "      <th>bandwidth</th>\n",
       "      <th>input-data-rate</th>\n",
       "      <th>input-load</th>\n",
       "      <th>input-packet-rate</th>\n",
       "      <th>load-interval</th>\n",
       "      <th>output-data-rate</th>\n",
       "      <th>output-load</th>\n",
       "      <th>output-packet-rate</th>\n",
       "      <th>reliability</th>\n",
       "      <th>peak-input-data-rate</th>\n",
       "      <th>peak-output-data-rate</th>\n",
       "      <th>peak-input-packet-rate</th>\n",
       "      <th>peak-output-packet-rate</th>\n",
       "      <th>infname</th>\n",
       "      <th>delay</th>\n",
       "      <th>inst-code</th>\n",
       "    </tr>\n",
       "  </thead>\n",
       "  <tbody>\n",
       "    <tr>\n",
       "      <th>Unnamed: 0</th>\n",
       "      <td>1.000000</td>\n",
       "      <td>1.000000</td>\n",
       "      <td>NaN</td>\n",
       "      <td>0.010409</td>\n",
       "      <td>0.010274</td>\n",
       "      <td>0.010455</td>\n",
       "      <td>NaN</td>\n",
       "      <td>0.004927</td>\n",
       "      <td>0.004727</td>\n",
       "      <td>0.004873</td>\n",
       "      <td>NaN</td>\n",
       "      <td>NaN</td>\n",
       "      <td>NaN</td>\n",
       "      <td>NaN</td>\n",
       "      <td>NaN</td>\n",
       "      <td>NaN</td>\n",
       "      <td>0.002993</td>\n",
       "      <td>0.000086</td>\n",
       "    </tr>\n",
       "    <tr>\n",
       "      <th>time</th>\n",
       "      <td>1.000000</td>\n",
       "      <td>1.000000</td>\n",
       "      <td>NaN</td>\n",
       "      <td>0.010428</td>\n",
       "      <td>0.010293</td>\n",
       "      <td>0.010474</td>\n",
       "      <td>NaN</td>\n",
       "      <td>0.004941</td>\n",
       "      <td>0.004741</td>\n",
       "      <td>0.004887</td>\n",
       "      <td>NaN</td>\n",
       "      <td>NaN</td>\n",
       "      <td>NaN</td>\n",
       "      <td>NaN</td>\n",
       "      <td>NaN</td>\n",
       "      <td>NaN</td>\n",
       "      <td>0.002992</td>\n",
       "      <td>0.000022</td>\n",
       "    </tr>\n",
       "    <tr>\n",
       "      <th>bandwidth</th>\n",
       "      <td>NaN</td>\n",
       "      <td>NaN</td>\n",
       "      <td>NaN</td>\n",
       "      <td>NaN</td>\n",
       "      <td>NaN</td>\n",
       "      <td>NaN</td>\n",
       "      <td>NaN</td>\n",
       "      <td>NaN</td>\n",
       "      <td>NaN</td>\n",
       "      <td>NaN</td>\n",
       "      <td>NaN</td>\n",
       "      <td>NaN</td>\n",
       "      <td>NaN</td>\n",
       "      <td>NaN</td>\n",
       "      <td>NaN</td>\n",
       "      <td>NaN</td>\n",
       "      <td>NaN</td>\n",
       "      <td>NaN</td>\n",
       "    </tr>\n",
       "    <tr>\n",
       "      <th>input-data-rate</th>\n",
       "      <td>0.010409</td>\n",
       "      <td>0.010428</td>\n",
       "      <td>NaN</td>\n",
       "      <td>1.000000</td>\n",
       "      <td>0.999699</td>\n",
       "      <td>0.998972</td>\n",
       "      <td>NaN</td>\n",
       "      <td>0.001271</td>\n",
       "      <td>0.001514</td>\n",
       "      <td>0.001915</td>\n",
       "      <td>NaN</td>\n",
       "      <td>NaN</td>\n",
       "      <td>NaN</td>\n",
       "      <td>NaN</td>\n",
       "      <td>NaN</td>\n",
       "      <td>NaN</td>\n",
       "      <td>-0.003417</td>\n",
       "      <td>-0.301078</td>\n",
       "    </tr>\n",
       "    <tr>\n",
       "      <th>input-load</th>\n",
       "      <td>0.010274</td>\n",
       "      <td>0.010293</td>\n",
       "      <td>NaN</td>\n",
       "      <td>0.999699</td>\n",
       "      <td>1.000000</td>\n",
       "      <td>0.998647</td>\n",
       "      <td>NaN</td>\n",
       "      <td>0.000502</td>\n",
       "      <td>0.000752</td>\n",
       "      <td>0.001145</td>\n",
       "      <td>NaN</td>\n",
       "      <td>NaN</td>\n",
       "      <td>NaN</td>\n",
       "      <td>NaN</td>\n",
       "      <td>NaN</td>\n",
       "      <td>NaN</td>\n",
       "      <td>-0.003424</td>\n",
       "      <td>-0.300872</td>\n",
       "    </tr>\n",
       "    <tr>\n",
       "      <th>input-packet-rate</th>\n",
       "      <td>0.010455</td>\n",
       "      <td>0.010474</td>\n",
       "      <td>NaN</td>\n",
       "      <td>0.998972</td>\n",
       "      <td>0.998647</td>\n",
       "      <td>1.000000</td>\n",
       "      <td>NaN</td>\n",
       "      <td>0.003187</td>\n",
       "      <td>0.003445</td>\n",
       "      <td>0.003892</td>\n",
       "      <td>NaN</td>\n",
       "      <td>NaN</td>\n",
       "      <td>NaN</td>\n",
       "      <td>NaN</td>\n",
       "      <td>NaN</td>\n",
       "      <td>NaN</td>\n",
       "      <td>-0.003550</td>\n",
       "      <td>-0.296814</td>\n",
       "    </tr>\n",
       "    <tr>\n",
       "      <th>load-interval</th>\n",
       "      <td>NaN</td>\n",
       "      <td>NaN</td>\n",
       "      <td>NaN</td>\n",
       "      <td>NaN</td>\n",
       "      <td>NaN</td>\n",
       "      <td>NaN</td>\n",
       "      <td>NaN</td>\n",
       "      <td>NaN</td>\n",
       "      <td>NaN</td>\n",
       "      <td>NaN</td>\n",
       "      <td>NaN</td>\n",
       "      <td>NaN</td>\n",
       "      <td>NaN</td>\n",
       "      <td>NaN</td>\n",
       "      <td>NaN</td>\n",
       "      <td>NaN</td>\n",
       "      <td>NaN</td>\n",
       "      <td>NaN</td>\n",
       "    </tr>\n",
       "    <tr>\n",
       "      <th>output-data-rate</th>\n",
       "      <td>0.004927</td>\n",
       "      <td>0.004941</td>\n",
       "      <td>NaN</td>\n",
       "      <td>0.001271</td>\n",
       "      <td>0.000502</td>\n",
       "      <td>0.003187</td>\n",
       "      <td>NaN</td>\n",
       "      <td>1.000000</td>\n",
       "      <td>0.999923</td>\n",
       "      <td>0.999716</td>\n",
       "      <td>NaN</td>\n",
       "      <td>NaN</td>\n",
       "      <td>NaN</td>\n",
       "      <td>NaN</td>\n",
       "      <td>NaN</td>\n",
       "      <td>NaN</td>\n",
       "      <td>-0.000773</td>\n",
       "      <td>-0.175688</td>\n",
       "    </tr>\n",
       "    <tr>\n",
       "      <th>output-load</th>\n",
       "      <td>0.004727</td>\n",
       "      <td>0.004741</td>\n",
       "      <td>NaN</td>\n",
       "      <td>0.001514</td>\n",
       "      <td>0.000752</td>\n",
       "      <td>0.003445</td>\n",
       "      <td>NaN</td>\n",
       "      <td>0.999923</td>\n",
       "      <td>1.000000</td>\n",
       "      <td>0.999618</td>\n",
       "      <td>NaN</td>\n",
       "      <td>NaN</td>\n",
       "      <td>NaN</td>\n",
       "      <td>NaN</td>\n",
       "      <td>NaN</td>\n",
       "      <td>NaN</td>\n",
       "      <td>-0.000821</td>\n",
       "      <td>-0.175661</td>\n",
       "    </tr>\n",
       "    <tr>\n",
       "      <th>output-packet-rate</th>\n",
       "      <td>0.004873</td>\n",
       "      <td>0.004887</td>\n",
       "      <td>NaN</td>\n",
       "      <td>0.001915</td>\n",
       "      <td>0.001145</td>\n",
       "      <td>0.003892</td>\n",
       "      <td>NaN</td>\n",
       "      <td>0.999716</td>\n",
       "      <td>0.999618</td>\n",
       "      <td>1.000000</td>\n",
       "      <td>NaN</td>\n",
       "      <td>NaN</td>\n",
       "      <td>NaN</td>\n",
       "      <td>NaN</td>\n",
       "      <td>NaN</td>\n",
       "      <td>NaN</td>\n",
       "      <td>-0.000899</td>\n",
       "      <td>-0.172667</td>\n",
       "    </tr>\n",
       "    <tr>\n",
       "      <th>reliability</th>\n",
       "      <td>NaN</td>\n",
       "      <td>NaN</td>\n",
       "      <td>NaN</td>\n",
       "      <td>NaN</td>\n",
       "      <td>NaN</td>\n",
       "      <td>NaN</td>\n",
       "      <td>NaN</td>\n",
       "      <td>NaN</td>\n",
       "      <td>NaN</td>\n",
       "      <td>NaN</td>\n",
       "      <td>NaN</td>\n",
       "      <td>NaN</td>\n",
       "      <td>NaN</td>\n",
       "      <td>NaN</td>\n",
       "      <td>NaN</td>\n",
       "      <td>NaN</td>\n",
       "      <td>NaN</td>\n",
       "      <td>NaN</td>\n",
       "    </tr>\n",
       "    <tr>\n",
       "      <th>peak-input-data-rate</th>\n",
       "      <td>NaN</td>\n",
       "      <td>NaN</td>\n",
       "      <td>NaN</td>\n",
       "      <td>NaN</td>\n",
       "      <td>NaN</td>\n",
       "      <td>NaN</td>\n",
       "      <td>NaN</td>\n",
       "      <td>NaN</td>\n",
       "      <td>NaN</td>\n",
       "      <td>NaN</td>\n",
       "      <td>NaN</td>\n",
       "      <td>NaN</td>\n",
       "      <td>NaN</td>\n",
       "      <td>NaN</td>\n",
       "      <td>NaN</td>\n",
       "      <td>NaN</td>\n",
       "      <td>NaN</td>\n",
       "      <td>NaN</td>\n",
       "    </tr>\n",
       "    <tr>\n",
       "      <th>peak-output-data-rate</th>\n",
       "      <td>NaN</td>\n",
       "      <td>NaN</td>\n",
       "      <td>NaN</td>\n",
       "      <td>NaN</td>\n",
       "      <td>NaN</td>\n",
       "      <td>NaN</td>\n",
       "      <td>NaN</td>\n",
       "      <td>NaN</td>\n",
       "      <td>NaN</td>\n",
       "      <td>NaN</td>\n",
       "      <td>NaN</td>\n",
       "      <td>NaN</td>\n",
       "      <td>NaN</td>\n",
       "      <td>NaN</td>\n",
       "      <td>NaN</td>\n",
       "      <td>NaN</td>\n",
       "      <td>NaN</td>\n",
       "      <td>NaN</td>\n",
       "    </tr>\n",
       "    <tr>\n",
       "      <th>peak-input-packet-rate</th>\n",
       "      <td>NaN</td>\n",
       "      <td>NaN</td>\n",
       "      <td>NaN</td>\n",
       "      <td>NaN</td>\n",
       "      <td>NaN</td>\n",
       "      <td>NaN</td>\n",
       "      <td>NaN</td>\n",
       "      <td>NaN</td>\n",
       "      <td>NaN</td>\n",
       "      <td>NaN</td>\n",
       "      <td>NaN</td>\n",
       "      <td>NaN</td>\n",
       "      <td>NaN</td>\n",
       "      <td>NaN</td>\n",
       "      <td>NaN</td>\n",
       "      <td>NaN</td>\n",
       "      <td>NaN</td>\n",
       "      <td>NaN</td>\n",
       "    </tr>\n",
       "    <tr>\n",
       "      <th>peak-output-packet-rate</th>\n",
       "      <td>NaN</td>\n",
       "      <td>NaN</td>\n",
       "      <td>NaN</td>\n",
       "      <td>NaN</td>\n",
       "      <td>NaN</td>\n",
       "      <td>NaN</td>\n",
       "      <td>NaN</td>\n",
       "      <td>NaN</td>\n",
       "      <td>NaN</td>\n",
       "      <td>NaN</td>\n",
       "      <td>NaN</td>\n",
       "      <td>NaN</td>\n",
       "      <td>NaN</td>\n",
       "      <td>NaN</td>\n",
       "      <td>NaN</td>\n",
       "      <td>NaN</td>\n",
       "      <td>NaN</td>\n",
       "      <td>NaN</td>\n",
       "    </tr>\n",
       "    <tr>\n",
       "      <th>infname</th>\n",
       "      <td>NaN</td>\n",
       "      <td>NaN</td>\n",
       "      <td>NaN</td>\n",
       "      <td>NaN</td>\n",
       "      <td>NaN</td>\n",
       "      <td>NaN</td>\n",
       "      <td>NaN</td>\n",
       "      <td>NaN</td>\n",
       "      <td>NaN</td>\n",
       "      <td>NaN</td>\n",
       "      <td>NaN</td>\n",
       "      <td>NaN</td>\n",
       "      <td>NaN</td>\n",
       "      <td>NaN</td>\n",
       "      <td>NaN</td>\n",
       "      <td>NaN</td>\n",
       "      <td>NaN</td>\n",
       "      <td>NaN</td>\n",
       "    </tr>\n",
       "    <tr>\n",
       "      <th>delay</th>\n",
       "      <td>0.002993</td>\n",
       "      <td>0.002992</td>\n",
       "      <td>NaN</td>\n",
       "      <td>-0.003417</td>\n",
       "      <td>-0.003424</td>\n",
       "      <td>-0.003550</td>\n",
       "      <td>NaN</td>\n",
       "      <td>-0.000773</td>\n",
       "      <td>-0.000821</td>\n",
       "      <td>-0.000899</td>\n",
       "      <td>NaN</td>\n",
       "      <td>NaN</td>\n",
       "      <td>NaN</td>\n",
       "      <td>NaN</td>\n",
       "      <td>NaN</td>\n",
       "      <td>NaN</td>\n",
       "      <td>1.000000</td>\n",
       "      <td>-0.004039</td>\n",
       "    </tr>\n",
       "    <tr>\n",
       "      <th>inst-code</th>\n",
       "      <td>0.000086</td>\n",
       "      <td>0.000022</td>\n",
       "      <td>NaN</td>\n",
       "      <td>-0.301078</td>\n",
       "      <td>-0.300872</td>\n",
       "      <td>-0.296814</td>\n",
       "      <td>NaN</td>\n",
       "      <td>-0.175688</td>\n",
       "      <td>-0.175661</td>\n",
       "      <td>-0.172667</td>\n",
       "      <td>NaN</td>\n",
       "      <td>NaN</td>\n",
       "      <td>NaN</td>\n",
       "      <td>NaN</td>\n",
       "      <td>NaN</td>\n",
       "      <td>NaN</td>\n",
       "      <td>-0.004039</td>\n",
       "      <td>1.000000</td>\n",
       "    </tr>\n",
       "  </tbody>\n",
       "</table>\n",
       "</div>"
      ],
      "text/plain": [
       "                         Unnamed: 0      time  bandwidth  input-data-rate  \\\n",
       "Unnamed: 0                 1.000000  1.000000        NaN         0.010409   \n",
       "time                       1.000000  1.000000        NaN         0.010428   \n",
       "bandwidth                       NaN       NaN        NaN              NaN   \n",
       "input-data-rate            0.010409  0.010428        NaN         1.000000   \n",
       "input-load                 0.010274  0.010293        NaN         0.999699   \n",
       "input-packet-rate          0.010455  0.010474        NaN         0.998972   \n",
       "load-interval                   NaN       NaN        NaN              NaN   \n",
       "output-data-rate           0.004927  0.004941        NaN         0.001271   \n",
       "output-load                0.004727  0.004741        NaN         0.001514   \n",
       "output-packet-rate         0.004873  0.004887        NaN         0.001915   \n",
       "reliability                     NaN       NaN        NaN              NaN   \n",
       "peak-input-data-rate            NaN       NaN        NaN              NaN   \n",
       "peak-output-data-rate           NaN       NaN        NaN              NaN   \n",
       "peak-input-packet-rate          NaN       NaN        NaN              NaN   \n",
       "peak-output-packet-rate         NaN       NaN        NaN              NaN   \n",
       "infname                         NaN       NaN        NaN              NaN   \n",
       "delay                      0.002993  0.002992        NaN        -0.003417   \n",
       "inst-code                  0.000086  0.000022        NaN        -0.301078   \n",
       "\n",
       "                         input-load  input-packet-rate  load-interval  \\\n",
       "Unnamed: 0                 0.010274           0.010455            NaN   \n",
       "time                       0.010293           0.010474            NaN   \n",
       "bandwidth                       NaN                NaN            NaN   \n",
       "input-data-rate            0.999699           0.998972            NaN   \n",
       "input-load                 1.000000           0.998647            NaN   \n",
       "input-packet-rate          0.998647           1.000000            NaN   \n",
       "load-interval                   NaN                NaN            NaN   \n",
       "output-data-rate           0.000502           0.003187            NaN   \n",
       "output-load                0.000752           0.003445            NaN   \n",
       "output-packet-rate         0.001145           0.003892            NaN   \n",
       "reliability                     NaN                NaN            NaN   \n",
       "peak-input-data-rate            NaN                NaN            NaN   \n",
       "peak-output-data-rate           NaN                NaN            NaN   \n",
       "peak-input-packet-rate          NaN                NaN            NaN   \n",
       "peak-output-packet-rate         NaN                NaN            NaN   \n",
       "infname                         NaN                NaN            NaN   \n",
       "delay                     -0.003424          -0.003550            NaN   \n",
       "inst-code                 -0.300872          -0.296814            NaN   \n",
       "\n",
       "                         output-data-rate  output-load  output-packet-rate  \\\n",
       "Unnamed: 0                       0.004927     0.004727            0.004873   \n",
       "time                             0.004941     0.004741            0.004887   \n",
       "bandwidth                             NaN          NaN                 NaN   \n",
       "input-data-rate                  0.001271     0.001514            0.001915   \n",
       "input-load                       0.000502     0.000752            0.001145   \n",
       "input-packet-rate                0.003187     0.003445            0.003892   \n",
       "load-interval                         NaN          NaN                 NaN   \n",
       "output-data-rate                 1.000000     0.999923            0.999716   \n",
       "output-load                      0.999923     1.000000            0.999618   \n",
       "output-packet-rate               0.999716     0.999618            1.000000   \n",
       "reliability                           NaN          NaN                 NaN   \n",
       "peak-input-data-rate                  NaN          NaN                 NaN   \n",
       "peak-output-data-rate                 NaN          NaN                 NaN   \n",
       "peak-input-packet-rate                NaN          NaN                 NaN   \n",
       "peak-output-packet-rate               NaN          NaN                 NaN   \n",
       "infname                               NaN          NaN                 NaN   \n",
       "delay                           -0.000773    -0.000821           -0.000899   \n",
       "inst-code                       -0.175688    -0.175661           -0.172667   \n",
       "\n",
       "                         reliability  peak-input-data-rate  \\\n",
       "Unnamed: 0                       NaN                   NaN   \n",
       "time                             NaN                   NaN   \n",
       "bandwidth                        NaN                   NaN   \n",
       "input-data-rate                  NaN                   NaN   \n",
       "input-load                       NaN                   NaN   \n",
       "input-packet-rate                NaN                   NaN   \n",
       "load-interval                    NaN                   NaN   \n",
       "output-data-rate                 NaN                   NaN   \n",
       "output-load                      NaN                   NaN   \n",
       "output-packet-rate               NaN                   NaN   \n",
       "reliability                      NaN                   NaN   \n",
       "peak-input-data-rate             NaN                   NaN   \n",
       "peak-output-data-rate            NaN                   NaN   \n",
       "peak-input-packet-rate           NaN                   NaN   \n",
       "peak-output-packet-rate          NaN                   NaN   \n",
       "infname                          NaN                   NaN   \n",
       "delay                            NaN                   NaN   \n",
       "inst-code                        NaN                   NaN   \n",
       "\n",
       "                         peak-output-data-rate  peak-input-packet-rate  \\\n",
       "Unnamed: 0                                 NaN                     NaN   \n",
       "time                                       NaN                     NaN   \n",
       "bandwidth                                  NaN                     NaN   \n",
       "input-data-rate                            NaN                     NaN   \n",
       "input-load                                 NaN                     NaN   \n",
       "input-packet-rate                          NaN                     NaN   \n",
       "load-interval                              NaN                     NaN   \n",
       "output-data-rate                           NaN                     NaN   \n",
       "output-load                                NaN                     NaN   \n",
       "output-packet-rate                         NaN                     NaN   \n",
       "reliability                                NaN                     NaN   \n",
       "peak-input-data-rate                       NaN                     NaN   \n",
       "peak-output-data-rate                      NaN                     NaN   \n",
       "peak-input-packet-rate                     NaN                     NaN   \n",
       "peak-output-packet-rate                    NaN                     NaN   \n",
       "infname                                    NaN                     NaN   \n",
       "delay                                      NaN                     NaN   \n",
       "inst-code                                  NaN                     NaN   \n",
       "\n",
       "                         peak-output-packet-rate  infname     delay  inst-code  \n",
       "Unnamed: 0                                   NaN      NaN  0.002993   0.000086  \n",
       "time                                         NaN      NaN  0.002992   0.000022  \n",
       "bandwidth                                    NaN      NaN       NaN        NaN  \n",
       "input-data-rate                              NaN      NaN -0.003417  -0.301078  \n",
       "input-load                                   NaN      NaN -0.003424  -0.300872  \n",
       "input-packet-rate                            NaN      NaN -0.003550  -0.296814  \n",
       "load-interval                                NaN      NaN       NaN        NaN  \n",
       "output-data-rate                             NaN      NaN -0.000773  -0.175688  \n",
       "output-load                                  NaN      NaN -0.000821  -0.175661  \n",
       "output-packet-rate                           NaN      NaN -0.000899  -0.172667  \n",
       "reliability                                  NaN      NaN       NaN        NaN  \n",
       "peak-input-data-rate                         NaN      NaN       NaN        NaN  \n",
       "peak-output-data-rate                        NaN      NaN       NaN        NaN  \n",
       "peak-input-packet-rate                       NaN      NaN       NaN        NaN  \n",
       "peak-output-packet-rate                      NaN      NaN       NaN        NaN  \n",
       "infname                                      NaN      NaN       NaN        NaN  \n",
       "delay                                        NaN      NaN  1.000000  -0.004039  \n",
       "inst-code                                    NaN      NaN -0.004039   1.000000  "
      ]
     },
     "execution_count": 32,
     "metadata": {},
     "output_type": "execute_result"
    }
   ],
   "source": [
    "dleaf.corr()"
   ]
  },
  {
   "cell_type": "code",
   "execution_count": 33,
   "metadata": {
    "collapsed": true
   },
   "outputs": [],
   "source": [
    "from sklearn.preprocessing import LabelEncoder"
   ]
  },
  {
   "cell_type": "code",
   "execution_count": 34,
   "metadata": {
    "collapsed": true
   },
   "outputs": [],
   "source": [
    "a = LabelEncoder()"
   ]
  },
  {
   "cell_type": "code",
   "execution_count": 35,
   "metadata": {},
   "outputs": [
    {
     "data": {
      "text/plain": [
       "LabelEncoder()"
      ]
     },
     "execution_count": 35,
     "metadata": {},
     "output_type": "execute_result"
    }
   ],
   "source": [
    "a.fit(dleaf['Producer'])"
   ]
  },
  {
   "cell_type": "code",
   "execution_count": 36,
   "metadata": {
    "collapsed": true
   },
   "outputs": [],
   "source": [
    "dleaf['prodenc'] = a.transform(dleaf['Producer'])"
   ]
  },
  {
   "cell_type": "code",
   "execution_count": 37,
   "metadata": {
    "collapsed": true
   },
   "outputs": [],
   "source": [
    "out = dleaf['inst-code']"
   ]
  },
  {
   "cell_type": "code",
   "execution_count": 38,
   "metadata": {
    "collapsed": true
   },
   "outputs": [],
   "source": [
    "inp = dleaf[[ 'bandwidth',\n",
    "       'input-data-rate', 'input-load', 'input-packet-rate',\n",
    "       'load-interval','prodenc','output-data-rate', 'output-load',\n",
    "       'output-packet-rate', 'reliability', 'peak-input-data-rate',\n",
    "       'peak-output-data-rate', 'peak-input-packet-rate',\n",
    "       'peak-output-packet-rate','delay']]"
   ]
  },
  {
   "cell_type": "code",
   "execution_count": 39,
   "metadata": {},
   "outputs": [
    {
     "name": "stderr",
     "output_type": "stream",
     "text": [
      "C:\\ProgramData\\Anaconda3\\lib\\site-packages\\sklearn\\cross_validation.py:41: DeprecationWarning: This module was deprecated in version 0.18 in favor of the model_selection module into which all the refactored classes and functions are moved. Also note that the interface of the new CV iterators are different from that of this module. This module will be removed in 0.20.\n",
      "  \"This module will be removed in 0.20.\", DeprecationWarning)\n"
     ]
    }
   ],
   "source": [
    "from sklearn.cross_validation import train_test_split\n",
    "x_train , y_train , x_test , y_test = train_test_split(inp , out , test_size = 0.2)"
   ]
  },
  {
   "cell_type": "code",
   "execution_count": 40,
   "metadata": {},
   "outputs": [
    {
     "data": {
      "text/plain": [
       "DecisionTreeClassifier(class_weight=None, criterion='gini', max_depth=None,\n",
       "            max_features=None, max_leaf_nodes=None,\n",
       "            min_impurity_decrease=0.0, min_impurity_split=None,\n",
       "            min_samples_leaf=1, min_samples_split=2,\n",
       "            min_weight_fraction_leaf=0.0, presort=False, random_state=None,\n",
       "            splitter='best')"
      ]
     },
     "execution_count": 40,
     "metadata": {},
     "output_type": "execute_result"
    }
   ],
   "source": [
    "from sklearn.tree import DecisionTreeClassifier\n",
    "mod = DecisionTreeClassifier()\n",
    "mod.fit(x_train , x_test)"
   ]
  },
  {
   "cell_type": "code",
   "execution_count": 41,
   "metadata": {
    "collapsed": true
   },
   "outputs": [],
   "source": [
    "pred = mod.predict(y_train)"
   ]
  },
  {
   "cell_type": "code",
   "execution_count": 42,
   "metadata": {
    "collapsed": true
   },
   "outputs": [],
   "source": [
    "from sklearn.metrics import accuracy_score"
   ]
  },
  {
   "cell_type": "code",
   "execution_count": 43,
   "metadata": {},
   "outputs": [
    {
     "data": {
      "text/plain": [
       "0.78807578008915302"
      ]
     },
     "execution_count": 43,
     "metadata": {},
     "output_type": "execute_result"
    }
   ],
   "source": [
    "accuracy_score(pred , y_test)"
   ]
  },
  {
   "cell_type": "code",
   "execution_count": 44,
   "metadata": {
    "collapsed": true
   },
   "outputs": [],
   "source": [
    "from sklearn.ensemble import RandomForestClassifier"
   ]
  },
  {
   "cell_type": "code",
   "execution_count": 45,
   "metadata": {
    "collapsed": true
   },
   "outputs": [],
   "source": [
    "mod1 = RandomForestClassifier()"
   ]
  },
  {
   "cell_type": "code",
   "execution_count": 46,
   "metadata": {},
   "outputs": [
    {
     "data": {
      "text/plain": [
       "RandomForestClassifier(bootstrap=True, class_weight=None, criterion='gini',\n",
       "            max_depth=None, max_features='auto', max_leaf_nodes=None,\n",
       "            min_impurity_decrease=0.0, min_impurity_split=None,\n",
       "            min_samples_leaf=1, min_samples_split=2,\n",
       "            min_weight_fraction_leaf=0.0, n_estimators=10, n_jobs=1,\n",
       "            oob_score=False, random_state=None, verbose=0,\n",
       "            warm_start=False)"
      ]
     },
     "execution_count": 46,
     "metadata": {},
     "output_type": "execute_result"
    }
   ],
   "source": [
    "mod1.fit(x_train , x_test)"
   ]
  },
  {
   "cell_type": "code",
   "execution_count": 47,
   "metadata": {},
   "outputs": [
    {
     "data": {
      "text/plain": [
       "0.79522659732540857"
      ]
     },
     "execution_count": 47,
     "metadata": {},
     "output_type": "execute_result"
    }
   ],
   "source": [
    "pred1 = mod1.predict(y_train)\n",
    "accuracy_score(pred1 , y_test)"
   ]
  },
  {
   "cell_type": "code",
   "execution_count": 49,
   "metadata": {
    "collapsed": true
   },
   "outputs": [],
   "source": [
    "from sklearn.ensemble import GradientBoostingClassifier"
   ]
  },
  {
   "cell_type": "code",
   "execution_count": 51,
   "metadata": {
    "collapsed": true
   },
   "outputs": [],
   "source": [
    "clf = GradientBoostingClassifier(learning_rate=0.1,n_estimators=400)"
   ]
  },
  {
   "cell_type": "code",
   "execution_count": 150,
   "metadata": {},
   "outputs": [],
   "source": [
    "#clf.fit(x_train , x_test)"
   ]
  },
  {
   "cell_type": "code",
   "execution_count": 60,
   "metadata": {
    "collapsed": true
   },
   "outputs": [],
   "source": [
    "dleaf.to_csv('dleaf.csv')"
   ]
  },
  {
   "cell_type": "code",
   "execution_count": 53,
   "metadata": {
    "collapsed": true
   },
   "outputs": [],
   "source": [
    "from sklearn.ensemble import GradientBoostingRegressor"
   ]
  },
  {
   "cell_type": "code",
   "execution_count": 54,
   "metadata": {
    "collapsed": true
   },
   "outputs": [],
   "source": [
    "clf = GradientBoostingRegressor(n_estimators = 400, max_depth = 10, min_samples_split = 4,\n",
    "          learning_rate = 0.1 , loss = 'ls')"
   ]
  },
  {
   "cell_type": "code",
   "execution_count": 55,
   "metadata": {},
   "outputs": [
    {
     "data": {
      "text/plain": [
       "GradientBoostingRegressor(alpha=0.9, criterion='friedman_mse', init=None,\n",
       "             learning_rate=0.1, loss='ls', max_depth=10, max_features=None,\n",
       "             max_leaf_nodes=None, min_impurity_decrease=0.0,\n",
       "             min_impurity_split=None, min_samples_leaf=1,\n",
       "             min_samples_split=4, min_weight_fraction_leaf=0.0,\n",
       "             n_estimators=400, presort='auto', random_state=None,\n",
       "             subsample=1.0, verbose=0, warm_start=False)"
      ]
     },
     "execution_count": 55,
     "metadata": {},
     "output_type": "execute_result"
    }
   ],
   "source": [
    "clf.fit(x_train , x_test)"
   ]
  },
  {
   "cell_type": "code",
   "execution_count": 56,
   "metadata": {
    "collapsed": true
   },
   "outputs": [],
   "source": [
    "pred2 = clf.predict(y_train)"
   ]
  },
  {
   "cell_type": "code",
   "execution_count": 57,
   "metadata": {},
   "outputs": [
    {
     "data": {
      "text/plain": [
       "0.78563562269684983"
      ]
     },
     "execution_count": 57,
     "metadata": {},
     "output_type": "execute_result"
    }
   ],
   "source": [
    "clf.score(y_train , y_test)"
   ]
  },
  {
   "cell_type": "code",
   "execution_count": 59,
   "metadata": {
    "collapsed": true
   },
   "outputs": [],
   "source": [
    "#accuracy_score(pred2 , y_test)"
   ]
  },
  {
   "cell_type": "code",
   "execution_count": 60,
   "metadata": {
    "collapsed": true
   },
   "outputs": [],
   "source": [
    "from sklearn.metrics import r2_score"
   ]
  },
  {
   "cell_type": "code",
   "execution_count": 61,
   "metadata": {},
   "outputs": [
    {
     "data": {
      "text/plain": [
       "0.72875155120507373"
      ]
     },
     "execution_count": 61,
     "metadata": {},
     "output_type": "execute_result"
    }
   ],
   "source": [
    "r2_score(clf.predict(y_train) , y_test)"
   ]
  },
  {
   "cell_type": "code",
   "execution_count": 62,
   "metadata": {},
   "outputs": [
    {
     "data": {
      "text/plain": [
       "array([ 0.,  0.,  0.,  1.,  0.,  0.,  0.,  0.,  0.,  0.,  0.,  0.,  0.,\n",
       "        0.,  0.,  0.])"
      ]
     },
     "execution_count": 62,
     "metadata": {},
     "output_type": "execute_result"
    }
   ],
   "source": [
    "mod1.predict_proba(y_train)[11]"
   ]
  },
  {
   "cell_type": "code",
   "execution_count": 64,
   "metadata": {
    "collapsed": true
   },
   "outputs": [],
   "source": [
    "from sklearn.linear_model import LinearRegression"
   ]
  },
  {
   "cell_type": "code",
   "execution_count": 65,
   "metadata": {
    "collapsed": true
   },
   "outputs": [],
   "source": [
    "mod3 = LinearRegression()"
   ]
  },
  {
   "cell_type": "code",
   "execution_count": 66,
   "metadata": {},
   "outputs": [
    {
     "data": {
      "text/plain": [
       "LinearRegression(copy_X=True, fit_intercept=True, n_jobs=1, normalize=False)"
      ]
     },
     "execution_count": 66,
     "metadata": {},
     "output_type": "execute_result"
    }
   ],
   "source": [
    "mod3.fit(x_train , x_test)"
   ]
  },
  {
   "cell_type": "code",
   "execution_count": 67,
   "metadata": {},
   "outputs": [
    {
     "data": {
      "text/plain": [
       "0.14966968367387778"
      ]
     },
     "execution_count": 67,
     "metadata": {},
     "output_type": "execute_result"
    }
   ],
   "source": [
    "mod3.score(y_train , y_test)"
   ]
  },
  {
   "cell_type": "code",
   "execution_count": 73,
   "metadata": {
    "collapsed": true
   },
   "outputs": [],
   "source": [
    "from sklearn.svm import LinearSVC"
   ]
  },
  {
   "cell_type": "code",
   "execution_count": 74,
   "metadata": {
    "collapsed": true
   },
   "outputs": [],
   "source": [
    "mod4 = LinearSVC()"
   ]
  },
  {
   "cell_type": "code",
   "execution_count": 75,
   "metadata": {},
   "outputs": [
    {
     "data": {
      "text/plain": [
       "LinearSVC(C=1.0, class_weight=None, dual=True, fit_intercept=True,\n",
       "     intercept_scaling=1, loss='squared_hinge', max_iter=1000,\n",
       "     multi_class='ovr', penalty='l2', random_state=None, tol=0.0001,\n",
       "     verbose=0)"
      ]
     },
     "execution_count": 75,
     "metadata": {},
     "output_type": "execute_result"
    }
   ],
   "source": [
    "mod4.fit(x_train , x_test)"
   ]
  },
  {
   "cell_type": "code",
   "execution_count": 77,
   "metadata": {
    "collapsed": true
   },
   "outputs": [],
   "source": [
    "pred5 = mod4.predict(y_train)"
   ]
  },
  {
   "cell_type": "code",
   "execution_count": 78,
   "metadata": {},
   "outputs": [
    {
     "data": {
      "text/plain": [
       "0.059249628528974738"
      ]
     },
     "execution_count": 78,
     "metadata": {},
     "output_type": "execute_result"
    }
   ],
   "source": [
    "accuracy_score(pred5 , y_test)"
   ]
  },
  {
   "cell_type": "code",
   "execution_count": 80,
   "metadata": {
    "collapsed": true
   },
   "outputs": [],
   "source": [
    "from keras.models import Sequential"
   ]
  },
  {
   "cell_type": "code",
   "execution_count": 81,
   "metadata": {
    "collapsed": true
   },
   "outputs": [],
   "source": [
    "from keras.layers import Dense"
   ]
  },
  {
   "cell_type": "code",
   "execution_count": 104,
   "metadata": {
    "collapsed": true
   },
   "outputs": [],
   "source": [
    "model = Sequential()"
   ]
  },
  {
   "cell_type": "code",
   "execution_count": 105,
   "metadata": {},
   "outputs": [
    {
     "data": {
      "text/plain": [
       "(43072, 15)"
      ]
     },
     "execution_count": 105,
     "metadata": {},
     "output_type": "execute_result"
    }
   ],
   "source": [
    "x_train.shape"
   ]
  },
  {
   "cell_type": "code",
   "execution_count": 113,
   "metadata": {
    "collapsed": true
   },
   "outputs": [],
   "source": [
    "model.add(Dense(15 , input_dim = 15 ,activation= 'relu'))\n",
    "model.add(Dense(12 , activation='relu',kernel_initializer= 'uniform'))\n",
    "model.add(Dense(6 , activation='relu',kernel_initializer='uniform'))\n",
    "model.add(Dense((1),kernel_initializer = 'uniform'))"
   ]
  },
  {
   "cell_type": "code",
   "execution_count": 114,
   "metadata": {
    "collapsed": true
   },
   "outputs": [],
   "source": [
    "model.compile(loss='binary_crossentropy', optimizer='adagrad', metrics=['accuracy'])"
   ]
  },
  {
   "cell_type": "code",
   "execution_count": 131,
   "metadata": {},
   "outputs": [
    {
     "name": "stdout",
     "output_type": "stream",
     "text": [
      "Epoch 1/10\n",
      "43072/43072 [==============================] - 2s - loss: 185.3263 - acc: 0.0000e+00     \n",
      "Epoch 2/10\n",
      "43072/43072 [==============================] - 2s - loss: 185.3263 - acc: 0.0000e+00     \n",
      "Epoch 3/10\n",
      "43072/43072 [==============================] - 2s - loss: 185.3263 - acc: 0.0000e+00     \n",
      "Epoch 4/10\n",
      "43072/43072 [==============================] - 2s - loss: 185.3263 - acc: 0.0000e+00     \n",
      "Epoch 5/10\n",
      "43072/43072 [==============================] - 2s - loss: 185.3263 - acc: 0.0000e+00     \n",
      "Epoch 6/10\n",
      "43072/43072 [==============================] - 2s - loss: 185.3263 - acc: 0.0000e+00     \n",
      "Epoch 7/10\n",
      "43072/43072 [==============================] - 2s - loss: 185.3263 - acc: 0.0000e+00     \n",
      "Epoch 8/10\n",
      "43072/43072 [==============================] - 2s - loss: 185.3263 - acc: 0.0000e+00     \n",
      "Epoch 9/10\n",
      "43072/43072 [==============================] - 2s - loss: 185.3263 - acc: 0.0000e+00     \n",
      "Epoch 10/10\n",
      "43072/43072 [==============================] - 2s - loss: 185.3263 - acc: 0.0000e+00     \n"
     ]
    },
    {
     "data": {
      "text/plain": [
       "<keras.callbacks.History at 0x20d495cbbe0>"
      ]
     },
     "execution_count": 131,
     "metadata": {},
     "output_type": "execute_result"
    }
   ],
   "source": [
    "model.fit(np.array(x_train) ,np.array(x_test) , epochs= 10)"
   ]
  },
  {
   "cell_type": "code",
   "execution_count": 116,
   "metadata": {
    "collapsed": true
   },
   "outputs": [],
   "source": [
    "from sklearn.neighbors import KNeighborsClassifier"
   ]
  },
  {
   "cell_type": "code",
   "execution_count": 117,
   "metadata": {
    "collapsed": true
   },
   "outputs": [],
   "source": [
    "mod5 = KNeighborsClassifier()"
   ]
  },
  {
   "cell_type": "code",
   "execution_count": 118,
   "metadata": {},
   "outputs": [
    {
     "data": {
      "text/plain": [
       "KNeighborsClassifier(algorithm='auto', leaf_size=30, metric='minkowski',\n",
       "           metric_params=None, n_jobs=1, n_neighbors=5, p=2,\n",
       "           weights='uniform')"
      ]
     },
     "execution_count": 118,
     "metadata": {},
     "output_type": "execute_result"
    }
   ],
   "source": [
    "mod5.fit(x_train , x_test)"
   ]
  },
  {
   "cell_type": "code",
   "execution_count": 119,
   "metadata": {},
   "outputs": [
    {
     "data": {
      "text/plain": [
       "0.6692979197622585"
      ]
     },
     "execution_count": 119,
     "metadata": {},
     "output_type": "execute_result"
    }
   ],
   "source": [
    "mod5.score(y_train , y_test)"
   ]
  },
  {
   "cell_type": "code",
   "execution_count": 120,
   "metadata": {
    "collapsed": true
   },
   "outputs": [],
   "source": [
    "from sklearn.neighbors import KNeighborsRegressor"
   ]
  },
  {
   "cell_type": "code",
   "execution_count": 121,
   "metadata": {
    "collapsed": true
   },
   "outputs": [],
   "source": [
    "mod6 = KNeighborsRegressor()"
   ]
  },
  {
   "cell_type": "code",
   "execution_count": 122,
   "metadata": {},
   "outputs": [
    {
     "data": {
      "text/plain": [
       "KNeighborsRegressor(algorithm='auto', leaf_size=30, metric='minkowski',\n",
       "          metric_params=None, n_jobs=1, n_neighbors=5, p=2,\n",
       "          weights='uniform')"
      ]
     },
     "execution_count": 122,
     "metadata": {},
     "output_type": "execute_result"
    }
   ],
   "source": [
    "mod6.fit(x_train , x_test)"
   ]
  },
  {
   "cell_type": "code",
   "execution_count": 123,
   "metadata": {},
   "outputs": [
    {
     "data": {
      "text/plain": [
       "0.56235884154589155"
      ]
     },
     "execution_count": 123,
     "metadata": {},
     "output_type": "execute_result"
    }
   ],
   "source": [
    "mod6.score(y_train , y_test)"
   ]
  },
  {
   "cell_type": "code",
   "execution_count": 124,
   "metadata": {
    "collapsed": true
   },
   "outputs": [],
   "source": [
    "from sklearn.naive_bayes import BernoulliNB"
   ]
  },
  {
   "cell_type": "code",
   "execution_count": 125,
   "metadata": {
    "collapsed": true
   },
   "outputs": [],
   "source": [
    "mod7 = BernoulliNB()"
   ]
  },
  {
   "cell_type": "code",
   "execution_count": 126,
   "metadata": {},
   "outputs": [
    {
     "data": {
      "text/plain": [
       "BernoulliNB(alpha=1.0, binarize=0.0, class_prior=None, fit_prior=True)"
      ]
     },
     "execution_count": 126,
     "metadata": {},
     "output_type": "execute_result"
    }
   ],
   "source": [
    "mod7.fit(x_train , x_test)"
   ]
  },
  {
   "cell_type": "code",
   "execution_count": 127,
   "metadata": {},
   "outputs": [
    {
     "data": {
      "text/plain": [
       "0.074944279346210993"
      ]
     },
     "execution_count": 127,
     "metadata": {},
     "output_type": "execute_result"
    }
   ],
   "source": [
    "mod7.score(y_train , y_test)"
   ]
  },
  {
   "cell_type": "code",
   "execution_count": 133,
   "metadata": {
    "collapsed": true
   },
   "outputs": [],
   "source": [
    "from sklearn.preprocessing import MinMaxScaler"
   ]
  },
  {
   "cell_type": "code",
   "execution_count": 134,
   "metadata": {
    "collapsed": true
   },
   "outputs": [],
   "source": [
    "m = MinMaxScaler()"
   ]
  },
  {
   "cell_type": "code",
   "execution_count": 135,
   "metadata": {
    "collapsed": true
   },
   "outputs": [],
   "source": [
    "m1_train = m.fit_transform(x_train.values)"
   ]
  },
  {
   "cell_type": "code",
   "execution_count": 138,
   "metadata": {},
   "outputs": [
    {
     "name": "stderr",
     "output_type": "stream",
     "text": [
      "C:\\ProgramData\\Anaconda3\\lib\\site-packages\\ipykernel_launcher.py:1: FutureWarning: reshape is deprecated and will raise in a subsequent release. Please use .values.reshape(...) instead\n",
      "  \"\"\"Entry point for launching an IPython kernel.\n",
      "C:\\ProgramData\\Anaconda3\\lib\\site-packages\\sklearn\\utils\\validation.py:475: DataConversionWarning: Data with input dtype int32 was converted to float64 by MinMaxScaler.\n",
      "  warnings.warn(msg, DataConversionWarning)\n"
     ]
    }
   ],
   "source": [
    "m1_test = m.fit_transform(x_test.reshape(-1,1))"
   ]
  },
  {
   "cell_type": "code",
   "execution_count": 139,
   "metadata": {},
   "outputs": [
    {
     "name": "stdout",
     "output_type": "stream",
     "text": [
      "Epoch 1/10\n",
      "43072/43072 [==============================] - 2s - loss: 8.0569 - acc: 0.0628     \n",
      "Epoch 2/10\n",
      "43072/43072 [==============================] - 2s - loss: 8.0569 - acc: 0.0628     \n",
      "Epoch 3/10\n",
      "43072/43072 [==============================] - 2s - loss: 8.0569 - acc: 0.0628     \n",
      "Epoch 4/10\n",
      "43072/43072 [==============================] - 2s - loss: 8.0569 - acc: 0.0628     \n",
      "Epoch 5/10\n",
      "43072/43072 [==============================] - 2s - loss: 8.0569 - acc: 0.0628     \n",
      "Epoch 6/10\n",
      "43072/43072 [==============================] - 2s - loss: 8.0569 - acc: 0.0628     \n",
      "Epoch 7/10\n",
      "43072/43072 [==============================] - 2s - loss: 8.0569 - acc: 0.0628     \n",
      "Epoch 8/10\n",
      "43072/43072 [==============================] - 2s - loss: 8.0569 - acc: 0.0628     \n",
      "Epoch 9/10\n",
      "43072/43072 [==============================] - 2s - loss: 8.0569 - acc: 0.0628     \n",
      "Epoch 10/10\n",
      "43072/43072 [==============================] - 2s - loss: 8.0569 - acc: 0.0628     \n"
     ]
    },
    {
     "data": {
      "text/plain": [
       "<keras.callbacks.History at 0x20d49559d30>"
      ]
     },
     "execution_count": 139,
     "metadata": {},
     "output_type": "execute_result"
    }
   ],
   "source": [
    "model.fit(m1_train ,m1_test , epochs= 10)"
   ]
  },
  {
   "cell_type": "code",
   "execution_count": 140,
   "metadata": {
    "collapsed": true
   },
   "outputs": [],
   "source": [
    "from sklearn.preprocessing import StandardScaler"
   ]
  },
  {
   "cell_type": "code",
   "execution_count": 141,
   "metadata": {
    "collapsed": true
   },
   "outputs": [],
   "source": [
    "m1 = StandardScaler()"
   ]
  },
  {
   "cell_type": "code",
   "execution_count": 142,
   "metadata": {},
   "outputs": [
    {
     "name": "stderr",
     "output_type": "stream",
     "text": [
      "C:\\ProgramData\\Anaconda3\\lib\\site-packages\\ipykernel_launcher.py:2: FutureWarning: reshape is deprecated and will raise in a subsequent release. Please use .values.reshape(...) instead\n",
      "  \n",
      "C:\\ProgramData\\Anaconda3\\lib\\site-packages\\sklearn\\utils\\validation.py:475: DataConversionWarning: Data with input dtype int32 was converted to float64 by StandardScaler.\n",
      "  warnings.warn(msg, DataConversionWarning)\n"
     ]
    }
   ],
   "source": [
    "m2_train = m1.fit_transform(x_train.values)\n",
    "m2_test = m1.fit_transform(x_test.reshape(-1,1))"
   ]
  },
  {
   "cell_type": "code",
   "execution_count": 143,
   "metadata": {},
   "outputs": [
    {
     "name": "stdout",
     "output_type": "stream",
     "text": [
      "Epoch 1/10\n",
      "43072/43072 [==============================] - 2s - loss: 6.2605e-08 - acc: 0.0000e+00  \n",
      "Epoch 2/10\n",
      "43072/43072 [==============================] - 2s - loss: 6.5516e-08 - acc: 0.0000e+00  \n",
      "Epoch 3/10\n",
      "43072/43072 [==============================] - 2s - loss: 5.7468e-08 - acc: 0.0000e+00  \n",
      "Epoch 4/10\n",
      "43072/43072 [==============================] - 2s - loss: 6.0258e-08 - acc: 0.0000e+00  \n",
      "Epoch 5/10\n",
      "43072/43072 [==============================] - 2s - loss: 6.6978e-08 - acc: 0.0000e+00 \n",
      "Epoch 6/10\n",
      "43072/43072 [==============================] - 2s - loss: 6.5372e-08 - acc: 0.0000e+00  \n",
      "Epoch 7/10\n",
      "43072/43072 [==============================] - 2s - loss: 5.6616e-08 - acc: 0.0000e+00  \n",
      "Epoch 8/10\n",
      "43072/43072 [==============================] - 2s - loss: 5.4711e-08 - acc: 0.0000e+00  \n",
      "Epoch 9/10\n",
      "43072/43072 [==============================] - 2s - loss: 5.9239e-08 - acc: 0.0000e+00 \n",
      "Epoch 10/10\n",
      "43072/43072 [==============================] - 2s - loss: 6.2007e-08 - acc: 0.0000e+00  \n"
     ]
    },
    {
     "data": {
      "text/plain": [
       "<keras.callbacks.History at 0x20d49559c88>"
      ]
     },
     "execution_count": 143,
     "metadata": {},
     "output_type": "execute_result"
    }
   ],
   "source": [
    "model.fit(m2_train ,m2_test , epochs= 10)"
   ]
  },
  {
   "cell_type": "code",
   "execution_count": 145,
   "metadata": {
    "collapsed": true
   },
   "outputs": [],
   "source": [
    "m1_val = m.fit_transform(y_train.values)"
   ]
  },
  {
   "cell_type": "code",
   "execution_count": 146,
   "metadata": {},
   "outputs": [
    {
     "name": "stderr",
     "output_type": "stream",
     "text": [
      "C:\\ProgramData\\Anaconda3\\lib\\site-packages\\ipykernel_launcher.py:1: FutureWarning: reshape is deprecated and will raise in a subsequent release. Please use .values.reshape(...) instead\n",
      "  \"\"\"Entry point for launching an IPython kernel.\n",
      "C:\\ProgramData\\Anaconda3\\lib\\site-packages\\sklearn\\utils\\validation.py:475: DataConversionWarning: Data with input dtype int32 was converted to float64 by MinMaxScaler.\n",
      "  warnings.warn(msg, DataConversionWarning)\n"
     ]
    }
   ],
   "source": [
    "m1_valt = m.fit_transform(y_test.reshape(-1,1))"
   ]
  },
  {
   "cell_type": "code",
   "execution_count": null,
   "metadata": {
    "collapsed": true
   },
   "outputs": [],
   "source": []
  },
  {
   "cell_type": "code",
   "execution_count": null,
   "metadata": {},
   "outputs": [],
   "source": []
  },
  {
   "cell_type": "code",
   "execution_count": null,
   "metadata": {
    "collapsed": true
   },
   "outputs": [],
   "source": []
  }
 ],
 "metadata": {
  "kernelspec": {
   "display_name": "Python 3",
   "language": "python",
   "name": "python3"
  },
  "language_info": {
   "codemirror_mode": {
    "name": "ipython",
    "version": 3
   },
   "file_extension": ".py",
   "mimetype": "text/x-python",
   "name": "python",
   "nbconvert_exporter": "python",
   "pygments_lexer": "ipython3",
   "version": "3.6.1"
  }
 },
 "nbformat": 4,
 "nbformat_minor": 2
}
