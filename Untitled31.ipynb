{
 "cells": [
  {
   "cell_type": "code",
   "execution_count": 1,
   "metadata": {
    "collapsed": true
   },
   "outputs": [],
   "source": [
    "import pandas as pd\n",
    "import numpy as np"
   ]
  },
  {
   "cell_type": "code",
   "execution_count": 2,
   "metadata": {
    "collapsed": true
   },
   "outputs": [],
   "source": [
    "df = pd.read_csv('uj.csv')"
   ]
  },
  {
   "cell_type": "code",
   "execution_count": 5,
   "metadata": {},
   "outputs": [],
   "source": [
    "leaf = df.loc[df.Producer != 'spine1']"
   ]
  },
  {
   "cell_type": "code",
   "execution_count": 6,
   "metadata": {
    "collapsed": true
   },
   "outputs": [],
   "source": [
    "leaf = df.loc[df.Producer != 'spine2']\n",
    "leaf = df.loc[df.Producer != 'spine3']\n",
    "leaf = df.loc[df.Producer != 'spine4']"
   ]
  },
  {
   "cell_type": "code",
   "execution_count": 9,
   "metadata": {},
   "outputs": [
    {
     "data": {
      "text/plain": [
       "HundredGigE0/0/0/2     5516\n",
       "HundredGigE0/0/0/10    5516\n",
       "MgmtEth0/RP0/CPU0/0    5516\n",
       "HundredGigE0/0/0/24    5516\n",
       "HundredGigE0/0/0/27    5516\n",
       "HundredGigE0/0/0/18    5516\n",
       "HundredGigE0/0/0/29    5516\n",
       "HundredGigE0/0/0/26    5516\n",
       "HundredGigE0/0/0/16    5516\n",
       "HundredGigE0/0/0/19    5516\n",
       "HundredGigE0/0/0/8     5516\n",
       "HundredGigE0/0/0/4     5516\n",
       "HundredGigE0/0/0/5     5516\n",
       "HundredGigE0/0/0/9     5516\n",
       "HundredGigE0/0/0/13    5516\n",
       "HundredGigE0/0/0/0     5516\n",
       "HundredGigE0/0/0/6     5516\n",
       "HundredGigE0/0/0/3     5516\n",
       "HundredGigE0/0/0/1     5516\n",
       "HundredGigE0/0/0/11    5516\n",
       "HundredGigE0/0/0/22    5516\n",
       "Null0                  5516\n",
       "HundredGigE0/0/0/23    5516\n",
       "HundredGigE0/0/0/15    5516\n",
       "HundredGigE0/0/0/28    5516\n",
       "HundredGigE0/0/0/7     5516\n",
       "HundredGigE0/0/0/25    5516\n",
       "HundredGigE0/0/0/17    5516\n",
       "HundredGigE0/0/0/20    5223\n",
       "HundredGigE0/0/0/21    5223\n",
       "                       ... \n",
       "HundredGigE0/1/0/13     899\n",
       "HundredGigE0/1/0/11     899\n",
       "HundredGigE0/1/0/9      899\n",
       "Bundle-Ether2           718\n",
       "HundredGigE0/1/0/21     606\n",
       "HundredGigE0/1/0/20     606\n",
       "HundredGigE0/0/0/34     601\n",
       "HundredGigE0/1/0/31     601\n",
       "HundredGigE0/0/0/35     601\n",
       "HundredGigE0/1/0/30     601\n",
       "MgmtEth0/RP1/CPU0/0     591\n",
       "HundredGigE0/1/0/0      591\n",
       "HundredGigE0/1/0/2      591\n",
       "HundredGigE0/1/0/1      591\n",
       "FortyGigE0/1/0/2        308\n",
       "FortyGigE0/0/0/14       308\n",
       "FortyGigE0/1/0/1        308\n",
       "FortyGigE0/0/0/12       308\n",
       "FortyGigE0/1/0/0        308\n",
       "FortyGigE0/1/0/31       298\n",
       "FortyGigE0/0/0/35       298\n",
       "FortyGigE0/1/0/30       298\n",
       "FortyGigE0/0/0/34       298\n",
       "FortyGigE0/0/0/31       298\n",
       "Bundle-Ether1           298\n",
       "FortyGigE0/0/0/21       293\n",
       "FortyGigE0/0/0/20       293\n",
       "FortyGigE0/1/0/20       293\n",
       "FortyGigE0/0/0/30       293\n",
       "FortyGigE0/1/0/21       293\n",
       "Name: interface-name, Length: 92, dtype: int64"
      ]
     },
     "execution_count": 9,
     "metadata": {},
     "output_type": "execute_result"
    }
   ],
   "source": [
    "leaf['interface-name'].value_counts()"
   ]
  },
  {
   "cell_type": "code",
   "execution_count": 10,
   "metadata": {},
   "outputs": [],
   "source": [
    "k = ['HundredGigE0/0/0/4','HundredGigE0/0/0/5','HundredGigE0/0/0/5','HundredGigE0/0/0/6','HundredGigE0/0/0/7','HundredGigE0/0/0/8','HundredGigE0/0/0/9'\n",
    "    ,'HundredGigE0/0/0/10','HundredGigE0/0/0/11','HundredGigE0/0/0/12','HundredGigE0/0/0/13','HundredGigE0/0/0/14','HundredGigE0/0/0/15','HundredGigE0/0/0/16','HundredGigE0/0/0/17'\n",
    "    ,'HundredGigE0/0/0/18','HundredGigE0/0/0/19']"
   ]
  },
  {
   "cell_type": "code",
   "execution_count": 16,
   "metadata": {},
   "outputs": [
    {
     "name": "stderr",
     "output_type": "stream",
     "text": [
      "C:\\ProgramData\\Anaconda3\\lib\\site-packages\\ipykernel_launcher.py:1: SettingWithCopyWarning: \n",
      "A value is trying to be set on a copy of a slice from a DataFrame.\n",
      "Try using .loc[row_indexer,col_indexer] = value instead\n",
      "\n",
      "See the caveats in the documentation: http://pandas.pydata.org/pandas-docs/stable/indexing.html#indexing-view-versus-copy\n",
      "  \"\"\"Entry point for launching an IPython kernel.\n"
     ]
    }
   ],
   "source": [
    "leaf['infname'] = leaf['interface-name'].isin(k)"
   ]
  },
  {
   "cell_type": "code",
   "execution_count": 18,
   "metadata": {},
   "outputs": [
    {
     "data": {
      "text/plain": [
       "False    137471\n",
       "True      87640\n",
       "Name: infname, dtype: int64"
      ]
     },
     "execution_count": 18,
     "metadata": {},
     "output_type": "execute_result"
    }
   ],
   "source": [
    "leaf['infname'].value_counts()"
   ]
  },
  {
   "cell_type": "code",
   "execution_count": 20,
   "metadata": {},
   "outputs": [],
   "source": [
    "dleaf = leaf.loc[leaf['infname'] != False]"
   ]
  },
  {
   "cell_type": "code",
   "execution_count": 21,
   "metadata": {},
   "outputs": [
    {
     "data": {
      "text/plain": [
       "(87640, 20)"
      ]
     },
     "execution_count": 21,
     "metadata": {},
     "output_type": "execute_result"
    }
   ],
   "source": [
    "dleaf.shape"
   ]
  },
  {
   "cell_type": "code",
   "execution_count": 22,
   "metadata": {},
   "outputs": [
    {
     "data": {
      "text/plain": [
       "HundredGigE0/0/0/15    5516\n",
       "HundredGigE0/0/0/7     5516\n",
       "HundredGigE0/0/0/17    5516\n",
       "HundredGigE0/0/0/10    5516\n",
       "HundredGigE0/0/0/18    5516\n",
       "HundredGigE0/0/0/13    5516\n",
       "HundredGigE0/0/0/9     5516\n",
       "HundredGigE0/0/0/4     5516\n",
       "HundredGigE0/0/0/19    5516\n",
       "HundredGigE0/0/0/16    5516\n",
       "HundredGigE0/0/0/8     5516\n",
       "HundredGigE0/0/0/5     5516\n",
       "HundredGigE0/0/0/6     5516\n",
       "HundredGigE0/0/0/11    5516\n",
       "HundredGigE0/0/0/14    5208\n",
       "HundredGigE0/0/0/12    5208\n",
       "Name: interface-name, dtype: int64"
      ]
     },
     "execution_count": 22,
     "metadata": {},
     "output_type": "execute_result"
    }
   ],
   "source": [
    "dleaf['interface-name'].value_counts()"
   ]
  },
  {
   "cell_type": "code",
   "execution_count": 23,
   "metadata": {},
   "outputs": [
    {
     "name": "stderr",
     "output_type": "stream",
     "text": [
      "C:\\ProgramData\\Anaconda3\\lib\\site-packages\\ipykernel_launcher.py:1: SettingWithCopyWarning: \n",
      "A value is trying to be set on a copy of a slice from a DataFrame.\n",
      "Try using .loc[row_indexer,col_indexer] = value instead\n",
      "\n",
      "See the caveats in the documentation: http://pandas.pydata.org/pandas-docs/stable/indexing.html#indexing-view-versus-copy\n",
      "  \"\"\"Entry point for launching an IPython kernel.\n"
     ]
    }
   ],
   "source": [
    "dleaf['inst-code'] = dleaf['interface-name'].str[-2:]"
   ]
  },
  {
   "cell_type": "code",
   "execution_count": 25,
   "metadata": {},
   "outputs": [
    {
     "name": "stderr",
     "output_type": "stream",
     "text": [
      "C:\\ProgramData\\Anaconda3\\lib\\site-packages\\ipykernel_launcher.py:1: SettingWithCopyWarning: \n",
      "A value is trying to be set on a copy of a slice from a DataFrame.\n",
      "Try using .loc[row_indexer,col_indexer] = value instead\n",
      "\n",
      "See the caveats in the documentation: http://pandas.pydata.org/pandas-docs/stable/indexing.html#indexing-view-versus-copy\n",
      "  \"\"\"Entry point for launching an IPython kernel.\n"
     ]
    }
   ],
   "source": [
    "dleaf['inst-code'] = dleaf['inst-code'].replace(['/5','/6','/7','/8','/9','/4'],['5','6','7','8','9','4'])"
   ]
  },
  {
   "cell_type": "code",
   "execution_count": 27,
   "metadata": {},
   "outputs": [
    {
     "name": "stderr",
     "output_type": "stream",
     "text": [
      "C:\\ProgramData\\Anaconda3\\lib\\site-packages\\ipykernel_launcher.py:1: SettingWithCopyWarning: \n",
      "A value is trying to be set on a copy of a slice from a DataFrame.\n",
      "Try using .loc[row_indexer,col_indexer] = value instead\n",
      "\n",
      "See the caveats in the documentation: http://pandas.pydata.org/pandas-docs/stable/indexing.html#indexing-view-versus-copy\n",
      "  \"\"\"Entry point for launching an IPython kernel.\n"
     ]
    }
   ],
   "source": [
    "dleaf['inst-code'] = dleaf['inst-code'].astype(int)"
   ]
  },
  {
   "cell_type": "code",
   "execution_count": 29,
   "metadata": {},
   "outputs": [
    {
     "data": {
      "text/plain": [
       "19    5516\n",
       "18    5516\n",
       "17    5516\n",
       "16    5516\n",
       "15    5516\n",
       "13    5516\n",
       "11    5516\n",
       "10    5516\n",
       "9     5516\n",
       "8     5516\n",
       "7     5516\n",
       "6     5516\n",
       "5     5516\n",
       "4     5516\n",
       "14    5208\n",
       "12    5208\n",
       "Name: inst-code, dtype: int64"
      ]
     },
     "execution_count": 29,
     "metadata": {},
     "output_type": "execute_result"
    }
   ],
   "source": [
    "dleaf['inst-code'].value_counts()"
   ]
  },
  {
   "cell_type": "code",
   "execution_count": 33,
   "metadata": {},
   "outputs": [],
   "source": [
    "dleaf = dleaf.loc[dleaf.Producer != 'spine2']\n",
    "dleaf = dleaf.loc[dleaf.Producer != 'spine3']\n",
    "dleaf = dleaf.loc[dleaf.Producer != 'spine4']"
   ]
  },
  {
   "cell_type": "code",
   "execution_count": 36,
   "metadata": {
    "collapsed": true
   },
   "outputs": [],
   "source": [
    "dleaf = dleaf.loc[dleaf.Producer != 'spine1']\n",
    "dleaf = dleaf.loc[dleaf.Producer != 'dr03']\n",
    "dleaf = dleaf.loc[dleaf.Producer != 'dr02']\n",
    "dleaf = dleaf.loc[dleaf.Producer != 'dr01']"
   ]
  },
  {
   "cell_type": "code",
   "execution_count": 37,
   "metadata": {},
   "outputs": [
    {
     "data": {
      "text/plain": [
       "leaf7    6768\n",
       "leaf8    6752\n",
       "leaf4    6752\n",
       "leaf3    6720\n",
       "leaf2    6720\n",
       "leaf5    6720\n",
       "leaf1    6704\n",
       "leaf6    6704\n",
       "Name: Producer, dtype: int64"
      ]
     },
     "execution_count": 37,
     "metadata": {},
     "output_type": "execute_result"
    }
   ],
   "source": [
    "dleaf.Producer.value_counts()"
   ]
  },
  {
   "cell_type": "code",
   "execution_count": 38,
   "metadata": {
    "collapsed": true
   },
   "outputs": [],
   "source": [
    "from sklearn.preprocessing import LabelEncoder"
   ]
  },
  {
   "cell_type": "code",
   "execution_count": 39,
   "metadata": {
    "collapsed": true
   },
   "outputs": [],
   "source": [
    "a = LabelEncoder()"
   ]
  },
  {
   "cell_type": "code",
   "execution_count": 41,
   "metadata": {},
   "outputs": [
    {
     "data": {
      "text/plain": [
       "LabelEncoder()"
      ]
     },
     "execution_count": 41,
     "metadata": {},
     "output_type": "execute_result"
    }
   ],
   "source": [
    "a.fit(dleaf['Producer'])"
   ]
  },
  {
   "cell_type": "code",
   "execution_count": 42,
   "metadata": {
    "collapsed": true
   },
   "outputs": [],
   "source": [
    "dleaf['prodenc'] = a.transform(dleaf['Producer'])"
   ]
  },
  {
   "cell_type": "code",
   "execution_count": 43,
   "metadata": {
    "collapsed": true
   },
   "outputs": [],
   "source": [
    "out = dleaf['inst-code']"
   ]
  },
  {
   "cell_type": "code",
   "execution_count": 44,
   "metadata": {
    "collapsed": true
   },
   "outputs": [],
   "source": [
    "inp = dleaf[[ 'bandwidth',\n",
    "       'input-data-rate', 'input-load', 'input-packet-rate',\n",
    "       'load-interval','prodenc','output-data-rate', 'output-load',\n",
    "       'output-packet-rate', 'reliability', 'peak-input-data-rate',\n",
    "       'peak-output-data-rate', 'peak-input-packet-rate',\n",
    "       'peak-output-packet-rate']]"
   ]
  },
  {
   "cell_type": "code",
   "execution_count": 45,
   "metadata": {},
   "outputs": [
    {
     "name": "stderr",
     "output_type": "stream",
     "text": [
      "C:\\ProgramData\\Anaconda3\\lib\\site-packages\\sklearn\\cross_validation.py:41: DeprecationWarning: This module was deprecated in version 0.18 in favor of the model_selection module into which all the refactored classes and functions are moved. Also note that the interface of the new CV iterators are different from that of this module. This module will be removed in 0.20.\n",
      "  \"This module will be removed in 0.20.\", DeprecationWarning)\n"
     ]
    }
   ],
   "source": [
    "from sklearn.cross_validation import train_test_split\n",
    "x_train , y_train , x_test , y_test = train_test_split(inp , out , test_size = 0.2)"
   ]
  },
  {
   "cell_type": "code",
   "execution_count": 46,
   "metadata": {},
   "outputs": [
    {
     "data": {
      "text/plain": [
       "DecisionTreeClassifier(class_weight=None, criterion='gini', max_depth=None,\n",
       "            max_features=None, max_leaf_nodes=None,\n",
       "            min_impurity_decrease=0.0, min_impurity_split=None,\n",
       "            min_samples_leaf=1, min_samples_split=2,\n",
       "            min_weight_fraction_leaf=0.0, presort=False, random_state=None,\n",
       "            splitter='best')"
      ]
     },
     "execution_count": 46,
     "metadata": {},
     "output_type": "execute_result"
    }
   ],
   "source": [
    "from sklearn.tree import DecisionTreeClassifier\n",
    "mod = DecisionTreeClassifier()\n",
    "mod.fit(x_train , x_test)"
   ]
  },
  {
   "cell_type": "code",
   "execution_count": 47,
   "metadata": {
    "collapsed": true
   },
   "outputs": [],
   "source": [
    "pred = mod.predict(y_train)"
   ]
  },
  {
   "cell_type": "code",
   "execution_count": 48,
   "metadata": {
    "collapsed": true
   },
   "outputs": [],
   "source": [
    "from sklearn.metrics import accuracy_score"
   ]
  },
  {
   "cell_type": "code",
   "execution_count": 49,
   "metadata": {},
   "outputs": [
    {
     "data": {
      "text/plain": [
       "0.80488484398216942"
      ]
     },
     "execution_count": 49,
     "metadata": {},
     "output_type": "execute_result"
    }
   ],
   "source": [
    "accuracy_score(pred , y_test)"
   ]
  },
  {
   "cell_type": "code",
   "execution_count": 50,
   "metadata": {
    "collapsed": true
   },
   "outputs": [],
   "source": [
    "from sklearn.ensemble import RandomForestClassifier"
   ]
  },
  {
   "cell_type": "code",
   "execution_count": 51,
   "metadata": {
    "collapsed": true
   },
   "outputs": [],
   "source": [
    "mod1 = RandomForestClassifier()"
   ]
  },
  {
   "cell_type": "code",
   "execution_count": 52,
   "metadata": {},
   "outputs": [
    {
     "data": {
      "text/plain": [
       "RandomForestClassifier(bootstrap=True, class_weight=None, criterion='gini',\n",
       "            max_depth=None, max_features='auto', max_leaf_nodes=None,\n",
       "            min_impurity_decrease=0.0, min_impurity_split=None,\n",
       "            min_samples_leaf=1, min_samples_split=2,\n",
       "            min_weight_fraction_leaf=0.0, n_estimators=10, n_jobs=1,\n",
       "            oob_score=False, random_state=None, verbose=0,\n",
       "            warm_start=False)"
      ]
     },
     "execution_count": 52,
     "metadata": {},
     "output_type": "execute_result"
    }
   ],
   "source": [
    "mod1.fit(x_train , x_test)"
   ]
  },
  {
   "cell_type": "code",
   "execution_count": 53,
   "metadata": {},
   "outputs": [
    {
     "data": {
      "text/plain": [
       "0.8138001485884101"
      ]
     },
     "execution_count": 53,
     "metadata": {},
     "output_type": "execute_result"
    }
   ],
   "source": [
    "pred1 = mod1.predict(y_train)\n",
    "accuracy_score(pred1 , y_test)"
   ]
  },
  {
   "cell_type": "code",
   "execution_count": 54,
   "metadata": {
    "collapsed": true
   },
   "outputs": [],
   "source": [
    "from sklearn.ensemble import GradientBoostingClassifier"
   ]
  },
  {
   "cell_type": "code",
   "execution_count": 55,
   "metadata": {
    "collapsed": true
   },
   "outputs": [],
   "source": [
    "clf = GradientBoostingClassifier()"
   ]
  },
  {
   "cell_type": "code",
   "execution_count": 56,
   "metadata": {},
   "outputs": [
    {
     "data": {
      "text/plain": [
       "GradientBoostingClassifier(criterion='friedman_mse', init=None,\n",
       "              learning_rate=0.1, loss='deviance', max_depth=3,\n",
       "              max_features=None, max_leaf_nodes=None,\n",
       "              min_impurity_decrease=0.0, min_impurity_split=None,\n",
       "              min_samples_leaf=1, min_samples_split=2,\n",
       "              min_weight_fraction_leaf=0.0, n_estimators=100,\n",
       "              presort='auto', random_state=None, subsample=1.0, verbose=0,\n",
       "              warm_start=False)"
      ]
     },
     "execution_count": 56,
     "metadata": {},
     "output_type": "execute_result"
    }
   ],
   "source": [
    "clf.fit(x_train , x_test)"
   ]
  },
  {
   "cell_type": "code",
   "execution_count": 57,
   "metadata": {
    "collapsed": true
   },
   "outputs": [],
   "source": [
    "pred2 = clf.predict(y_train)"
   ]
  },
  {
   "cell_type": "code",
   "execution_count": 59,
   "metadata": {},
   "outputs": [
    {
     "data": {
      "text/plain": [
       "0.71043833580980686"
      ]
     },
     "execution_count": 59,
     "metadata": {},
     "output_type": "execute_result"
    }
   ],
   "source": [
    "accuracy_score(pred2 , y_test)"
   ]
  },
  {
   "cell_type": "code",
   "execution_count": 60,
   "metadata": {
    "collapsed": true
   },
   "outputs": [],
   "source": [
    "dleaf.to_csv('dleaf.csv')"
   ]
  },
  {
   "cell_type": "code",
   "execution_count": null,
   "metadata": {
    "collapsed": true
   },
   "outputs": [],
   "source": []
  }
 ],
 "metadata": {
  "kernelspec": {
   "display_name": "Python 3",
   "language": "python",
   "name": "python3"
  },
  "language_info": {
   "codemirror_mode": {
    "name": "ipython",
    "version": 3
   },
   "file_extension": ".py",
   "mimetype": "text/x-python",
   "name": "python",
   "nbconvert_exporter": "python",
   "pygments_lexer": "ipython3",
   "version": "3.6.1"
  }
 },
 "nbformat": 4,
 "nbformat_minor": 2
}
